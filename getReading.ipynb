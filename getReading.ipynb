{
 "cells": [
  {
   "cell_type": "markdown",
   "metadata": {},
   "source": [
    "# Setup - libraries and functions"
   ]
  },
  {
   "cell_type": "code",
   "execution_count": 1,
   "metadata": {},
   "outputs": [],
   "source": [
    "import requests\n",
    "import os\n",
    "import json\n",
    "import pandas as pd\n",
    "import plotly.graph_objects as go\n",
    "from datetime import datetime\n",
    "from dotenv import load_dotenv\n",
    "from git import Repo\n"
   ]
  },
  {
   "cell_type": "code",
   "execution_count": 2,
   "metadata": {},
   "outputs": [
    {
     "name": "stdout",
     "output_type": "stream",
     "text": [
      " ... Current dir is ., Raw data saved to ./data-raw\n"
     ]
    }
   ],
   "source": [
    "# Get the API key\n",
    "load_dotenv()\n",
    "api_key = os.getenv('API_KEY')\n",
    "\n",
    "dir_current = os.curdir\n",
    "dir_data_raw = f'{dir_current}/data-raw'\n",
    "dir_cumulative = f'{dir_current}/data-cumulative'\n",
    "dir_repo = f'{dir_current}/.git'\n",
    "repo = Repo(dir_repo)\n",
    "\n",
    "print(f' ... Current dir is {dir_current}, Raw data saved to {dir_data_raw}')"
   ]
  },
  {
   "cell_type": "code",
   "execution_count": 3,
   "metadata": {},
   "outputs": [],
   "source": [
    "def report_timespan(df):\n",
    "    df['interval_start'] = pd.to_datetime(df['interval_start'])\n",
    "\n",
    "    date_start = df['interval_start'].min().strftime('%a %Y-%m-%d %H:%M')\n",
    "    date_final = df['interval_start'].max().strftime('%a %Y-%m-%d %H:%M')\n",
    "\n",
    "    print(f' ... From {date_start} to {date_final}')"
   ]
  },
  {
   "cell_type": "code",
   "execution_count": 4,
   "metadata": {},
   "outputs": [],
   "source": [
    "def get_raw_usage_data(utility, sort = True, save = True, verbose = True):\n",
    "\n",
    "    if not utility in ['electricity', 'gas']:\n",
    "        raise ValueError('utility must be either \"electricity\" or \"gas\"')\n",
    "    \n",
    "    electric_url = \"https://api.octopus.energy/v1/electricity-meter-points/1200039599083/meters/24J0348055/consumption/\"\n",
    "    gas_url = \"https://api.octopus.energy/v1/gas-meter-points/620841506/meters/E6S17881452061/consumption/\"\n",
    "    \n",
    "    if utility == 'electricity':\n",
    "        url = electric_url\n",
    "    elif utility == 'gas':\n",
    "        url = gas_url\n",
    "    \n",
    "    response = requests.get(url, auth=(api_key, \"\")) \n",
    "    data = response.json()['results']\n",
    "    df = pd.DataFrame(data)\n",
    "    \n",
    "    if save:\n",
    "        print(f\"Status Code ({utility}): {response.status_code}\")\n",
    "        file_raw_data = f'{dir_data_raw}/{datetime.now().strftime('%Y-%m-%d')}_rawdata_{utility}.csv'\n",
    "        df.to_csv(file_raw_data, index = False)\n",
    "        print(f' ... Saving as {file_raw_data}')\n",
    "        print(f' ... Records {df.shape[0]}')\n",
    "        print(f' ... Variables {df.shape[1]} : {df.columns}')\n",
    "        if verbose: report_timespan(df)\n",
    "    else:\n",
    "        if verbose: report_timespan(df)\n",
    "\n",
    "    df.columns = [f'{utility}_consumption', 'interval_start', 'interval_end']\n",
    "    if sort:\n",
    "        df = df.sort_values(by='interval_start', ascending=True)\n",
    "\n",
    "    return df"
   ]
  },
  {
   "cell_type": "code",
   "execution_count": 5,
   "metadata": {},
   "outputs": [],
   "source": [
    "def get_utility_data(directory, utility = 'gas'):\n",
    "\n",
    "    \"\"\"Returns a list of CSV files in the given directory.\"\"\"\n",
    "    raw_files = [file for file in os.listdir(directory) if file.endswith(\".csv\") and 'rawdata' in file and utility in file]\n",
    "\n",
    "    dfs = [pd.read_csv(f'{directory}/{file}') for file in raw_files]  # Read each CSV file into a DataFrame\n",
    "    df_combined = pd.concat(dfs, ignore_index=True)  # Concatenate all DataFrames\n",
    "    df_unique = df_combined.drop_duplicates(subset=['interval_start', 'interval_end']).copy()\n",
    "    df_unique.columns = [f'{utility}_consumption','interval_start', 'interval_end']\n",
    "\n",
    "    df_unique['weekday'] = df_unique['interval_start'].apply(lambda x: datetime.strptime(x, '%Y-%m-%dT%H:%M:%SZ').strftime('%a'))\n",
    "    df_unique['day'] = df_unique['interval_start'].apply(lambda x: datetime.strptime(x, '%Y-%m-%dT%H:%M:%SZ').strftime('%Y-%m-%d'))\n",
    "    df_unique['dom'] = df_unique['interval_start'].apply(lambda x: datetime.strptime(x, '%Y-%m-%dT%H:%M:%SZ').strftime('%m-%d'))\n",
    "    df_unique['time'] = df_unique['interval_start'].apply(lambda x: datetime.strptime(x, '%Y-%m-%dT%H:%M:%SZ').strftime('%H:%M'))\n",
    "    df_unique['x_label'] = df_unique.apply(lambda row: f\"{row['weekday']} {row['dom']} {row['time']}\", axis=1)\n",
    "    df_unique = df_unique.sort_values(by=['day', 'time'], ascending=True)\n",
    "\n",
    "    print(f' ... Cumulative data for {utility}, {df_unique.shape[0]} records')\n",
    "    report_timespan(df_unique)\n",
    "    return(df_unique)\n"
   ]
  },
  {
   "cell_type": "code",
   "execution_count": 6,
   "metadata": {},
   "outputs": [],
   "source": [
    "def get_plot(df, utility = 'both', value = 'cost'):\n",
    "\n",
    "    # Create the plot\n",
    "    fig = go.Figure()\n",
    "\n",
    "    if value == 'cost':\n",
    "        df['gas_plot'] = df['gas_cost']\n",
    "        df['electricity_plot'] = df['electricity_cost']\n",
    "        y_title = \"Cost (£)\"\n",
    "    elif value == 'consumption':\n",
    "        df['gas_plot'] = df['gas_consumption']\n",
    "        df['electricity_plot'] = df['electricity_consumption']  \n",
    "        y_title = \"Consumption (kWh)\"\n",
    "\n",
    "    plot_title = f\"Energy {y_title} Over Time\"\n",
    "\n",
    "    # Plot electricity consumption\n",
    "    if utility == 'electricity' or utility == 'both':\n",
    "        fig.add_trace(go.Scatter(\n",
    "            x=df['x_label'], \n",
    "            y=df['electricity_plot'], \n",
    "            mode='lines+markers', \n",
    "            name='Electricity', \n",
    "            line=dict(color='blue')\n",
    "        ))\n",
    "\n",
    "    # Plot gas consumption\n",
    "    if utility == 'gas' or utility == 'both':\n",
    "        fig.add_trace(go.Scatter(\n",
    "            x=df['x_label'], \n",
    "            y=df['gas_plot'], \n",
    "            mode='lines+markers', \n",
    "            name='Gas', \n",
    "            line=dict(color='red')\n",
    "        ))\n",
    "\n",
    "    # Update layout\n",
    "    fig.update_layout(\n",
    "        title = plot_title,\n",
    "        xaxis_title = \"Time Interval (Start)\",\n",
    "        yaxis_title = y_title,\n",
    "        xaxis=dict(tickangle=45),\n",
    "        template=\"plotly_white\"\n",
    "    )\n",
    "\n",
    "    # Show the plot\n",
    "    return(fig)\n",
    "    #fig.show()"
   ]
  },
  {
   "cell_type": "markdown",
   "metadata": {},
   "source": [
    "# Get new data"
   ]
  },
  {
   "cell_type": "code",
   "execution_count": 7,
   "metadata": {},
   "outputs": [
    {
     "name": "stdout",
     "output_type": "stream",
     "text": [
      "Status Code (electricity): 200\n",
      " ... Saving as ./data-raw/2025-03-07_rawdata_electricity.csv\n",
      " ... Records 100\n",
      " ... Variables 3 : Index(['consumption', 'interval_start', 'interval_end'], dtype='object')\n",
      " ... From Mon 2025-03-03 22:00 to Wed 2025-03-05 23:30\n",
      "Status Code (gas): 200\n",
      " ... Saving as ./data-raw/2025-03-07_rawdata_gas.csv\n",
      " ... Records 100\n",
      " ... Variables 3 : Index(['consumption', 'interval_start', 'interval_end'], dtype='object')\n",
      " ... From Mon 2025-03-03 22:00 to Wed 2025-03-05 23:30\n"
     ]
    }
   ],
   "source": [
    "# get data from octopus as a dataframe\n",
    "df_electricity = get_raw_usage_data('electricity')\n",
    "df_gas = get_raw_usage_data('gas')"
   ]
  },
  {
   "cell_type": "code",
   "execution_count": 8,
   "metadata": {},
   "outputs": [
    {
     "name": "stdout",
     "output_type": "stream",
     "text": [
      " ... Cumulative data for gas, 1924 records\n",
      " ... From Fri 2025-01-24 22:00 to Wed 2025-03-05 23:30\n",
      " ... Cumulative data for electricity, 1880 records\n",
      " ... From Fri 2025-01-24 22:00 to Wed 2025-03-05 23:30\n",
      " ... MERGED dataset, saved to ./data-cumulative/cumulative.csv\n",
      " ... From Fri 2025-01-24 22:00 to Wed 2025-03-05 23:30\n"
     ]
    }
   ],
   "source": [
    "# create a df with both readings in where dates exist for both\n",
    "df_gas = get_utility_data(dir_data_raw, utility = 'gas')\n",
    "df_electricity = get_utility_data(dir_data_raw, utility = 'electricity')\n",
    "\n",
    "df_both = pd.merge(df_gas, \n",
    "                   df_electricity[['electricity_consumption','interval_start']], \n",
    "                   on='interval_start', how='outer')\n",
    "df_both = df_both.sort_values(by='interval_start', ascending=True)\n",
    "\n",
    "# save\n",
    "file_cumulative = f'{dir_cumulative}/cumulative.csv'\n",
    "df_both.to_csv(file_cumulative, index=False)\n",
    "print(f' ... MERGED dataset, saved to {file_cumulative}')\n",
    "report_timespan(df_both)"
   ]
  },
  {
   "cell_type": "markdown",
   "metadata": {},
   "source": [
    "# Push to github"
   ]
  },
  {
   "cell_type": "code",
   "execution_count": 17,
   "metadata": {},
   "outputs": [
    {
     "name": "stdout",
     "output_type": "stream",
     "text": [
      "Commit via GitPython - Thursday 2025-02-27 20:24\n"
     ]
    },
    {
     "data": {
      "text/plain": [
       "[<git.remote.PushInfo at 0x27f34635fd0>]"
      ]
     },
     "execution_count": 17,
     "metadata": {},
     "output_type": "execute_result"
    }
   ],
   "source": [
    "# Stage, commit, and push changes\n",
    "repo.git.add(\".\")\n",
    "git_message = f'Commit via GitPython - {datetime.now().strftime('%A %Y-%m-%d %H:%M')}'\n",
    "print(git_message)\n",
    "repo.index.commit(git_message)\n",
    "origin = repo.remote(name='origin')\n",
    "origin.push()"
   ]
  },
  {
   "cell_type": "markdown",
   "metadata": {},
   "source": [
    "# Run charts"
   ]
  },
  {
   "cell_type": "code",
   "execution_count": 9,
   "metadata": {},
   "outputs": [
    {
     "name": "stdout",
     "output_type": "stream",
     "text": [
      "['2025-03-04', '2025-03-03', '2025-03-02', '2025-03-01']\n"
     ]
    },
    {
     "data": {
      "application/vnd.plotly.v1+json": {
       "config": {
        "plotlyServerURL": "https://plot.ly"
       },
       "data": [
        {
         "line": {
          "color": "blue"
         },
         "mode": "lines+markers",
         "name": "Electricity",
         "type": "scatter",
         "x": [
          "Sat 03-01 00:00",
          "Sat 03-01 00:30",
          "Sat 03-01 01:00",
          "Sat 03-01 01:30",
          "Sat 03-01 02:00",
          "Sat 03-01 02:30",
          "Sat 03-01 03:00",
          "Sat 03-01 03:30",
          "Sat 03-01 04:00",
          "Sat 03-01 04:30",
          "Sat 03-01 05:00",
          "Sat 03-01 05:30",
          "Sat 03-01 06:00",
          "Sat 03-01 06:30",
          "Sat 03-01 07:00",
          "Sat 03-01 07:30",
          "Sat 03-01 08:00",
          "Sat 03-01 08:30",
          "Sat 03-01 09:00",
          "Sat 03-01 09:30",
          "Sat 03-01 10:00",
          "Sat 03-01 10:30",
          "Sat 03-01 11:00",
          "Sat 03-01 11:30",
          "Sat 03-01 12:00",
          "Sat 03-01 12:30",
          "Sat 03-01 13:00",
          "Sat 03-01 13:30",
          "Sat 03-01 14:00",
          "Sat 03-01 14:30",
          "Sat 03-01 15:00",
          "Sat 03-01 15:30",
          "Sat 03-01 16:00",
          "Sat 03-01 16:30",
          "Sat 03-01 17:00",
          "Sat 03-01 17:30",
          "Sat 03-01 18:00",
          "Sat 03-01 18:30",
          "Sat 03-01 19:00",
          "Sat 03-01 19:30",
          "Sat 03-01 20:00",
          "Sat 03-01 20:30",
          "Sat 03-01 21:00",
          "Sat 03-01 21:30",
          "Sat 03-01 22:00",
          "Sat 03-01 22:30",
          "Sat 03-01 23:00",
          "Sat 03-01 23:30",
          "Sun 03-02 00:00",
          "Sun 03-02 00:30",
          "Sun 03-02 01:00",
          "Sun 03-02 01:30",
          "Sun 03-02 02:00",
          "Sun 03-02 02:30",
          "Sun 03-02 03:00",
          "Sun 03-02 03:30",
          "Sun 03-02 04:00",
          "Sun 03-02 04:30",
          "Sun 03-02 05:00",
          "Sun 03-02 05:30",
          "Sun 03-02 06:00",
          "Sun 03-02 06:30",
          "Sun 03-02 07:00",
          "Sun 03-02 07:30",
          "Sun 03-02 08:00",
          "Sun 03-02 08:30",
          "Sun 03-02 09:00",
          "Sun 03-02 09:30",
          "Sun 03-02 10:00",
          "Sun 03-02 10:30",
          "Sun 03-02 11:00",
          "Sun 03-02 11:30",
          "Sun 03-02 12:00",
          "Sun 03-02 12:30",
          "Sun 03-02 13:00",
          "Sun 03-02 13:30",
          "Sun 03-02 14:00",
          "Sun 03-02 14:30",
          "Sun 03-02 15:00",
          "Sun 03-02 15:30",
          "Sun 03-02 16:00",
          "Sun 03-02 16:30",
          "Sun 03-02 17:00",
          "Sun 03-02 17:30",
          "Sun 03-02 18:00",
          "Sun 03-02 18:30",
          "Sun 03-02 19:00",
          "Sun 03-02 19:30",
          "Sun 03-02 20:00",
          "Sun 03-02 20:30",
          "Sun 03-02 21:00",
          "Sun 03-02 21:30",
          "Sun 03-02 22:00",
          "Sun 03-02 22:30",
          "Sun 03-02 23:00",
          "Sun 03-02 23:30",
          "Mon 03-03 00:00",
          "Mon 03-03 00:30",
          "Mon 03-03 01:00",
          "Mon 03-03 01:30",
          "Mon 03-03 02:00",
          "Mon 03-03 02:30",
          "Mon 03-03 03:00",
          "Mon 03-03 03:30",
          "Mon 03-03 04:00",
          "Mon 03-03 04:30",
          "Mon 03-03 05:00",
          "Mon 03-03 05:30",
          "Mon 03-03 06:00",
          "Mon 03-03 06:30",
          "Mon 03-03 07:00",
          "Mon 03-03 07:30",
          "Mon 03-03 08:00",
          "Mon 03-03 08:30",
          "Mon 03-03 09:00",
          "Mon 03-03 09:30",
          "Mon 03-03 10:00",
          "Mon 03-03 10:30",
          "Mon 03-03 11:00",
          "Mon 03-03 11:30",
          "Mon 03-03 12:00",
          "Mon 03-03 12:30",
          "Mon 03-03 13:00",
          "Mon 03-03 13:30",
          "Mon 03-03 14:00",
          "Mon 03-03 14:30",
          "Mon 03-03 15:00",
          "Mon 03-03 15:30",
          "Mon 03-03 16:00",
          "Mon 03-03 16:30",
          "Mon 03-03 17:00",
          "Mon 03-03 17:30",
          "Mon 03-03 18:00",
          "Mon 03-03 18:30",
          "Mon 03-03 19:00",
          "Mon 03-03 19:30",
          "Mon 03-03 20:00",
          "Mon 03-03 20:30",
          "Mon 03-03 21:00",
          "Mon 03-03 21:30",
          "Mon 03-03 22:00",
          "Mon 03-03 22:30",
          "Mon 03-03 23:00",
          "Mon 03-03 23:30",
          "Tue 03-04 00:00",
          "Tue 03-04 00:30",
          "Tue 03-04 01:00",
          "Tue 03-04 01:30",
          "Tue 03-04 02:00",
          "Tue 03-04 02:30",
          "Tue 03-04 03:00",
          "Tue 03-04 03:30",
          "Tue 03-04 04:00",
          "Tue 03-04 04:30",
          "Tue 03-04 05:00",
          "Tue 03-04 05:30",
          "Tue 03-04 06:00",
          "Tue 03-04 06:30",
          "Tue 03-04 07:00",
          "Tue 03-04 07:30",
          "Tue 03-04 08:00",
          "Tue 03-04 08:30",
          "Tue 03-04 09:00",
          "Tue 03-04 09:30",
          "Tue 03-04 10:00",
          "Tue 03-04 10:30",
          "Tue 03-04 11:00",
          "Tue 03-04 11:30",
          "Tue 03-04 12:00",
          "Tue 03-04 12:30",
          "Tue 03-04 13:00",
          "Tue 03-04 13:30",
          "Tue 03-04 14:00",
          "Tue 03-04 14:30",
          "Tue 03-04 15:00",
          "Tue 03-04 15:30",
          "Tue 03-04 16:00",
          "Tue 03-04 16:30",
          "Tue 03-04 17:00",
          "Tue 03-04 17:30",
          "Tue 03-04 18:00",
          "Tue 03-04 18:30",
          "Tue 03-04 19:00",
          "Tue 03-04 19:30",
          "Tue 03-04 20:00",
          "Tue 03-04 20:30",
          "Tue 03-04 21:00",
          "Tue 03-04 21:30",
          "Tue 03-04 22:00",
          "Tue 03-04 22:30",
          "Tue 03-04 23:00",
          "Tue 03-04 23:30"
         ],
         "y": [
          0.0211086,
          0.0161572,
          0.0203268,
          0.019545,
          0.018502599999999998,
          0.017460200000000002,
          0.017460200000000002,
          0.015114800000000001,
          0.016939,
          0.0164178,
          0.01303,
          0.0198056,
          0.015114800000000001,
          0.0145936,
          0.0198056,
          0.0127694,
          0.017460200000000002,
          0.0810466,
          0.016939,
          0.019023799999999997,
          0.017460200000000002,
          0.0330962,
          0.0192844,
          0.0200662,
          0.015636,
          0.0179814,
          0.034920400000000004,
          0.018763199999999997,
          0.0231934,
          0.0211086,
          0.1740808,
          0.0998098,
          0.0315326,
          0.0294478,
          0.0422172,
          0.018242,
          0.0357022,
          0.1190942,
          0.10502180000000001,
          0.0875616,
          0.0294478,
          0.0281448,
          0.036744599999999995,
          0.017720800000000002,
          0.0216298,
          0.0198056,
          0.0148542,
          0.0192844,
          0.0145936,
          0.0140724,
          0.017460200000000002,
          0.01303,
          0.0153754,
          0.0158966,
          0.0132906,
          0.017720800000000002,
          0.018242,
          0.037005199999999995,
          0.035441600000000004,
          0.0216298,
          0.016939,
          0.0200662,
          0.0198056,
          0.015114800000000001,
          0.0669742,
          0.0252782,
          0.017199600000000002,
          0.019023799999999997,
          0.0205874,
          0.032575,
          0.0179814,
          0.018502599999999998,
          0.0140724,
          0.061762199999999996,
          0.085998,
          0.017199600000000002,
          0.018502599999999998,
          0.0132906,
          0.018502599999999998,
          0.0161572,
          0.0153754,
          0.014333,
          0.017199600000000002,
          0.0127694,
          0.017720800000000002,
          0.0198056,
          0.0440414,
          0.0317932,
          0.027623599999999998,
          0.032575,
          0.0211086,
          0.03909,
          0.0229328,
          0.0205874,
          0.0132906,
          0.015114800000000001,
          0.0161572,
          0.01303,
          0.0164178,
          0.0153754,
          0.0132906,
          0.017460200000000002,
          0.0161572,
          0.018502599999999998,
          0.017460200000000002,
          0.016939,
          0.0192844,
          0.015636,
          0.0161572,
          0.018763199999999997,
          0.015636,
          0.046908,
          0.0427384,
          0.0229328,
          0.0766164,
          0.063847,
          0.062283399999999996,
          0.0672348,
          0.1886744,
          0.06905900000000001,
          0.0714044,
          0.12352439999999999,
          0.07609519999999999,
          0.0779194,
          0.052641200000000006,
          0.0213692,
          0.0406536,
          0.0268418,
          0.0242358,
          0.0200662,
          0.0362234,
          0.0218904,
          0.0237146,
          0.0284054,
          0.036744599999999995,
          0.0440414,
          0.0359628,
          0.0229328,
          0.0203268,
          0.019023799999999997,
          0.0166784,
          0.0211086,
          0.018242,
          0.0166784,
          0.0218904,
          0.016939,
          0.0179814,
          0.0211086,
          0.017460200000000002,
          0.0213692,
          0.020848000000000002,
          0.018763199999999997,
          0.022151,
          0.0192844,
          0.0192844,
          0.0200662,
          0.0164178,
          0.018763199999999997,
          0.0192844,
          0.0200662,
          0.0815678,
          0.0294478,
          0.059938000000000005,
          0.1000704,
          0.0680166,
          0.0409142,
          0.0773982,
          0.158966,
          0.0427384,
          0.0411748,
          0.0255388,
          0.0226722,
          0.0239752,
          0.0216298,
          0.0218904,
          0.0226722,
          0.0198056,
          0.0216298,
          0.0200662,
          0.0237146,
          0.0289266,
          0.12404559999999999,
          0.029969000000000003,
          0.1959712,
          0.0328356,
          0.024757,
          0.0294478,
          0.0252782,
          0.032575,
          0.1594872,
          0.0252782,
          0.0271024
         ]
        },
        {
         "line": {
          "color": "red"
         },
         "mode": "lines+markers",
         "name": "Gas",
         "type": "scatter",
         "x": [
          "Sat 03-01 00:00",
          "Sat 03-01 00:30",
          "Sat 03-01 01:00",
          "Sat 03-01 01:30",
          "Sat 03-01 02:00",
          "Sat 03-01 02:30",
          "Sat 03-01 03:00",
          "Sat 03-01 03:30",
          "Sat 03-01 04:00",
          "Sat 03-01 04:30",
          "Sat 03-01 05:00",
          "Sat 03-01 05:30",
          "Sat 03-01 06:00",
          "Sat 03-01 06:30",
          "Sat 03-01 07:00",
          "Sat 03-01 07:30",
          "Sat 03-01 08:00",
          "Sat 03-01 08:30",
          "Sat 03-01 09:00",
          "Sat 03-01 09:30",
          "Sat 03-01 10:00",
          "Sat 03-01 10:30",
          "Sat 03-01 11:00",
          "Sat 03-01 11:30",
          "Sat 03-01 12:00",
          "Sat 03-01 12:30",
          "Sat 03-01 13:00",
          "Sat 03-01 13:30",
          "Sat 03-01 14:00",
          "Sat 03-01 14:30",
          "Sat 03-01 15:00",
          "Sat 03-01 15:30",
          "Sat 03-01 16:00",
          "Sat 03-01 16:30",
          "Sat 03-01 17:00",
          "Sat 03-01 17:30",
          "Sat 03-01 18:00",
          "Sat 03-01 18:30",
          "Sat 03-01 19:00",
          "Sat 03-01 19:30",
          "Sat 03-01 20:00",
          "Sat 03-01 20:30",
          "Sat 03-01 21:00",
          "Sat 03-01 21:30",
          "Sat 03-01 22:00",
          "Sat 03-01 22:30",
          "Sat 03-01 23:00",
          "Sat 03-01 23:30",
          "Sun 03-02 00:00",
          "Sun 03-02 00:30",
          "Sun 03-02 01:00",
          "Sun 03-02 01:30",
          "Sun 03-02 02:00",
          "Sun 03-02 02:30",
          "Sun 03-02 03:00",
          "Sun 03-02 03:30",
          "Sun 03-02 04:00",
          "Sun 03-02 04:30",
          "Sun 03-02 05:00",
          "Sun 03-02 05:30",
          "Sun 03-02 06:00",
          "Sun 03-02 06:30",
          "Sun 03-02 07:00",
          "Sun 03-02 07:30",
          "Sun 03-02 08:00",
          "Sun 03-02 08:30",
          "Sun 03-02 09:00",
          "Sun 03-02 09:30",
          "Sun 03-02 10:00",
          "Sun 03-02 10:30",
          "Sun 03-02 11:00",
          "Sun 03-02 11:30",
          "Sun 03-02 12:00",
          "Sun 03-02 12:30",
          "Sun 03-02 13:00",
          "Sun 03-02 13:30",
          "Sun 03-02 14:00",
          "Sun 03-02 14:30",
          "Sun 03-02 15:00",
          "Sun 03-02 15:30",
          "Sun 03-02 16:00",
          "Sun 03-02 16:30",
          "Sun 03-02 17:00",
          "Sun 03-02 17:30",
          "Sun 03-02 18:00",
          "Sun 03-02 18:30",
          "Sun 03-02 19:00",
          "Sun 03-02 19:30",
          "Sun 03-02 20:00",
          "Sun 03-02 20:30",
          "Sun 03-02 21:00",
          "Sun 03-02 21:30",
          "Sun 03-02 22:00",
          "Sun 03-02 22:30",
          "Sun 03-02 23:00",
          "Sun 03-02 23:30",
          "Mon 03-03 00:00",
          "Mon 03-03 00:30",
          "Mon 03-03 01:00",
          "Mon 03-03 01:30",
          "Mon 03-03 02:00",
          "Mon 03-03 02:30",
          "Mon 03-03 03:00",
          "Mon 03-03 03:30",
          "Mon 03-03 04:00",
          "Mon 03-03 04:30",
          "Mon 03-03 05:00",
          "Mon 03-03 05:30",
          "Mon 03-03 06:00",
          "Mon 03-03 06:30",
          "Mon 03-03 07:00",
          "Mon 03-03 07:30",
          "Mon 03-03 08:00",
          "Mon 03-03 08:30",
          "Mon 03-03 09:00",
          "Mon 03-03 09:30",
          "Mon 03-03 10:00",
          "Mon 03-03 10:30",
          "Mon 03-03 11:00",
          "Mon 03-03 11:30",
          "Mon 03-03 12:00",
          "Mon 03-03 12:30",
          "Mon 03-03 13:00",
          "Mon 03-03 13:30",
          "Mon 03-03 14:00",
          "Mon 03-03 14:30",
          "Mon 03-03 15:00",
          "Mon 03-03 15:30",
          "Mon 03-03 16:00",
          "Mon 03-03 16:30",
          "Mon 03-03 17:00",
          "Mon 03-03 17:30",
          "Mon 03-03 18:00",
          "Mon 03-03 18:30",
          "Mon 03-03 19:00",
          "Mon 03-03 19:30",
          "Mon 03-03 20:00",
          "Mon 03-03 20:30",
          "Mon 03-03 21:00",
          "Mon 03-03 21:30",
          "Mon 03-03 22:00",
          "Mon 03-03 22:30",
          "Mon 03-03 23:00",
          "Mon 03-03 23:30",
          "Tue 03-04 00:00",
          "Tue 03-04 00:30",
          "Tue 03-04 01:00",
          "Tue 03-04 01:30",
          "Tue 03-04 02:00",
          "Tue 03-04 02:30",
          "Tue 03-04 03:00",
          "Tue 03-04 03:30",
          "Tue 03-04 04:00",
          "Tue 03-04 04:30",
          "Tue 03-04 05:00",
          "Tue 03-04 05:30",
          "Tue 03-04 06:00",
          "Tue 03-04 06:30",
          "Tue 03-04 07:00",
          "Tue 03-04 07:30",
          "Tue 03-04 08:00",
          "Tue 03-04 08:30",
          "Tue 03-04 09:00",
          "Tue 03-04 09:30",
          "Tue 03-04 10:00",
          "Tue 03-04 10:30",
          "Tue 03-04 11:00",
          "Tue 03-04 11:30",
          "Tue 03-04 12:00",
          "Tue 03-04 12:30",
          "Tue 03-04 13:00",
          "Tue 03-04 13:30",
          "Tue 03-04 14:00",
          "Tue 03-04 14:30",
          "Tue 03-04 15:00",
          "Tue 03-04 15:30",
          "Tue 03-04 16:00",
          "Tue 03-04 16:30",
          "Tue 03-04 17:00",
          "Tue 03-04 17:30",
          "Tue 03-04 18:00",
          "Tue 03-04 18:30",
          "Tue 03-04 19:00",
          "Tue 03-04 19:30",
          "Tue 03-04 20:00",
          "Tue 03-04 20:30",
          "Tue 03-04 21:00",
          "Tue 03-04 21:30",
          "Tue 03-04 22:00",
          "Tue 03-04 22:30",
          "Tue 03-04 23:00",
          "Tue 03-04 23:30"
         ],
         "y": [
          0,
          0,
          0.129479436,
          0,
          0.143786556,
          0,
          0.16524723600000002,
          0.15594760800000002,
          0,
          0.149509404,
          0,
          0.14450191200000004,
          0.15594760800000002,
          0.004292136,
          0.16023974400000002,
          0,
          0.170254728,
          0.027898884000000002,
          0.13877906400000004,
          0,
          0,
          0.29258060399999997,
          0,
          0.173831508,
          0,
          0.007153560000000001,
          0.002146068,
          0,
          0,
          0,
          0,
          0,
          0,
          0,
          0,
          0,
          0,
          0.035052444,
          0,
          0,
          0,
          0.002146068,
          0,
          0,
          0,
          0,
          0,
          0,
          0,
          0,
          0,
          0,
          0,
          0,
          0,
          0,
          0,
          0.134486928,
          0.152370828,
          0,
          0.17669293200000002,
          0.172400796,
          0.16023974400000002,
          0.033621732,
          0.19958432400000004,
          0.23177534400000002,
          0,
          0,
          0,
          0,
          0,
          0,
          0,
          0.002861424,
          0.002861424,
          0,
          0.061520616,
          0,
          0,
          0,
          0,
          0,
          0,
          0,
          0,
          0.001430712,
          0.007868916,
          0,
          0,
          0,
          0,
          0,
          0,
          0,
          0,
          0,
          0,
          0,
          0,
          0,
          0,
          0,
          0,
          0,
          0,
          0,
          0,
          0,
          0,
          0,
          0,
          0,
          0,
          0,
          0,
          0,
          0,
          0.14879404799999998,
          0.001430712,
          0,
          0,
          0.001430712,
          0.002146068,
          0.010014984000000001,
          0,
          0,
          0,
          0,
          0,
          0,
          0.044352072,
          0,
          0,
          0,
          0.02146068,
          0,
          0,
          0,
          0,
          0,
          0,
          0,
          0,
          0,
          0,
          0,
          0,
          0,
          0,
          0,
          0,
          0,
          0,
          0,
          0,
          0,
          0,
          0,
          0,
          0,
          0,
          0,
          0,
          0.517917744,
          0.437797872,
          0.23535212400000002,
          0.2503746,
          0.19171540800000003,
          0.27040456800000007,
          0.21746822400000002,
          0.177408288,
          0.17526222,
          0.140209776,
          0.21103002,
          0,
          0.148078692,
          0,
          0,
          0,
          0,
          0.345516948,
          0.247513176,
          0.15380154000000001,
          0.15594760800000002,
          0.188853984,
          0.19529218800000003,
          0.09228092400000001,
          0.085127364,
          0.179554356,
          0,
          0,
          0
         ]
        }
       ],
       "layout": {
        "template": {
         "data": {
          "bar": [
           {
            "error_x": {
             "color": "#2a3f5f"
            },
            "error_y": {
             "color": "#2a3f5f"
            },
            "marker": {
             "line": {
              "color": "white",
              "width": 0.5
             },
             "pattern": {
              "fillmode": "overlay",
              "size": 10,
              "solidity": 0.2
             }
            },
            "type": "bar"
           }
          ],
          "barpolar": [
           {
            "marker": {
             "line": {
              "color": "white",
              "width": 0.5
             },
             "pattern": {
              "fillmode": "overlay",
              "size": 10,
              "solidity": 0.2
             }
            },
            "type": "barpolar"
           }
          ],
          "carpet": [
           {
            "aaxis": {
             "endlinecolor": "#2a3f5f",
             "gridcolor": "#C8D4E3",
             "linecolor": "#C8D4E3",
             "minorgridcolor": "#C8D4E3",
             "startlinecolor": "#2a3f5f"
            },
            "baxis": {
             "endlinecolor": "#2a3f5f",
             "gridcolor": "#C8D4E3",
             "linecolor": "#C8D4E3",
             "minorgridcolor": "#C8D4E3",
             "startlinecolor": "#2a3f5f"
            },
            "type": "carpet"
           }
          ],
          "choropleth": [
           {
            "colorbar": {
             "outlinewidth": 0,
             "ticks": ""
            },
            "type": "choropleth"
           }
          ],
          "contour": [
           {
            "colorbar": {
             "outlinewidth": 0,
             "ticks": ""
            },
            "colorscale": [
             [
              0,
              "#0d0887"
             ],
             [
              0.1111111111111111,
              "#46039f"
             ],
             [
              0.2222222222222222,
              "#7201a8"
             ],
             [
              0.3333333333333333,
              "#9c179e"
             ],
             [
              0.4444444444444444,
              "#bd3786"
             ],
             [
              0.5555555555555556,
              "#d8576b"
             ],
             [
              0.6666666666666666,
              "#ed7953"
             ],
             [
              0.7777777777777778,
              "#fb9f3a"
             ],
             [
              0.8888888888888888,
              "#fdca26"
             ],
             [
              1,
              "#f0f921"
             ]
            ],
            "type": "contour"
           }
          ],
          "contourcarpet": [
           {
            "colorbar": {
             "outlinewidth": 0,
             "ticks": ""
            },
            "type": "contourcarpet"
           }
          ],
          "heatmap": [
           {
            "colorbar": {
             "outlinewidth": 0,
             "ticks": ""
            },
            "colorscale": [
             [
              0,
              "#0d0887"
             ],
             [
              0.1111111111111111,
              "#46039f"
             ],
             [
              0.2222222222222222,
              "#7201a8"
             ],
             [
              0.3333333333333333,
              "#9c179e"
             ],
             [
              0.4444444444444444,
              "#bd3786"
             ],
             [
              0.5555555555555556,
              "#d8576b"
             ],
             [
              0.6666666666666666,
              "#ed7953"
             ],
             [
              0.7777777777777778,
              "#fb9f3a"
             ],
             [
              0.8888888888888888,
              "#fdca26"
             ],
             [
              1,
              "#f0f921"
             ]
            ],
            "type": "heatmap"
           }
          ],
          "heatmapgl": [
           {
            "colorbar": {
             "outlinewidth": 0,
             "ticks": ""
            },
            "colorscale": [
             [
              0,
              "#0d0887"
             ],
             [
              0.1111111111111111,
              "#46039f"
             ],
             [
              0.2222222222222222,
              "#7201a8"
             ],
             [
              0.3333333333333333,
              "#9c179e"
             ],
             [
              0.4444444444444444,
              "#bd3786"
             ],
             [
              0.5555555555555556,
              "#d8576b"
             ],
             [
              0.6666666666666666,
              "#ed7953"
             ],
             [
              0.7777777777777778,
              "#fb9f3a"
             ],
             [
              0.8888888888888888,
              "#fdca26"
             ],
             [
              1,
              "#f0f921"
             ]
            ],
            "type": "heatmapgl"
           }
          ],
          "histogram": [
           {
            "marker": {
             "pattern": {
              "fillmode": "overlay",
              "size": 10,
              "solidity": 0.2
             }
            },
            "type": "histogram"
           }
          ],
          "histogram2d": [
           {
            "colorbar": {
             "outlinewidth": 0,
             "ticks": ""
            },
            "colorscale": [
             [
              0,
              "#0d0887"
             ],
             [
              0.1111111111111111,
              "#46039f"
             ],
             [
              0.2222222222222222,
              "#7201a8"
             ],
             [
              0.3333333333333333,
              "#9c179e"
             ],
             [
              0.4444444444444444,
              "#bd3786"
             ],
             [
              0.5555555555555556,
              "#d8576b"
             ],
             [
              0.6666666666666666,
              "#ed7953"
             ],
             [
              0.7777777777777778,
              "#fb9f3a"
             ],
             [
              0.8888888888888888,
              "#fdca26"
             ],
             [
              1,
              "#f0f921"
             ]
            ],
            "type": "histogram2d"
           }
          ],
          "histogram2dcontour": [
           {
            "colorbar": {
             "outlinewidth": 0,
             "ticks": ""
            },
            "colorscale": [
             [
              0,
              "#0d0887"
             ],
             [
              0.1111111111111111,
              "#46039f"
             ],
             [
              0.2222222222222222,
              "#7201a8"
             ],
             [
              0.3333333333333333,
              "#9c179e"
             ],
             [
              0.4444444444444444,
              "#bd3786"
             ],
             [
              0.5555555555555556,
              "#d8576b"
             ],
             [
              0.6666666666666666,
              "#ed7953"
             ],
             [
              0.7777777777777778,
              "#fb9f3a"
             ],
             [
              0.8888888888888888,
              "#fdca26"
             ],
             [
              1,
              "#f0f921"
             ]
            ],
            "type": "histogram2dcontour"
           }
          ],
          "mesh3d": [
           {
            "colorbar": {
             "outlinewidth": 0,
             "ticks": ""
            },
            "type": "mesh3d"
           }
          ],
          "parcoords": [
           {
            "line": {
             "colorbar": {
              "outlinewidth": 0,
              "ticks": ""
             }
            },
            "type": "parcoords"
           }
          ],
          "pie": [
           {
            "automargin": true,
            "type": "pie"
           }
          ],
          "scatter": [
           {
            "fillpattern": {
             "fillmode": "overlay",
             "size": 10,
             "solidity": 0.2
            },
            "type": "scatter"
           }
          ],
          "scatter3d": [
           {
            "line": {
             "colorbar": {
              "outlinewidth": 0,
              "ticks": ""
             }
            },
            "marker": {
             "colorbar": {
              "outlinewidth": 0,
              "ticks": ""
             }
            },
            "type": "scatter3d"
           }
          ],
          "scattercarpet": [
           {
            "marker": {
             "colorbar": {
              "outlinewidth": 0,
              "ticks": ""
             }
            },
            "type": "scattercarpet"
           }
          ],
          "scattergeo": [
           {
            "marker": {
             "colorbar": {
              "outlinewidth": 0,
              "ticks": ""
             }
            },
            "type": "scattergeo"
           }
          ],
          "scattergl": [
           {
            "marker": {
             "colorbar": {
              "outlinewidth": 0,
              "ticks": ""
             }
            },
            "type": "scattergl"
           }
          ],
          "scattermapbox": [
           {
            "marker": {
             "colorbar": {
              "outlinewidth": 0,
              "ticks": ""
             }
            },
            "type": "scattermapbox"
           }
          ],
          "scatterpolar": [
           {
            "marker": {
             "colorbar": {
              "outlinewidth": 0,
              "ticks": ""
             }
            },
            "type": "scatterpolar"
           }
          ],
          "scatterpolargl": [
           {
            "marker": {
             "colorbar": {
              "outlinewidth": 0,
              "ticks": ""
             }
            },
            "type": "scatterpolargl"
           }
          ],
          "scatterternary": [
           {
            "marker": {
             "colorbar": {
              "outlinewidth": 0,
              "ticks": ""
             }
            },
            "type": "scatterternary"
           }
          ],
          "surface": [
           {
            "colorbar": {
             "outlinewidth": 0,
             "ticks": ""
            },
            "colorscale": [
             [
              0,
              "#0d0887"
             ],
             [
              0.1111111111111111,
              "#46039f"
             ],
             [
              0.2222222222222222,
              "#7201a8"
             ],
             [
              0.3333333333333333,
              "#9c179e"
             ],
             [
              0.4444444444444444,
              "#bd3786"
             ],
             [
              0.5555555555555556,
              "#d8576b"
             ],
             [
              0.6666666666666666,
              "#ed7953"
             ],
             [
              0.7777777777777778,
              "#fb9f3a"
             ],
             [
              0.8888888888888888,
              "#fdca26"
             ],
             [
              1,
              "#f0f921"
             ]
            ],
            "type": "surface"
           }
          ],
          "table": [
           {
            "cells": {
             "fill": {
              "color": "#EBF0F8"
             },
             "line": {
              "color": "white"
             }
            },
            "header": {
             "fill": {
              "color": "#C8D4E3"
             },
             "line": {
              "color": "white"
             }
            },
            "type": "table"
           }
          ]
         },
         "layout": {
          "annotationdefaults": {
           "arrowcolor": "#2a3f5f",
           "arrowhead": 0,
           "arrowwidth": 1
          },
          "autotypenumbers": "strict",
          "coloraxis": {
           "colorbar": {
            "outlinewidth": 0,
            "ticks": ""
           }
          },
          "colorscale": {
           "diverging": [
            [
             0,
             "#8e0152"
            ],
            [
             0.1,
             "#c51b7d"
            ],
            [
             0.2,
             "#de77ae"
            ],
            [
             0.3,
             "#f1b6da"
            ],
            [
             0.4,
             "#fde0ef"
            ],
            [
             0.5,
             "#f7f7f7"
            ],
            [
             0.6,
             "#e6f5d0"
            ],
            [
             0.7,
             "#b8e186"
            ],
            [
             0.8,
             "#7fbc41"
            ],
            [
             0.9,
             "#4d9221"
            ],
            [
             1,
             "#276419"
            ]
           ],
           "sequential": [
            [
             0,
             "#0d0887"
            ],
            [
             0.1111111111111111,
             "#46039f"
            ],
            [
             0.2222222222222222,
             "#7201a8"
            ],
            [
             0.3333333333333333,
             "#9c179e"
            ],
            [
             0.4444444444444444,
             "#bd3786"
            ],
            [
             0.5555555555555556,
             "#d8576b"
            ],
            [
             0.6666666666666666,
             "#ed7953"
            ],
            [
             0.7777777777777778,
             "#fb9f3a"
            ],
            [
             0.8888888888888888,
             "#fdca26"
            ],
            [
             1,
             "#f0f921"
            ]
           ],
           "sequentialminus": [
            [
             0,
             "#0d0887"
            ],
            [
             0.1111111111111111,
             "#46039f"
            ],
            [
             0.2222222222222222,
             "#7201a8"
            ],
            [
             0.3333333333333333,
             "#9c179e"
            ],
            [
             0.4444444444444444,
             "#bd3786"
            ],
            [
             0.5555555555555556,
             "#d8576b"
            ],
            [
             0.6666666666666666,
             "#ed7953"
            ],
            [
             0.7777777777777778,
             "#fb9f3a"
            ],
            [
             0.8888888888888888,
             "#fdca26"
            ],
            [
             1,
             "#f0f921"
            ]
           ]
          },
          "colorway": [
           "#636efa",
           "#EF553B",
           "#00cc96",
           "#ab63fa",
           "#FFA15A",
           "#19d3f3",
           "#FF6692",
           "#B6E880",
           "#FF97FF",
           "#FECB52"
          ],
          "font": {
           "color": "#2a3f5f"
          },
          "geo": {
           "bgcolor": "white",
           "lakecolor": "white",
           "landcolor": "white",
           "showlakes": true,
           "showland": true,
           "subunitcolor": "#C8D4E3"
          },
          "hoverlabel": {
           "align": "left"
          },
          "hovermode": "closest",
          "mapbox": {
           "style": "light"
          },
          "paper_bgcolor": "white",
          "plot_bgcolor": "white",
          "polar": {
           "angularaxis": {
            "gridcolor": "#EBF0F8",
            "linecolor": "#EBF0F8",
            "ticks": ""
           },
           "bgcolor": "white",
           "radialaxis": {
            "gridcolor": "#EBF0F8",
            "linecolor": "#EBF0F8",
            "ticks": ""
           }
          },
          "scene": {
           "xaxis": {
            "backgroundcolor": "white",
            "gridcolor": "#DFE8F3",
            "gridwidth": 2,
            "linecolor": "#EBF0F8",
            "showbackground": true,
            "ticks": "",
            "zerolinecolor": "#EBF0F8"
           },
           "yaxis": {
            "backgroundcolor": "white",
            "gridcolor": "#DFE8F3",
            "gridwidth": 2,
            "linecolor": "#EBF0F8",
            "showbackground": true,
            "ticks": "",
            "zerolinecolor": "#EBF0F8"
           },
           "zaxis": {
            "backgroundcolor": "white",
            "gridcolor": "#DFE8F3",
            "gridwidth": 2,
            "linecolor": "#EBF0F8",
            "showbackground": true,
            "ticks": "",
            "zerolinecolor": "#EBF0F8"
           }
          },
          "shapedefaults": {
           "line": {
            "color": "#2a3f5f"
           }
          },
          "ternary": {
           "aaxis": {
            "gridcolor": "#DFE8F3",
            "linecolor": "#A2B1C6",
            "ticks": ""
           },
           "baxis": {
            "gridcolor": "#DFE8F3",
            "linecolor": "#A2B1C6",
            "ticks": ""
           },
           "bgcolor": "white",
           "caxis": {
            "gridcolor": "#DFE8F3",
            "linecolor": "#A2B1C6",
            "ticks": ""
           }
          },
          "title": {
           "x": 0.05
          },
          "xaxis": {
           "automargin": true,
           "gridcolor": "#EBF0F8",
           "linecolor": "#EBF0F8",
           "ticks": "",
           "title": {
            "standoff": 15
           },
           "zerolinecolor": "#EBF0F8",
           "zerolinewidth": 2
          },
          "yaxis": {
           "automargin": true,
           "gridcolor": "#EBF0F8",
           "linecolor": "#EBF0F8",
           "ticks": "",
           "title": {
            "standoff": 15
           },
           "zerolinecolor": "#EBF0F8",
           "zerolinewidth": 2
          }
         }
        },
        "title": {
         "text": "Energy Cost (£) Over Time"
        },
        "xaxis": {
         "tickangle": 45,
         "title": {
          "text": "Time Interval (Start)"
         }
        },
        "yaxis": {
         "title": {
          "text": "Cost (£)"
         }
        }
       }
      }
     },
     "metadata": {},
     "output_type": "display_data"
    }
   ],
   "source": [
    "no_of_days = 4\n",
    "\n",
    "df_summary = df_both.groupby([\"day\", \"weekday\"]).agg(\n",
    "    count=(\"gas_consumption\", \"count\"),  # Counting records in each group\n",
    "    mean_gas=(\"gas_consumption\", \"mean\"),\n",
    "    total_gas=(\"gas_consumption\", \"sum\"),\n",
    "    mean_electricity=(\"electricity_consumption\", \"mean\"),\n",
    "    total_electricity=(\"electricity_consumption\", \"sum\")\n",
    ").reset_index().sort_values(by=\"day\", ascending=False)\n",
    "\n",
    "list_days = df_summary[0:no_of_days]['day'].to_list()\n",
    "print(list_days)\n",
    "\n",
    "# display chart\n",
    "df_week = df_both[df_both['day'].isin(list_days)].copy()\n",
    "# convert to costs\n",
    "df_week['gas_cost'] = df_week['gas_consumption'] * 11.16 * 0.0641\n",
    "df_week['electricity_cost'] = df_week['electricity_consumption'] * .2606\n",
    "\n",
    "fig = get_plot(df_week, 'both', 'cost')\n",
    "fig.show()"
   ]
  },
  {
   "cell_type": "code",
   "execution_count": 13,
   "metadata": {},
   "outputs": [
    {
     "data": {
      "application/vnd.microsoft.datawrangler.viewer.v0+json": {
       "columns": [
        {
         "name": "index",
         "rawType": "int64",
         "type": "integer"
        },
        {
         "name": "day",
         "rawType": "object",
         "type": "string"
        },
        {
         "name": "weekday",
         "rawType": "object",
         "type": "string"
        },
        {
         "name": "count",
         "rawType": "int64",
         "type": "integer"
        },
        {
         "name": "mean_gas",
         "rawType": "float64",
         "type": "float"
        },
        {
         "name": "total_gas",
         "rawType": "float64",
         "type": "float"
        },
        {
         "name": "cost_gas",
         "rawType": "float64",
         "type": "float"
        },
        {
         "name": "mean_electricity",
         "rawType": "float64",
         "type": "float"
        },
        {
         "name": "total_electricity",
         "rawType": "float64",
         "type": "float"
        },
        {
         "name": "cost_electricity",
         "rawType": "float64",
         "type": "float"
        }
       ],
       "conversionMethod": "pd.DataFrame",
       "ref": "a15cd14a-1be3-44e7-8460-f806a2c3aa58",
       "rows": [
        [
         "3",
         "2025-02-21",
         "Fri",
         "48",
         "0.019395833333333334",
         "0.931",
         "0.6659964360000001",
         "0.11404166666666667",
         "5.474",
         "1.4265244000000001"
        ],
        [
         "2",
         "2025-02-20",
         "Thu",
         "48",
         "0.0481875",
         "2.313",
         "1.654618428",
         "0.1056875",
         "5.073",
         "1.3220238"
        ],
        [
         "1",
         "2025-02-19",
         "Wed",
         "48",
         "0.1200625",
         "5.763",
         "4.122596628",
         "0.17127083333333334",
         "8.221",
         "2.1423926"
        ],
        [
         "0",
         "2025-02-18",
         "Tue",
         "48",
         "0.14235416666666667",
         "6.833",
         "4.888027548",
         "0.09835416666666667",
         "4.721",
         "1.2302926"
        ]
       ],
       "shape": {
        "columns": 9,
        "rows": 4
       }
      },
      "text/html": [
       "<div>\n",
       "<style scoped>\n",
       "    .dataframe tbody tr th:only-of-type {\n",
       "        vertical-align: middle;\n",
       "    }\n",
       "\n",
       "    .dataframe tbody tr th {\n",
       "        vertical-align: top;\n",
       "    }\n",
       "\n",
       "    .dataframe thead th {\n",
       "        text-align: right;\n",
       "    }\n",
       "</style>\n",
       "<table border=\"1\" class=\"dataframe\">\n",
       "  <thead>\n",
       "    <tr style=\"text-align: right;\">\n",
       "      <th></th>\n",
       "      <th>day</th>\n",
       "      <th>weekday</th>\n",
       "      <th>count</th>\n",
       "      <th>mean_gas</th>\n",
       "      <th>total_gas</th>\n",
       "      <th>cost_gas</th>\n",
       "      <th>mean_electricity</th>\n",
       "      <th>total_electricity</th>\n",
       "      <th>cost_electricity</th>\n",
       "    </tr>\n",
       "  </thead>\n",
       "  <tbody>\n",
       "    <tr>\n",
       "      <th>3</th>\n",
       "      <td>2025-02-21</td>\n",
       "      <td>Fri</td>\n",
       "      <td>48</td>\n",
       "      <td>0.019396</td>\n",
       "      <td>0.931</td>\n",
       "      <td>0.665996</td>\n",
       "      <td>0.114042</td>\n",
       "      <td>5.474</td>\n",
       "      <td>1.426524</td>\n",
       "    </tr>\n",
       "    <tr>\n",
       "      <th>2</th>\n",
       "      <td>2025-02-20</td>\n",
       "      <td>Thu</td>\n",
       "      <td>48</td>\n",
       "      <td>0.048188</td>\n",
       "      <td>2.313</td>\n",
       "      <td>1.654618</td>\n",
       "      <td>0.105688</td>\n",
       "      <td>5.073</td>\n",
       "      <td>1.322024</td>\n",
       "    </tr>\n",
       "    <tr>\n",
       "      <th>1</th>\n",
       "      <td>2025-02-19</td>\n",
       "      <td>Wed</td>\n",
       "      <td>48</td>\n",
       "      <td>0.120063</td>\n",
       "      <td>5.763</td>\n",
       "      <td>4.122597</td>\n",
       "      <td>0.171271</td>\n",
       "      <td>8.221</td>\n",
       "      <td>2.142393</td>\n",
       "    </tr>\n",
       "    <tr>\n",
       "      <th>0</th>\n",
       "      <td>2025-02-18</td>\n",
       "      <td>Tue</td>\n",
       "      <td>48</td>\n",
       "      <td>0.142354</td>\n",
       "      <td>6.833</td>\n",
       "      <td>4.888028</td>\n",
       "      <td>0.098354</td>\n",
       "      <td>4.721</td>\n",
       "      <td>1.230293</td>\n",
       "    </tr>\n",
       "  </tbody>\n",
       "</table>\n",
       "</div>"
      ],
      "text/plain": [
       "          day weekday  count  mean_gas  total_gas  cost_gas  mean_electricity  \\\n",
       "3  2025-02-21     Fri     48  0.019396      0.931  0.665996          0.114042   \n",
       "2  2025-02-20     Thu     48  0.048188      2.313  1.654618          0.105688   \n",
       "1  2025-02-19     Wed     48  0.120063      5.763  4.122597          0.171271   \n",
       "0  2025-02-18     Tue     48  0.142354      6.833  4.888028          0.098354   \n",
       "\n",
       "   total_electricity  cost_electricity  \n",
       "3              5.474          1.426524  \n",
       "2              5.073          1.322024  \n",
       "1              8.221          2.142393  \n",
       "0              4.721          1.230293  "
      ]
     },
     "execution_count": 13,
     "metadata": {},
     "output_type": "execute_result"
    }
   ],
   "source": [
    "df_week.groupby([\"day\", \"weekday\"]).agg(\n",
    "    count=(\"gas_consumption\", \"count\"),  # Counting records in each group\n",
    "    mean_gas=(\"gas_consumption\", \"mean\"),\n",
    "    total_gas=(\"gas_consumption\", \"sum\"),\n",
    "    cost_gas=(\"gas_cost\", \"sum\"),\n",
    "    mean_electricity=(\"electricity_consumption\", \"mean\"),\n",
    "    total_electricity=(\"electricity_consumption\", \"sum\"),\n",
    "    cost_electricity=(\"electricity_cost\", \"sum\")\n",
    ").reset_index().sort_values(by=\"day\", ascending=False)\n",
    "\n"
   ]
  },
  {
   "cell_type": "markdown",
   "metadata": {},
   "source": [
    "# Testing"
   ]
  }
 ],
 "metadata": {
  "kernelspec": {
   "display_name": "Python 3",
   "language": "python",
   "name": "python3"
  },
  "language_info": {
   "codemirror_mode": {
    "name": "ipython",
    "version": 3
   },
   "file_extension": ".py",
   "mimetype": "text/x-python",
   "name": "python",
   "nbconvert_exporter": "python",
   "pygments_lexer": "ipython3",
   "version": "3.12.5"
  }
 },
 "nbformat": 4,
 "nbformat_minor": 2
}

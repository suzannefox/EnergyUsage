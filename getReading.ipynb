{
 "cells": [
  {
   "cell_type": "markdown",
   "metadata": {},
   "source": [
    "# Setup - libraries and functions"
   ]
  },
  {
   "cell_type": "code",
   "execution_count": 19,
   "metadata": {},
   "outputs": [],
   "source": [
    "import requests\n",
    "import os\n",
    "import json\n",
    "import pandas as pd\n",
    "import plotly.graph_objects as go\n",
    "from datetime import datetime\n",
    "from dotenv import load_dotenv\n",
    "from git import Repo\n"
   ]
  },
  {
   "cell_type": "code",
   "execution_count": 20,
   "metadata": {},
   "outputs": [
    {
     "name": "stdout",
     "output_type": "stream",
     "text": [
      " ... Current dir is ., Raw data saved to ./data-raw\n"
     ]
    }
   ],
   "source": [
    "# Get the API key\n",
    "load_dotenv()\n",
    "api_key = os.getenv('API_KEY')\n",
    "\n",
    "dir_current = os.curdir\n",
    "dir_data_raw = f'{dir_current}/data-raw'\n",
    "dir_cumulative = f'{dir_current}/data-cumulative'\n",
    "dir_repo = f'{dir_current}/.git'\n",
    "repo = Repo(dir_repo)\n",
    "\n",
    "print(f' ... Current dir is {dir_current}, Raw data saved to {dir_data_raw}')"
   ]
  },
  {
   "cell_type": "code",
   "execution_count": 47,
   "metadata": {},
   "outputs": [],
   "source": [
    "def report_timespan(df):\n",
    "    df['interval_start'] = pd.to_datetime(df['interval_start'])\n",
    "\n",
    "    date_start = df['interval_start'].min().strftime('%a %Y-%m-%d %H:%M')\n",
    "    date_final = df['interval_start'].max().strftime('%a %Y-%m-%d %H:%M')\n",
    "\n",
    "    print(f' ... From {date_start} to {date_final}')"
   ]
  },
  {
   "cell_type": "code",
   "execution_count": 38,
   "metadata": {},
   "outputs": [],
   "source": [
    "def get_raw_usage_data(utility, sort = True, save = True, verbose = True):\n",
    "\n",
    "    if not utility in ['electricity', 'gas']:\n",
    "        raise ValueError('utility must be either \"electricity\" or \"gas\"')\n",
    "    \n",
    "    electric_url = \"https://api.octopus.energy/v1/electricity-meter-points/1200039599083/meters/24J0348055/consumption/\"\n",
    "    gas_url = \"https://api.octopus.energy/v1/gas-meter-points/620841506/meters/E6S17881452061/consumption/\"\n",
    "    \n",
    "    if utility == 'electricity':\n",
    "        url = electric_url\n",
    "    elif utility == 'gas':\n",
    "        url = gas_url\n",
    "    \n",
    "    response = requests.get(url, auth=(api_key, \"\")) \n",
    "    data = response.json()['results']\n",
    "    df = pd.DataFrame(data)\n",
    "    \n",
    "    if save:\n",
    "        print(f\"Status Code ({utility}): {response.status_code}\")\n",
    "        file_raw_data = f'{dir_data_raw}/{datetime.now().strftime('%Y-%m-%d')}_rawdata_{utility}.csv'\n",
    "        df.to_csv(file_raw_data, index = False)\n",
    "        print(f' ... Saving as {file_raw_data}')\n",
    "        print(f' ... Records {df.shape[0]}')\n",
    "        print(f' ... Variables {df.shape[1]} : {df.columns}')\n",
    "        if verbose: report_timespan(df)\n",
    "    else:\n",
    "        if verbose: report_timespan(df)\n",
    "\n",
    "    df.columns = [f'{utility}_consumption', 'interval_start', 'interval_end']\n",
    "    if sort:\n",
    "        df = df.sort_values(by='interval_start', ascending=True)\n",
    "\n",
    "    return df"
   ]
  },
  {
   "cell_type": "code",
   "execution_count": 16,
   "metadata": {},
   "outputs": [],
   "source": [
    "def get_utility_data(directory, utility = 'gas'):\n",
    "\n",
    "    \"\"\"Returns a list of CSV files in the given directory.\"\"\"\n",
    "    raw_files = [file for file in os.listdir(directory) if file.endswith(\".csv\") and 'rawdata' in file and utility in file]\n",
    "\n",
    "    dfs = [pd.read_csv(f'{directory}/{file}') for file in raw_files]  # Read each CSV file into a DataFrame\n",
    "    df_combined = pd.concat(dfs, ignore_index=True)  # Concatenate all DataFrames\n",
    "    df_unique = df_combined.drop_duplicates(subset=['interval_start', 'interval_end']).copy()\n",
    "    df_unique.columns = [f'{utility}_consumption','interval_start', 'interval_end']\n",
    "\n",
    "    df_unique['weekday'] = df_unique['interval_start'].apply(lambda x: datetime.strptime(x, '%Y-%m-%dT%H:%M:%SZ').strftime('%a'))\n",
    "    df_unique['day'] = df_unique['interval_start'].apply(lambda x: datetime.strptime(x, '%Y-%m-%dT%H:%M:%SZ').strftime('%Y-%m-%d'))\n",
    "    df_unique['dom'] = df_unique['interval_start'].apply(lambda x: datetime.strptime(x, '%Y-%m-%dT%H:%M:%SZ').strftime('%m-%d'))\n",
    "    df_unique['time'] = df_unique['interval_start'].apply(lambda x: datetime.strptime(x, '%Y-%m-%dT%H:%M:%SZ').strftime('%H:%M'))\n",
    "    df_unique['x_label'] = df_unique.apply(lambda row: f\"{row['weekday']} {row['dom']} {row['time']}\", axis=1)\n",
    "    df_unique = df_unique.sort_values(by=['day', 'time'], ascending=True)\n",
    "\n",
    "    print(f' ... Cumulative data for {utility}, {df_unique.shape[0]} records')\n",
    "    report_timespan(df_unique)\n",
    "    return(df_unique)\n"
   ]
  },
  {
   "cell_type": "code",
   "execution_count": 17,
   "metadata": {},
   "outputs": [],
   "source": [
    "def get_plot(df, utility = 'both'):\n",
    "\n",
    "    # Create the plot\n",
    "    fig = go.Figure()\n",
    "\n",
    "    # Plot electricity consumption\n",
    "    if utility == 'electricity' or utility == 'both':\n",
    "        fig.add_trace(go.Scatter(\n",
    "            x=df['x_label'], \n",
    "            y=df['electricity_consumption'], \n",
    "            mode='lines+markers', \n",
    "            name='Electricity', \n",
    "            line=dict(color='blue')\n",
    "        ))\n",
    "\n",
    "    # Plot gas consumption\n",
    "    if utility == 'gas' or utility == 'both':\n",
    "        fig.add_trace(go.Scatter(\n",
    "            x=df['x_label'], \n",
    "            y=df['gas_consumption'], \n",
    "            mode='lines+markers', \n",
    "            name='Gas', \n",
    "            line=dict(color='red')\n",
    "        ))\n",
    "\n",
    "    # Update layout\n",
    "    fig.update_layout(\n",
    "        title=\"Energy Consumption Over Time\",\n",
    "        xaxis_title=\"Time Interval (Start)\",\n",
    "        yaxis_title=\"Consumption\",\n",
    "        xaxis=dict(tickangle=45),\n",
    "        template=\"plotly_white\"\n",
    "    )\n",
    "\n",
    "    # Show the plot\n",
    "    return(fig)\n",
    "    #fig.show()"
   ]
  },
  {
   "cell_type": "markdown",
   "metadata": {},
   "source": [
    "# Get new data"
   ]
  },
  {
   "cell_type": "code",
   "execution_count": 51,
   "metadata": {},
   "outputs": [
    {
     "name": "stdout",
     "output_type": "stream",
     "text": [
      "Status Code (electricity): 200\n",
      " ... Saving as ./data-raw/2025-02-04_rawdata_electricity.csv\n",
      " ... Records 100\n",
      " ... Variables 3 : Index(['consumption', 'interval_start', 'interval_end'], dtype='object')\n",
      " ... From Fri 2025-01-31 22:00 to Sun 2025-02-02 23:30\n",
      "Status Code (gas): 200\n",
      " ... Saving as ./data-raw/2025-02-04_rawdata_gas.csv\n",
      " ... Records 100\n",
      " ... Variables 3 : Index(['consumption', 'interval_start', 'interval_end'], dtype='object')\n",
      " ... From Fri 2025-01-31 22:00 to Sun 2025-02-02 23:30\n"
     ]
    }
   ],
   "source": [
    "# get data from octopus as a dataframe\n",
    "df_electricity = get_raw_usage_data('electricity')\n",
    "df_gas = get_raw_usage_data('gas')"
   ]
  },
  {
   "cell_type": "code",
   "execution_count": 52,
   "metadata": {},
   "outputs": [
    {
     "name": "stdout",
     "output_type": "stream",
     "text": [
      " ... Cumulative data for gas, 436 records\n",
      " ... From Fri 2025-01-24 22:00 to Sun 2025-02-02 23:30\n",
      " ... Cumulative data for electricity, 436 records\n",
      " ... From Fri 2025-01-24 22:00 to Sun 2025-02-02 23:30\n",
      " ... MERGED dataset, saved to ./data-cumulative/cumulative.csv\n",
      " ... From Fri 2025-01-24 22:00 to Sun 2025-02-02 23:30\n"
     ]
    }
   ],
   "source": [
    "# create a df with both readings in where dates exist for both\n",
    "df_gas = get_utility_data(dir_data_raw, utility = 'gas')\n",
    "df_electricity = get_utility_data(dir_data_raw, utility = 'electricity')\n",
    "\n",
    "df_both = pd.merge(df_gas, \n",
    "                   df_electricity[['electricity_consumption','interval_start']], \n",
    "                   on='interval_start', how='outer')\n",
    "df_both = df_both.sort_values(by='interval_start', ascending=True)\n",
    "\n",
    "# save\n",
    "file_cumulative = f'{dir_cumulative}/cumulative.csv'\n",
    "df_both.to_csv(file_cumulative, index=False)\n",
    "print(f' ... MERGED dataset, saved to {file_cumulative}')\n",
    "report_timespan(df_both)"
   ]
  },
  {
   "cell_type": "markdown",
   "metadata": {},
   "source": [
    "# Run charts"
   ]
  },
  {
   "cell_type": "code",
   "execution_count": 50,
   "metadata": {},
   "outputs": [
    {
     "name": "stdout",
     "output_type": "stream",
     "text": [
      "Commit via GitPython - Monday 2025-02-03 20:11\n"
     ]
    },
    {
     "data": {
      "text/plain": [
       "[<git.remote.PushInfo at 0x2e20703d7b0>]"
      ]
     },
     "execution_count": 50,
     "metadata": {},
     "output_type": "execute_result"
    }
   ],
   "source": [
    "# Stage, commit, and push changes\n",
    "repo.git.add(\".\")\n",
    "git_message = f'Commit via GitPython - {datetime.now().strftime('%A %Y-%m-%d %H:%M')}'\n",
    "print(git_message)\n",
    "repo.index.commit(git_message)\n",
    "origin = repo.remote(name='origin')\n",
    "origin.push()"
   ]
  },
  {
   "cell_type": "code",
   "execution_count": 30,
   "metadata": {},
   "outputs": [
    {
     "data": {
      "application/vnd.plotly.v1+json": {
       "config": {
        "plotlyServerURL": "https://plot.ly"
       },
       "data": [
        {
         "line": {
          "color": "blue"
         },
         "mode": "lines+markers",
         "name": "Electricity",
         "type": "scatter",
         "x": [
          "Fri 01-24 22:00",
          "Fri 01-24 22:30",
          "Fri 01-24 23:00",
          "Fri 01-24 23:30",
          "Sat 01-25 00:00",
          "Sat 01-25 00:30",
          "Sat 01-25 01:00",
          "Sat 01-25 01:30",
          "Sat 01-25 02:00",
          "Sat 01-25 02:30",
          "Sat 01-25 03:00",
          "Sat 01-25 03:30",
          "Sat 01-25 04:00",
          "Sat 01-25 04:30",
          "Sat 01-25 05:00",
          "Sat 01-25 05:30",
          "Sat 01-25 06:00",
          "Sat 01-25 06:30",
          "Sat 01-25 07:00",
          "Sat 01-25 07:30",
          "Sat 01-25 08:00",
          "Sat 01-25 08:30",
          "Sat 01-25 09:00",
          "Sat 01-25 09:30",
          "Sat 01-25 10:00",
          "Sat 01-25 10:30",
          "Sat 01-25 11:00",
          "Sat 01-25 11:30",
          "Sat 01-25 12:00",
          "Sat 01-25 12:30",
          "Sat 01-25 13:00",
          "Sat 01-25 13:30",
          "Sat 01-25 14:00",
          "Sat 01-25 14:30",
          "Sat 01-25 15:00",
          "Sat 01-25 15:30",
          "Sat 01-25 16:00",
          "Sat 01-25 16:30",
          "Sat 01-25 17:00",
          "Sat 01-25 17:30",
          "Sat 01-25 18:00",
          "Sat 01-25 18:30",
          "Sat 01-25 19:00",
          "Sat 01-25 19:30",
          "Sat 01-25 20:00",
          "Sat 01-25 20:30",
          "Sat 01-25 21:00",
          "Sat 01-25 21:30",
          "Sat 01-25 22:00",
          "Sat 01-25 22:30",
          "Sat 01-25 23:00",
          "Sat 01-25 23:30",
          "Sun 01-26 00:00",
          "Sun 01-26 00:30",
          "Sun 01-26 01:00",
          "Sun 01-26 01:30",
          "Sun 01-26 02:00",
          "Sun 01-26 02:30",
          "Sun 01-26 03:00",
          "Sun 01-26 03:30",
          "Sun 01-26 04:00",
          "Sun 01-26 04:30",
          "Sun 01-26 05:00",
          "Sun 01-26 05:30",
          "Sun 01-26 06:00",
          "Sun 01-26 06:30",
          "Sun 01-26 07:00",
          "Sun 01-26 07:30",
          "Sun 01-26 08:00",
          "Sun 01-26 08:30",
          "Sun 01-26 09:00",
          "Sun 01-26 09:30",
          "Sun 01-26 10:00",
          "Sun 01-26 10:30",
          "Sun 01-26 11:00",
          "Sun 01-26 11:30",
          "Sun 01-26 12:00",
          "Sun 01-26 12:30",
          "Sun 01-26 13:00",
          "Sun 01-26 13:30",
          "Sun 01-26 14:00",
          "Sun 01-26 14:30",
          "Sun 01-26 15:00",
          "Sun 01-26 15:30",
          "Sun 01-26 16:00",
          "Sun 01-26 16:30",
          "Sun 01-26 17:00",
          "Sun 01-26 17:30",
          "Sun 01-26 18:00",
          "Sun 01-26 18:30",
          "Sun 01-26 19:00",
          "Sun 01-26 19:30",
          "Sun 01-26 20:00",
          "Sun 01-26 20:30",
          "Sun 01-26 21:00",
          "Sun 01-26 21:30",
          "Sun 01-26 22:00",
          "Sun 01-26 22:30",
          "Sun 01-26 23:00",
          "Sun 01-26 23:30",
          "Mon 01-27 00:00",
          "Mon 01-27 00:30",
          "Mon 01-27 01:00",
          "Mon 01-27 01:30",
          "Mon 01-27 02:00",
          "Mon 01-27 02:30",
          "Mon 01-27 03:00",
          "Mon 01-27 03:30",
          "Mon 01-27 04:00",
          "Mon 01-27 04:30",
          "Mon 01-27 05:00",
          "Mon 01-27 05:30",
          "Mon 01-27 06:00",
          "Mon 01-27 06:30",
          "Mon 01-27 07:00",
          "Mon 01-27 07:30",
          "Mon 01-27 08:00",
          "Mon 01-27 08:30",
          "Mon 01-27 09:00",
          "Mon 01-27 09:30",
          "Mon 01-27 10:00",
          "Mon 01-27 10:30",
          "Mon 01-27 11:00",
          "Mon 01-27 11:30",
          "Mon 01-27 12:00",
          "Mon 01-27 12:30",
          "Mon 01-27 13:00",
          "Mon 01-27 13:30",
          "Mon 01-27 14:00",
          "Mon 01-27 14:30",
          "Mon 01-27 15:00",
          "Mon 01-27 15:30",
          "Mon 01-27 16:00",
          "Mon 01-27 16:30",
          "Mon 01-27 17:00",
          "Mon 01-27 17:30",
          "Mon 01-27 18:00",
          "Mon 01-27 18:30",
          "Mon 01-27 19:00",
          "Mon 01-27 19:30",
          "Mon 01-27 20:00",
          "Mon 01-27 20:30",
          "Mon 01-27 21:00",
          "Mon 01-27 21:30",
          "Mon 01-27 22:00",
          "Mon 01-27 22:30",
          "Mon 01-27 23:00",
          "Mon 01-27 23:30",
          "Tue 01-28 00:00",
          "Tue 01-28 00:30",
          "Tue 01-28 01:00",
          "Tue 01-28 01:30",
          "Tue 01-28 02:00",
          "Tue 01-28 02:30",
          "Tue 01-28 03:00",
          "Tue 01-28 03:30",
          "Tue 01-28 04:00",
          "Tue 01-28 04:30",
          "Tue 01-28 05:00",
          "Tue 01-28 05:30",
          "Tue 01-28 06:00",
          "Tue 01-28 06:30",
          "Tue 01-28 07:00",
          "Tue 01-28 07:30",
          "Tue 01-28 08:00",
          "Tue 01-28 08:30",
          "Tue 01-28 09:00",
          "Tue 01-28 09:30",
          "Tue 01-28 10:00",
          "Tue 01-28 10:30",
          "Tue 01-28 11:00",
          "Tue 01-28 11:30",
          "Tue 01-28 12:00",
          "Tue 01-28 12:30",
          "Tue 01-28 13:00",
          "Tue 01-28 13:30",
          "Tue 01-28 14:00",
          "Tue 01-28 14:30",
          "Tue 01-28 15:00",
          "Tue 01-28 15:30",
          "Tue 01-28 16:00",
          "Tue 01-28 16:30",
          "Tue 01-28 17:00",
          "Tue 01-28 17:30",
          "Tue 01-28 18:00",
          "Tue 01-28 18:30",
          "Tue 01-28 19:00",
          "Tue 01-28 19:30",
          "Tue 01-28 20:00",
          "Tue 01-28 20:30",
          "Tue 01-28 21:00",
          "Tue 01-28 21:30",
          "Tue 01-28 22:00",
          "Tue 01-28 22:30",
          "Tue 01-28 23:00",
          "Tue 01-28 23:30",
          "Wed 01-29 00:00",
          "Wed 01-29 00:30",
          "Wed 01-29 01:00",
          "Wed 01-29 01:30",
          "Wed 01-29 02:00",
          "Wed 01-29 02:30",
          "Wed 01-29 03:00",
          "Wed 01-29 03:30",
          "Wed 01-29 04:00",
          "Wed 01-29 04:30",
          "Wed 01-29 05:00",
          "Wed 01-29 05:30",
          "Wed 01-29 06:00",
          "Wed 01-29 06:30",
          "Wed 01-29 07:00",
          "Wed 01-29 07:30",
          "Wed 01-29 08:00",
          "Wed 01-29 08:30",
          "Wed 01-29 09:00",
          "Wed 01-29 09:30",
          "Wed 01-29 10:00",
          "Wed 01-29 10:30",
          "Wed 01-29 11:00",
          "Wed 01-29 11:30",
          "Wed 01-29 12:00",
          "Wed 01-29 12:30",
          "Wed 01-29 13:00",
          "Wed 01-29 13:30",
          "Wed 01-29 14:00",
          "Wed 01-29 14:30",
          "Wed 01-29 15:00",
          "Wed 01-29 15:30",
          "Wed 01-29 16:00",
          "Wed 01-29 16:30",
          "Wed 01-29 17:00",
          "Wed 01-29 17:30",
          "Wed 01-29 18:00",
          "Wed 01-29 18:30",
          "Wed 01-29 19:00",
          "Wed 01-29 19:30",
          "Wed 01-29 20:00",
          "Wed 01-29 20:30",
          "Wed 01-29 21:00",
          "Wed 01-29 21:30",
          "Wed 01-29 22:00",
          "Wed 01-29 22:30",
          "Wed 01-29 23:00",
          "Wed 01-29 23:30",
          "Thu 01-30 00:00",
          "Thu 01-30 00:30",
          "Thu 01-30 01:00",
          "Thu 01-30 01:30",
          "Thu 01-30 02:00",
          "Thu 01-30 02:30",
          "Thu 01-30 03:00",
          "Thu 01-30 03:30",
          "Thu 01-30 04:00",
          "Thu 01-30 04:30",
          "Thu 01-30 05:00",
          "Thu 01-30 05:30",
          "Thu 01-30 06:00",
          "Thu 01-30 06:30",
          "Thu 01-30 07:00",
          "Thu 01-30 07:30",
          "Thu 01-30 08:00",
          "Thu 01-30 08:30",
          "Thu 01-30 09:00",
          "Thu 01-30 09:30",
          "Thu 01-30 10:00",
          "Thu 01-30 10:30",
          "Thu 01-30 11:00",
          "Thu 01-30 11:30",
          "Thu 01-30 12:00",
          "Thu 01-30 12:30",
          "Thu 01-30 13:00",
          "Thu 01-30 13:30",
          "Thu 01-30 14:00",
          "Thu 01-30 14:30",
          "Thu 01-30 15:00",
          "Thu 01-30 15:30",
          "Thu 01-30 16:00",
          "Thu 01-30 16:30",
          "Thu 01-30 17:00",
          "Thu 01-30 17:30",
          "Thu 01-30 18:00",
          "Thu 01-30 18:30",
          "Thu 01-30 19:00",
          "Thu 01-30 19:30",
          "Thu 01-30 20:00",
          "Thu 01-30 20:30",
          "Thu 01-30 21:00",
          "Thu 01-30 21:30",
          "Thu 01-30 22:00",
          "Thu 01-30 22:30",
          "Thu 01-30 23:00",
          "Thu 01-30 23:30",
          "Fri 01-31 00:00",
          "Fri 01-31 00:30",
          "Fri 01-31 01:00",
          "Fri 01-31 01:30",
          "Fri 01-31 02:00",
          "Fri 01-31 02:30",
          "Fri 01-31 03:00",
          "Fri 01-31 03:30",
          "Fri 01-31 04:00",
          "Fri 01-31 04:30",
          "Fri 01-31 05:00",
          "Fri 01-31 05:30",
          "Fri 01-31 06:00",
          "Fri 01-31 06:30",
          "Fri 01-31 07:00",
          "Fri 01-31 07:30",
          "Fri 01-31 08:00",
          "Fri 01-31 08:30",
          "Fri 01-31 09:00",
          "Fri 01-31 09:30",
          "Fri 01-31 10:00",
          "Fri 01-31 10:30",
          "Fri 01-31 11:00",
          "Fri 01-31 11:30",
          "Fri 01-31 12:00",
          "Fri 01-31 12:30",
          "Fri 01-31 13:00",
          "Fri 01-31 13:30",
          "Fri 01-31 14:00",
          "Fri 01-31 14:30",
          "Fri 01-31 15:00",
          "Fri 01-31 15:30",
          "Fri 01-31 16:00",
          "Fri 01-31 16:30",
          "Fri 01-31 17:00",
          "Fri 01-31 17:30",
          "Fri 01-31 18:00",
          "Fri 01-31 18:30",
          "Fri 01-31 19:00",
          "Fri 01-31 19:30",
          "Fri 01-31 20:00",
          "Fri 01-31 20:30",
          "Fri 01-31 21:00",
          "Fri 01-31 21:30",
          "Fri 01-31 22:00",
          "Fri 01-31 22:30",
          "Fri 01-31 23:00",
          "Fri 01-31 23:30",
          "Sat 02-01 00:00",
          "Sat 02-01 00:30",
          "Sat 02-01 01:00",
          "Sat 02-01 01:30",
          "Sat 02-01 02:00",
          "Sat 02-01 02:30",
          "Sat 02-01 03:00",
          "Sat 02-01 03:30",
          "Sat 02-01 04:00",
          "Sat 02-01 04:30",
          "Sat 02-01 05:00",
          "Sat 02-01 05:30",
          "Sat 02-01 06:00",
          "Sat 02-01 06:30",
          "Sat 02-01 07:00",
          "Sat 02-01 07:30",
          "Sat 02-01 08:00",
          "Sat 02-01 08:30",
          "Sat 02-01 09:00",
          "Sat 02-01 09:30",
          "Sat 02-01 10:00",
          "Sat 02-01 10:30",
          "Sat 02-01 11:00",
          "Sat 02-01 11:30",
          "Sat 02-01 12:00",
          "Sat 02-01 12:30",
          "Sat 02-01 13:00",
          "Sat 02-01 13:30",
          "Sat 02-01 14:00",
          "Sat 02-01 14:30",
          "Sat 02-01 15:00",
          "Sat 02-01 15:30",
          "Sat 02-01 16:00",
          "Sat 02-01 16:30",
          "Sat 02-01 17:00",
          "Sat 02-01 17:30",
          "Sat 02-01 18:00",
          "Sat 02-01 18:30",
          "Sat 02-01 19:00",
          "Sat 02-01 19:30",
          "Sat 02-01 20:00",
          "Sat 02-01 20:30",
          "Sat 02-01 21:00",
          "Sat 02-01 21:30",
          "Sat 02-01 22:00",
          "Sat 02-01 22:30",
          "Sat 02-01 23:00",
          "Sat 02-01 23:30",
          null,
          null,
          null,
          null,
          null,
          null,
          null,
          null,
          null,
          null,
          null,
          null,
          null,
          null,
          null,
          null,
          null,
          null,
          null,
          null,
          null,
          null,
          null,
          null,
          null,
          null,
          null,
          null,
          null,
          null,
          null,
          null,
          null,
          null,
          null,
          null,
          null,
          null,
          null,
          null,
          null,
          null,
          null,
          null,
          null,
          null,
          null,
          null
         ],
         "y": [
          0.092,
          0.089,
          0.097,
          0.09,
          0.092,
          0.095,
          0.089,
          0.097,
          0.091,
          0.091,
          0.092,
          0.072,
          0.064,
          0.121,
          0.086,
          0.06,
          0.069,
          0.081,
          0.057,
          0.072,
          0.071,
          0.064,
          0.447,
          0.381,
          0.096,
          0.129,
          0.442,
          0.077,
          0.066,
          0.069,
          0.062,
          0.069,
          0.056,
          0.256,
          0.072,
          0.148,
          0.063,
          0.08,
          0.11,
          0.091,
          0.156,
          0.143,
          0.15,
          0.488,
          0.18,
          0.168,
          0.135,
          0.069,
          0.071,
          0.058,
          0.065,
          0.062,
          0.058,
          0.07,
          0.053,
          0.068,
          0.061,
          0.053,
          0.072,
          0.058,
          0.06,
          0.074,
          0.053,
          0.059,
          0.07,
          0.053,
          0.06,
          0.067,
          0.053,
          0.064,
          0.063,
          0.2,
          0.075,
          0.754,
          0.655,
          0.29,
          0.111,
          0.09,
          0.212,
          0.318,
          0.373,
          0.75,
          0.141,
          0.115,
          0.447,
          0.415,
          0.383,
          0.459,
          0.338,
          0.403,
          0.228,
          0.176,
          0.175,
          0.184,
          0.216,
          0.166,
          0.132,
          0.096,
          0.08,
          0.075,
          0.069,
          0.065,
          0.067,
          0.067,
          0.054,
          0.072,
          0.053,
          0.064,
          0.066,
          0.053,
          0.07,
          0.057,
          0.053,
          0.073,
          0.054,
          0.071,
          0.208,
          0.073,
          0.089,
          0.203,
          0.079,
          1.022,
          0.11,
          0.31,
          0.585,
          0.592,
          0.338,
          0.121,
          0.082,
          0.068,
          0.071,
          0.093,
          0.072,
          0.065,
          0.129,
          0.305,
          0.169,
          0.158,
          0.144,
          0.153,
          0.126,
          0.14,
          0.157,
          0.168,
          0.166,
          0.169,
          0.129,
          0.121,
          0.104,
          0.12,
          0.125,
          0.102,
          0.109,
          0.103,
          0.098,
          0.119,
          0.102,
          0.096,
          0.115,
          0.099,
          0.096,
          0.113,
          0.083,
          0.221,
          0.111,
          0.094,
          0.098,
          0.227,
          0.082,
          0.096,
          0.298,
          0.09,
          0.536,
          0.098,
          0.409,
          0.253,
          0.244,
          0.242,
          0.121,
          0.095,
          0.09,
          0.345,
          0.269,
          0.174,
          0.149,
          0.162,
          0.155,
          0.145,
          0.145,
          0.108,
          0.094,
          0.676,
          0.093,
          0.079,
          0.355,
          0.141,
          0.07,
          0.058,
          0.073,
          0.055,
          0.069,
          0.062,
          0.057,
          0.074,
          0.061,
          0.066,
          0.077,
          0.067,
          0.081,
          0.07,
          0.063,
          0.092,
          0.165,
          0.092,
          0.097,
          0.139,
          0.2,
          0.076,
          0.105,
          0.087,
          0.097,
          0.079,
          0.082,
          0.369,
          0.084,
          0.08,
          0.091,
          0.073,
          0.09,
          0.08,
          0.083,
          0.347,
          0.318,
          0.135,
          0.137,
          0.124,
          0.14,
          0.194,
          0.13,
          0.146,
          0.069,
          0.064,
          0.08,
          0.061,
          0.071,
          0.073,
          0.057,
          0.072,
          0.065,
          0.054,
          0.073,
          0.06,
          0.056,
          0.075,
          0.064,
          0.061,
          0.079,
          0.063,
          0.07,
          0.074,
          0.205,
          0.094,
          0.12,
          0.143,
          0.084,
          0.065,
          0.086,
          0.081,
          0.324,
          0.581,
          0.271,
          0.183,
          0.139,
          0.092,
          0.089,
          0.079,
          0.081,
          0.112,
          0.141,
          0.176,
          0.23,
          0.205,
          0.133,
          0.146,
          0.131,
          0.091,
          0.09,
          0.082,
          0.093,
          0.075,
          0.097,
          0.085,
          0.082,
          0.095,
          0.083,
          0.082,
          0.095,
          0.081,
          0.092,
          0.087,
          0.084,
          0.097,
          0.089,
          0.083,
          0.093,
          0.085,
          0.23,
          0.096,
          0.098,
          0.124,
          0.155,
          0.078,
          0.075,
          0.098,
          0.069,
          0.082,
          0.2,
          0.072,
          0.095,
          0.187,
          0.106,
          0.083,
          0.08,
          0.315,
          0.446,
          0.176,
          0.942,
          0.595,
          0.17,
          0.172,
          0.137,
          0.129,
          0.182,
          0.175,
          0.106,
          0.102,
          0.072,
          0.07,
          0.066,
          0.067,
          0.076,
          0.06,
          0.079,
          0.061,
          0.065,
          0.075,
          0.054,
          0.064,
          0.073,
          0.052,
          0.06,
          0.066,
          0.052,
          0.063,
          0.062,
          0.178,
          0.098,
          0.088,
          0.08,
          0.066,
          0.13,
          0.146,
          0.078,
          0.068,
          0.062,
          0.064,
          0.183,
          0.084,
          0.083,
          0.073,
          0.182,
          0.154,
          0.195,
          0.2,
          0.071,
          0.076,
          0.069,
          0.066,
          0.08,
          0.057,
          0.15,
          0.641,
          0.14,
          0.111,
          0.37,
          0.164,
          0.067,
          0.064,
          0.081,
          0.063,
          0.069,
          0.066,
          0.06,
          0.072,
          0.075,
          0.091,
          0.155,
          0.086,
          0.077,
          0.075,
          0.061,
          0.063,
          0.073,
          0.057,
          0.065,
          0.169,
          0.288,
          0.118,
          0.067,
          0.063,
          0.095,
          0.056,
          0.069,
          0.061,
          0.064,
          0.067,
          0.058,
          0.069,
          0.051,
          0.073,
          0.052,
          0.062,
          0.062,
          0.051,
          0.068,
          0.059,
          0.06,
          0.071,
          0.063,
          0.142,
          0.113,
          0.083,
          0.068,
          0.068,
          0.06,
          0.068
         ]
        },
        {
         "line": {
          "color": "red"
         },
         "mode": "lines+markers",
         "name": "Gas",
         "type": "scatter",
         "x": [
          "Fri 01-24 22:00",
          "Fri 01-24 22:30",
          "Fri 01-24 23:00",
          "Fri 01-24 23:30",
          "Sat 01-25 00:00",
          "Sat 01-25 00:30",
          "Sat 01-25 01:00",
          "Sat 01-25 01:30",
          "Sat 01-25 02:00",
          "Sat 01-25 02:30",
          "Sat 01-25 03:00",
          "Sat 01-25 03:30",
          "Sat 01-25 04:00",
          "Sat 01-25 04:30",
          "Sat 01-25 05:00",
          "Sat 01-25 05:30",
          "Sat 01-25 06:00",
          "Sat 01-25 06:30",
          "Sat 01-25 07:00",
          "Sat 01-25 07:30",
          "Sat 01-25 08:00",
          "Sat 01-25 08:30",
          "Sat 01-25 09:00",
          "Sat 01-25 09:30",
          "Sat 01-25 10:00",
          "Sat 01-25 10:30",
          "Sat 01-25 11:00",
          "Sat 01-25 11:30",
          "Sat 01-25 12:00",
          "Sat 01-25 12:30",
          "Sat 01-25 13:00",
          "Sat 01-25 13:30",
          "Sat 01-25 14:00",
          "Sat 01-25 14:30",
          "Sat 01-25 15:00",
          "Sat 01-25 15:30",
          "Sat 01-25 16:00",
          "Sat 01-25 16:30",
          "Sat 01-25 17:00",
          "Sat 01-25 17:30",
          "Sat 01-25 18:00",
          "Sat 01-25 18:30",
          "Sat 01-25 19:00",
          "Sat 01-25 19:30",
          "Sat 01-25 20:00",
          "Sat 01-25 20:30",
          "Sat 01-25 21:00",
          "Sat 01-25 21:30",
          "Sat 01-25 22:00",
          "Sat 01-25 22:30",
          "Sat 01-25 23:00",
          "Sat 01-25 23:30",
          "Sun 01-26 00:00",
          "Sun 01-26 00:30",
          "Sun 01-26 01:00",
          "Sun 01-26 01:30",
          "Sun 01-26 02:00",
          "Sun 01-26 02:30",
          "Sun 01-26 03:00",
          "Sun 01-26 03:30",
          "Sun 01-26 04:00",
          "Sun 01-26 04:30",
          "Sun 01-26 05:00",
          "Sun 01-26 05:30",
          "Sun 01-26 06:00",
          "Sun 01-26 06:30",
          "Sun 01-26 07:00",
          "Sun 01-26 07:30",
          "Sun 01-26 08:00",
          "Sun 01-26 08:30",
          "Sun 01-26 09:00",
          "Sun 01-26 09:30",
          "Sun 01-26 10:00",
          "Sun 01-26 10:30",
          "Sun 01-26 11:00",
          "Sun 01-26 11:30",
          "Sun 01-26 12:00",
          "Sun 01-26 12:30",
          "Sun 01-26 13:00",
          "Sun 01-26 13:30",
          "Sun 01-26 14:00",
          "Sun 01-26 14:30",
          "Sun 01-26 15:00",
          "Sun 01-26 15:30",
          "Sun 01-26 16:00",
          "Sun 01-26 16:30",
          "Sun 01-26 17:00",
          "Sun 01-26 17:30",
          "Sun 01-26 18:00",
          "Sun 01-26 18:30",
          "Sun 01-26 19:00",
          "Sun 01-26 19:30",
          "Sun 01-26 20:00",
          "Sun 01-26 20:30",
          "Sun 01-26 21:00",
          "Sun 01-26 21:30",
          "Sun 01-26 22:00",
          "Sun 01-26 22:30",
          "Sun 01-26 23:00",
          "Sun 01-26 23:30",
          "Mon 01-27 00:00",
          "Mon 01-27 00:30",
          "Mon 01-27 01:00",
          "Mon 01-27 01:30",
          "Mon 01-27 02:00",
          "Mon 01-27 02:30",
          "Mon 01-27 03:00",
          "Mon 01-27 03:30",
          "Mon 01-27 04:00",
          "Mon 01-27 04:30",
          "Mon 01-27 05:00",
          "Mon 01-27 05:30",
          "Mon 01-27 06:00",
          "Mon 01-27 06:30",
          "Mon 01-27 07:00",
          "Mon 01-27 07:30",
          "Mon 01-27 08:00",
          "Mon 01-27 08:30",
          "Mon 01-27 09:00",
          "Mon 01-27 09:30",
          "Mon 01-27 10:00",
          "Mon 01-27 10:30",
          "Mon 01-27 11:00",
          "Mon 01-27 11:30",
          "Mon 01-27 12:00",
          "Mon 01-27 12:30",
          "Mon 01-27 13:00",
          "Mon 01-27 13:30",
          "Mon 01-27 14:00",
          "Mon 01-27 14:30",
          "Mon 01-27 15:00",
          "Mon 01-27 15:30",
          "Mon 01-27 16:00",
          "Mon 01-27 16:30",
          "Mon 01-27 17:00",
          "Mon 01-27 17:30",
          "Mon 01-27 18:00",
          "Mon 01-27 18:30",
          "Mon 01-27 19:00",
          "Mon 01-27 19:30",
          "Mon 01-27 20:00",
          "Mon 01-27 20:30",
          "Mon 01-27 21:00",
          "Mon 01-27 21:30",
          "Mon 01-27 22:00",
          "Mon 01-27 22:30",
          "Mon 01-27 23:00",
          "Mon 01-27 23:30",
          "Tue 01-28 00:00",
          "Tue 01-28 00:30",
          "Tue 01-28 01:00",
          "Tue 01-28 01:30",
          "Tue 01-28 02:00",
          "Tue 01-28 02:30",
          "Tue 01-28 03:00",
          "Tue 01-28 03:30",
          "Tue 01-28 04:00",
          "Tue 01-28 04:30",
          "Tue 01-28 05:00",
          "Tue 01-28 05:30",
          "Tue 01-28 06:00",
          "Tue 01-28 06:30",
          "Tue 01-28 07:00",
          "Tue 01-28 07:30",
          "Tue 01-28 08:00",
          "Tue 01-28 08:30",
          "Tue 01-28 09:00",
          "Tue 01-28 09:30",
          "Tue 01-28 10:00",
          "Tue 01-28 10:30",
          "Tue 01-28 11:00",
          "Tue 01-28 11:30",
          "Tue 01-28 12:00",
          "Tue 01-28 12:30",
          "Tue 01-28 13:00",
          "Tue 01-28 13:30",
          "Tue 01-28 14:00",
          "Tue 01-28 14:30",
          "Tue 01-28 15:00",
          "Tue 01-28 15:30",
          "Tue 01-28 16:00",
          "Tue 01-28 16:30",
          "Tue 01-28 17:00",
          "Tue 01-28 17:30",
          "Tue 01-28 18:00",
          "Tue 01-28 18:30",
          "Tue 01-28 19:00",
          "Tue 01-28 19:30",
          "Tue 01-28 20:00",
          "Tue 01-28 20:30",
          "Tue 01-28 21:00",
          "Tue 01-28 21:30",
          "Tue 01-28 22:00",
          "Tue 01-28 22:30",
          "Tue 01-28 23:00",
          "Tue 01-28 23:30",
          "Wed 01-29 00:00",
          "Wed 01-29 00:30",
          "Wed 01-29 01:00",
          "Wed 01-29 01:30",
          "Wed 01-29 02:00",
          "Wed 01-29 02:30",
          "Wed 01-29 03:00",
          "Wed 01-29 03:30",
          "Wed 01-29 04:00",
          "Wed 01-29 04:30",
          "Wed 01-29 05:00",
          "Wed 01-29 05:30",
          "Wed 01-29 06:00",
          "Wed 01-29 06:30",
          "Wed 01-29 07:00",
          "Wed 01-29 07:30",
          "Wed 01-29 08:00",
          "Wed 01-29 08:30",
          "Wed 01-29 09:00",
          "Wed 01-29 09:30",
          "Wed 01-29 10:00",
          "Wed 01-29 10:30",
          "Wed 01-29 11:00",
          "Wed 01-29 11:30",
          "Wed 01-29 12:00",
          "Wed 01-29 12:30",
          "Wed 01-29 13:00",
          "Wed 01-29 13:30",
          "Wed 01-29 14:00",
          "Wed 01-29 14:30",
          "Wed 01-29 15:00",
          "Wed 01-29 15:30",
          "Wed 01-29 16:00",
          "Wed 01-29 16:30",
          "Wed 01-29 17:00",
          "Wed 01-29 17:30",
          "Wed 01-29 18:00",
          "Wed 01-29 18:30",
          "Wed 01-29 19:00",
          "Wed 01-29 19:30",
          "Wed 01-29 20:00",
          "Wed 01-29 20:30",
          "Wed 01-29 21:00",
          "Wed 01-29 21:30",
          "Wed 01-29 22:00",
          "Wed 01-29 22:30",
          "Wed 01-29 23:00",
          "Wed 01-29 23:30",
          "Thu 01-30 00:00",
          "Thu 01-30 00:30",
          "Thu 01-30 01:00",
          "Thu 01-30 01:30",
          "Thu 01-30 02:00",
          "Thu 01-30 02:30",
          "Thu 01-30 03:00",
          "Thu 01-30 03:30",
          "Thu 01-30 04:00",
          "Thu 01-30 04:30",
          "Thu 01-30 05:00",
          "Thu 01-30 05:30",
          "Thu 01-30 06:00",
          "Thu 01-30 06:30",
          "Thu 01-30 07:00",
          "Thu 01-30 07:30",
          "Thu 01-30 08:00",
          "Thu 01-30 08:30",
          "Thu 01-30 09:00",
          "Thu 01-30 09:30",
          "Thu 01-30 10:00",
          "Thu 01-30 10:30",
          "Thu 01-30 11:00",
          "Thu 01-30 11:30",
          "Thu 01-30 12:00",
          "Thu 01-30 12:30",
          "Thu 01-30 13:00",
          "Thu 01-30 13:30",
          "Thu 01-30 14:00",
          "Thu 01-30 14:30",
          "Thu 01-30 15:00",
          "Thu 01-30 15:30",
          "Thu 01-30 16:00",
          "Thu 01-30 16:30",
          "Thu 01-30 17:00",
          "Thu 01-30 17:30",
          "Thu 01-30 18:00",
          "Thu 01-30 18:30",
          "Thu 01-30 19:00",
          "Thu 01-30 19:30",
          "Thu 01-30 20:00",
          "Thu 01-30 20:30",
          "Thu 01-30 21:00",
          "Thu 01-30 21:30",
          "Thu 01-30 22:00",
          "Thu 01-30 22:30",
          "Thu 01-30 23:00",
          "Thu 01-30 23:30",
          "Fri 01-31 00:00",
          "Fri 01-31 00:30",
          "Fri 01-31 01:00",
          "Fri 01-31 01:30",
          "Fri 01-31 02:00",
          "Fri 01-31 02:30",
          "Fri 01-31 03:00",
          "Fri 01-31 03:30",
          "Fri 01-31 04:00",
          "Fri 01-31 04:30",
          "Fri 01-31 05:00",
          "Fri 01-31 05:30",
          "Fri 01-31 06:00",
          "Fri 01-31 06:30",
          "Fri 01-31 07:00",
          "Fri 01-31 07:30",
          "Fri 01-31 08:00",
          "Fri 01-31 08:30",
          "Fri 01-31 09:00",
          "Fri 01-31 09:30",
          "Fri 01-31 10:00",
          "Fri 01-31 10:30",
          "Fri 01-31 11:00",
          "Fri 01-31 11:30",
          "Fri 01-31 12:00",
          "Fri 01-31 12:30",
          "Fri 01-31 13:00",
          "Fri 01-31 13:30",
          "Fri 01-31 14:00",
          "Fri 01-31 14:30",
          "Fri 01-31 15:00",
          "Fri 01-31 15:30",
          "Fri 01-31 16:00",
          "Fri 01-31 16:30",
          "Fri 01-31 17:00",
          "Fri 01-31 17:30",
          "Fri 01-31 18:00",
          "Fri 01-31 18:30",
          "Fri 01-31 19:00",
          "Fri 01-31 19:30",
          "Fri 01-31 20:00",
          "Fri 01-31 20:30",
          "Fri 01-31 21:00",
          "Fri 01-31 21:30",
          "Fri 01-31 22:00",
          "Fri 01-31 22:30",
          "Fri 01-31 23:00",
          "Fri 01-31 23:30",
          "Sat 02-01 00:00",
          "Sat 02-01 00:30",
          "Sat 02-01 01:00",
          "Sat 02-01 01:30",
          "Sat 02-01 02:00",
          "Sat 02-01 02:30",
          "Sat 02-01 03:00",
          "Sat 02-01 03:30",
          "Sat 02-01 04:00",
          "Sat 02-01 04:30",
          "Sat 02-01 05:00",
          "Sat 02-01 05:30",
          "Sat 02-01 06:00",
          "Sat 02-01 06:30",
          "Sat 02-01 07:00",
          "Sat 02-01 07:30",
          "Sat 02-01 08:00",
          "Sat 02-01 08:30",
          "Sat 02-01 09:00",
          "Sat 02-01 09:30",
          "Sat 02-01 10:00",
          "Sat 02-01 10:30",
          "Sat 02-01 11:00",
          "Sat 02-01 11:30",
          "Sat 02-01 12:00",
          "Sat 02-01 12:30",
          "Sat 02-01 13:00",
          "Sat 02-01 13:30",
          "Sat 02-01 14:00",
          "Sat 02-01 14:30",
          "Sat 02-01 15:00",
          "Sat 02-01 15:30",
          "Sat 02-01 16:00",
          "Sat 02-01 16:30",
          "Sat 02-01 17:00",
          "Sat 02-01 17:30",
          "Sat 02-01 18:00",
          "Sat 02-01 18:30",
          "Sat 02-01 19:00",
          "Sat 02-01 19:30",
          "Sat 02-01 20:00",
          "Sat 02-01 20:30",
          "Sat 02-01 21:00",
          "Sat 02-01 21:30",
          "Sat 02-01 22:00",
          "Sat 02-01 22:30",
          "Sat 02-01 23:00",
          "Sat 02-01 23:30",
          null,
          null,
          null,
          null,
          null,
          null,
          null,
          null,
          null,
          null,
          null,
          null,
          null,
          null,
          null,
          null,
          null,
          null,
          null,
          null,
          null,
          null,
          null,
          null,
          null,
          null,
          null,
          null,
          null,
          null,
          null,
          null,
          null,
          null,
          null,
          null,
          null,
          null,
          null,
          null,
          null,
          null,
          null,
          null,
          null,
          null,
          null,
          null
         ],
         "y": [
          0.206,
          0,
          0,
          0.21,
          0,
          0,
          0.203,
          0,
          0,
          0.177,
          0,
          0.197,
          0,
          0,
          0.202,
          0,
          0.208,
          0.213,
          0,
          0.225,
          0,
          0.242,
          0.073,
          0.202,
          0.002,
          0.005,
          0,
          0.029,
          0,
          0.013,
          0,
          0,
          0,
          0.005,
          0.007,
          0,
          0,
          0.781,
          0.488,
          0.603,
          0.426,
          0.454,
          0.45,
          0.397,
          0.349,
          0.347,
          0.449,
          0,
          0,
          0,
          0,
          0,
          0,
          0,
          0,
          0,
          0,
          0,
          0,
          0,
          0.089,
          0,
          0,
          0,
          0,
          0,
          0,
          0,
          0,
          0,
          0,
          0.046,
          0,
          0,
          0.03,
          0.02,
          0.046,
          0.004,
          0.162,
          0.011,
          0.343,
          0.686,
          0.597,
          0.505,
          0.552,
          0.457,
          0.464,
          0.454,
          0.444,
          0.415,
          0.49,
          0.315,
          0.42,
          0.413,
          0.33,
          0.388,
          0.385,
          0.047,
          0,
          0,
          0,
          0,
          0,
          0,
          0,
          0,
          0,
          0,
          0,
          0,
          0,
          0,
          0,
          0,
          0,
          0.002,
          0,
          0,
          0.002,
          0.036,
          0,
          0,
          0,
          0,
          0,
          0,
          0.005,
          0.023,
          0,
          0,
          0,
          0,
          0,
          0,
          0,
          0.842,
          0.533,
          0.567,
          0.452,
          0.457,
          0.35,
          0.484,
          0.148,
          0,
          0,
          0,
          0,
          0,
          0,
          0,
          0,
          0,
          0,
          0,
          0,
          0,
          0,
          0,
          0,
          0,
          0,
          0,
          0,
          0,
          0,
          0,
          0,
          0.01,
          0,
          0,
          0,
          0,
          0,
          0,
          0.095,
          0.112,
          0,
          0.209,
          0,
          0,
          0.225,
          0.623,
          0.551,
          0.494,
          0.449,
          0.453,
          0.5,
          0.414,
          0.318,
          0,
          0.023,
          0,
          0,
          0,
          0,
          0,
          0,
          0,
          0,
          0,
          0,
          0,
          0,
          0,
          0.2,
          0.213,
          0.125,
          0.103,
          0.23,
          0.234,
          0,
          0.264,
          0.223,
          0,
          0.233,
          0,
          0.173,
          0,
          0.366,
          0,
          0,
          0,
          0.019,
          0.026,
          0,
          0.196,
          0.016,
          0,
          0.228,
          0,
          0.219,
          0.006,
          0.02,
          0,
          0.224,
          0,
          0.244,
          0,
          0,
          0,
          0,
          0,
          0,
          0,
          0,
          0,
          0,
          0,
          0,
          0,
          0,
          0,
          0,
          0,
          0.214,
          0.077,
          0.166,
          0.251,
          0.217,
          0.017,
          0.258,
          0.224,
          0,
          0.198,
          0,
          0,
          0,
          0,
          0.032,
          0.011,
          0,
          0,
          0,
          0,
          0,
          0,
          0.024,
          0.06,
          0,
          0.03,
          0.019,
          0.003,
          0,
          0,
          0,
          0,
          0.226,
          0,
          0.196,
          0.083,
          0.137,
          0.194,
          0.204,
          0,
          0.214,
          0,
          0.198,
          0.217,
          0.135,
          0.073,
          0.195,
          0,
          0.186,
          0.232,
          0,
          0.243,
          0.216,
          0.06,
          0.19,
          0,
          0.152,
          0,
          0.029,
          0.19,
          0,
          0.104,
          0.111,
          0,
          0,
          0.021,
          0.231,
          0,
          0,
          0,
          0.233,
          0.571,
          0.522,
          0.53,
          0.452,
          0.365,
          0,
          0.265,
          0.246,
          0,
          0,
          0,
          0,
          0,
          0,
          0,
          0,
          0,
          0,
          0,
          0,
          0,
          0,
          0,
          0,
          0,
          0,
          0,
          0,
          0,
          0,
          0,
          0,
          0,
          0.228,
          0,
          0.205,
          0.008,
          0.247,
          0,
          0.247,
          0,
          0.206,
          0,
          0,
          0.212,
          0.049,
          0.205,
          0.159,
          0.631,
          0.44,
          0.363,
          0.02,
          0,
          0.224,
          0,
          0,
          0.224,
          0,
          0.225,
          0.066,
          0.12,
          0.206,
          0.036,
          null,
          null,
          null,
          null,
          null,
          null,
          null,
          null,
          null,
          null,
          null,
          null,
          null,
          null,
          null,
          null,
          null,
          null,
          null,
          null,
          null,
          null,
          null,
          null,
          null,
          null,
          null,
          null,
          null,
          null,
          null,
          null,
          null,
          null,
          null,
          null,
          null,
          null,
          null,
          null,
          null,
          null,
          null,
          null,
          null,
          null,
          null,
          null
         ]
        }
       ],
       "layout": {
        "template": {
         "data": {
          "bar": [
           {
            "error_x": {
             "color": "#2a3f5f"
            },
            "error_y": {
             "color": "#2a3f5f"
            },
            "marker": {
             "line": {
              "color": "white",
              "width": 0.5
             },
             "pattern": {
              "fillmode": "overlay",
              "size": 10,
              "solidity": 0.2
             }
            },
            "type": "bar"
           }
          ],
          "barpolar": [
           {
            "marker": {
             "line": {
              "color": "white",
              "width": 0.5
             },
             "pattern": {
              "fillmode": "overlay",
              "size": 10,
              "solidity": 0.2
             }
            },
            "type": "barpolar"
           }
          ],
          "carpet": [
           {
            "aaxis": {
             "endlinecolor": "#2a3f5f",
             "gridcolor": "#C8D4E3",
             "linecolor": "#C8D4E3",
             "minorgridcolor": "#C8D4E3",
             "startlinecolor": "#2a3f5f"
            },
            "baxis": {
             "endlinecolor": "#2a3f5f",
             "gridcolor": "#C8D4E3",
             "linecolor": "#C8D4E3",
             "minorgridcolor": "#C8D4E3",
             "startlinecolor": "#2a3f5f"
            },
            "type": "carpet"
           }
          ],
          "choropleth": [
           {
            "colorbar": {
             "outlinewidth": 0,
             "ticks": ""
            },
            "type": "choropleth"
           }
          ],
          "contour": [
           {
            "colorbar": {
             "outlinewidth": 0,
             "ticks": ""
            },
            "colorscale": [
             [
              0,
              "#0d0887"
             ],
             [
              0.1111111111111111,
              "#46039f"
             ],
             [
              0.2222222222222222,
              "#7201a8"
             ],
             [
              0.3333333333333333,
              "#9c179e"
             ],
             [
              0.4444444444444444,
              "#bd3786"
             ],
             [
              0.5555555555555556,
              "#d8576b"
             ],
             [
              0.6666666666666666,
              "#ed7953"
             ],
             [
              0.7777777777777778,
              "#fb9f3a"
             ],
             [
              0.8888888888888888,
              "#fdca26"
             ],
             [
              1,
              "#f0f921"
             ]
            ],
            "type": "contour"
           }
          ],
          "contourcarpet": [
           {
            "colorbar": {
             "outlinewidth": 0,
             "ticks": ""
            },
            "type": "contourcarpet"
           }
          ],
          "heatmap": [
           {
            "colorbar": {
             "outlinewidth": 0,
             "ticks": ""
            },
            "colorscale": [
             [
              0,
              "#0d0887"
             ],
             [
              0.1111111111111111,
              "#46039f"
             ],
             [
              0.2222222222222222,
              "#7201a8"
             ],
             [
              0.3333333333333333,
              "#9c179e"
             ],
             [
              0.4444444444444444,
              "#bd3786"
             ],
             [
              0.5555555555555556,
              "#d8576b"
             ],
             [
              0.6666666666666666,
              "#ed7953"
             ],
             [
              0.7777777777777778,
              "#fb9f3a"
             ],
             [
              0.8888888888888888,
              "#fdca26"
             ],
             [
              1,
              "#f0f921"
             ]
            ],
            "type": "heatmap"
           }
          ],
          "heatmapgl": [
           {
            "colorbar": {
             "outlinewidth": 0,
             "ticks": ""
            },
            "colorscale": [
             [
              0,
              "#0d0887"
             ],
             [
              0.1111111111111111,
              "#46039f"
             ],
             [
              0.2222222222222222,
              "#7201a8"
             ],
             [
              0.3333333333333333,
              "#9c179e"
             ],
             [
              0.4444444444444444,
              "#bd3786"
             ],
             [
              0.5555555555555556,
              "#d8576b"
             ],
             [
              0.6666666666666666,
              "#ed7953"
             ],
             [
              0.7777777777777778,
              "#fb9f3a"
             ],
             [
              0.8888888888888888,
              "#fdca26"
             ],
             [
              1,
              "#f0f921"
             ]
            ],
            "type": "heatmapgl"
           }
          ],
          "histogram": [
           {
            "marker": {
             "pattern": {
              "fillmode": "overlay",
              "size": 10,
              "solidity": 0.2
             }
            },
            "type": "histogram"
           }
          ],
          "histogram2d": [
           {
            "colorbar": {
             "outlinewidth": 0,
             "ticks": ""
            },
            "colorscale": [
             [
              0,
              "#0d0887"
             ],
             [
              0.1111111111111111,
              "#46039f"
             ],
             [
              0.2222222222222222,
              "#7201a8"
             ],
             [
              0.3333333333333333,
              "#9c179e"
             ],
             [
              0.4444444444444444,
              "#bd3786"
             ],
             [
              0.5555555555555556,
              "#d8576b"
             ],
             [
              0.6666666666666666,
              "#ed7953"
             ],
             [
              0.7777777777777778,
              "#fb9f3a"
             ],
             [
              0.8888888888888888,
              "#fdca26"
             ],
             [
              1,
              "#f0f921"
             ]
            ],
            "type": "histogram2d"
           }
          ],
          "histogram2dcontour": [
           {
            "colorbar": {
             "outlinewidth": 0,
             "ticks": ""
            },
            "colorscale": [
             [
              0,
              "#0d0887"
             ],
             [
              0.1111111111111111,
              "#46039f"
             ],
             [
              0.2222222222222222,
              "#7201a8"
             ],
             [
              0.3333333333333333,
              "#9c179e"
             ],
             [
              0.4444444444444444,
              "#bd3786"
             ],
             [
              0.5555555555555556,
              "#d8576b"
             ],
             [
              0.6666666666666666,
              "#ed7953"
             ],
             [
              0.7777777777777778,
              "#fb9f3a"
             ],
             [
              0.8888888888888888,
              "#fdca26"
             ],
             [
              1,
              "#f0f921"
             ]
            ],
            "type": "histogram2dcontour"
           }
          ],
          "mesh3d": [
           {
            "colorbar": {
             "outlinewidth": 0,
             "ticks": ""
            },
            "type": "mesh3d"
           }
          ],
          "parcoords": [
           {
            "line": {
             "colorbar": {
              "outlinewidth": 0,
              "ticks": ""
             }
            },
            "type": "parcoords"
           }
          ],
          "pie": [
           {
            "automargin": true,
            "type": "pie"
           }
          ],
          "scatter": [
           {
            "fillpattern": {
             "fillmode": "overlay",
             "size": 10,
             "solidity": 0.2
            },
            "type": "scatter"
           }
          ],
          "scatter3d": [
           {
            "line": {
             "colorbar": {
              "outlinewidth": 0,
              "ticks": ""
             }
            },
            "marker": {
             "colorbar": {
              "outlinewidth": 0,
              "ticks": ""
             }
            },
            "type": "scatter3d"
           }
          ],
          "scattercarpet": [
           {
            "marker": {
             "colorbar": {
              "outlinewidth": 0,
              "ticks": ""
             }
            },
            "type": "scattercarpet"
           }
          ],
          "scattergeo": [
           {
            "marker": {
             "colorbar": {
              "outlinewidth": 0,
              "ticks": ""
             }
            },
            "type": "scattergeo"
           }
          ],
          "scattergl": [
           {
            "marker": {
             "colorbar": {
              "outlinewidth": 0,
              "ticks": ""
             }
            },
            "type": "scattergl"
           }
          ],
          "scattermapbox": [
           {
            "marker": {
             "colorbar": {
              "outlinewidth": 0,
              "ticks": ""
             }
            },
            "type": "scattermapbox"
           }
          ],
          "scatterpolar": [
           {
            "marker": {
             "colorbar": {
              "outlinewidth": 0,
              "ticks": ""
             }
            },
            "type": "scatterpolar"
           }
          ],
          "scatterpolargl": [
           {
            "marker": {
             "colorbar": {
              "outlinewidth": 0,
              "ticks": ""
             }
            },
            "type": "scatterpolargl"
           }
          ],
          "scatterternary": [
           {
            "marker": {
             "colorbar": {
              "outlinewidth": 0,
              "ticks": ""
             }
            },
            "type": "scatterternary"
           }
          ],
          "surface": [
           {
            "colorbar": {
             "outlinewidth": 0,
             "ticks": ""
            },
            "colorscale": [
             [
              0,
              "#0d0887"
             ],
             [
              0.1111111111111111,
              "#46039f"
             ],
             [
              0.2222222222222222,
              "#7201a8"
             ],
             [
              0.3333333333333333,
              "#9c179e"
             ],
             [
              0.4444444444444444,
              "#bd3786"
             ],
             [
              0.5555555555555556,
              "#d8576b"
             ],
             [
              0.6666666666666666,
              "#ed7953"
             ],
             [
              0.7777777777777778,
              "#fb9f3a"
             ],
             [
              0.8888888888888888,
              "#fdca26"
             ],
             [
              1,
              "#f0f921"
             ]
            ],
            "type": "surface"
           }
          ],
          "table": [
           {
            "cells": {
             "fill": {
              "color": "#EBF0F8"
             },
             "line": {
              "color": "white"
             }
            },
            "header": {
             "fill": {
              "color": "#C8D4E3"
             },
             "line": {
              "color": "white"
             }
            },
            "type": "table"
           }
          ]
         },
         "layout": {
          "annotationdefaults": {
           "arrowcolor": "#2a3f5f",
           "arrowhead": 0,
           "arrowwidth": 1
          },
          "autotypenumbers": "strict",
          "coloraxis": {
           "colorbar": {
            "outlinewidth": 0,
            "ticks": ""
           }
          },
          "colorscale": {
           "diverging": [
            [
             0,
             "#8e0152"
            ],
            [
             0.1,
             "#c51b7d"
            ],
            [
             0.2,
             "#de77ae"
            ],
            [
             0.3,
             "#f1b6da"
            ],
            [
             0.4,
             "#fde0ef"
            ],
            [
             0.5,
             "#f7f7f7"
            ],
            [
             0.6,
             "#e6f5d0"
            ],
            [
             0.7,
             "#b8e186"
            ],
            [
             0.8,
             "#7fbc41"
            ],
            [
             0.9,
             "#4d9221"
            ],
            [
             1,
             "#276419"
            ]
           ],
           "sequential": [
            [
             0,
             "#0d0887"
            ],
            [
             0.1111111111111111,
             "#46039f"
            ],
            [
             0.2222222222222222,
             "#7201a8"
            ],
            [
             0.3333333333333333,
             "#9c179e"
            ],
            [
             0.4444444444444444,
             "#bd3786"
            ],
            [
             0.5555555555555556,
             "#d8576b"
            ],
            [
             0.6666666666666666,
             "#ed7953"
            ],
            [
             0.7777777777777778,
             "#fb9f3a"
            ],
            [
             0.8888888888888888,
             "#fdca26"
            ],
            [
             1,
             "#f0f921"
            ]
           ],
           "sequentialminus": [
            [
             0,
             "#0d0887"
            ],
            [
             0.1111111111111111,
             "#46039f"
            ],
            [
             0.2222222222222222,
             "#7201a8"
            ],
            [
             0.3333333333333333,
             "#9c179e"
            ],
            [
             0.4444444444444444,
             "#bd3786"
            ],
            [
             0.5555555555555556,
             "#d8576b"
            ],
            [
             0.6666666666666666,
             "#ed7953"
            ],
            [
             0.7777777777777778,
             "#fb9f3a"
            ],
            [
             0.8888888888888888,
             "#fdca26"
            ],
            [
             1,
             "#f0f921"
            ]
           ]
          },
          "colorway": [
           "#636efa",
           "#EF553B",
           "#00cc96",
           "#ab63fa",
           "#FFA15A",
           "#19d3f3",
           "#FF6692",
           "#B6E880",
           "#FF97FF",
           "#FECB52"
          ],
          "font": {
           "color": "#2a3f5f"
          },
          "geo": {
           "bgcolor": "white",
           "lakecolor": "white",
           "landcolor": "white",
           "showlakes": true,
           "showland": true,
           "subunitcolor": "#C8D4E3"
          },
          "hoverlabel": {
           "align": "left"
          },
          "hovermode": "closest",
          "mapbox": {
           "style": "light"
          },
          "paper_bgcolor": "white",
          "plot_bgcolor": "white",
          "polar": {
           "angularaxis": {
            "gridcolor": "#EBF0F8",
            "linecolor": "#EBF0F8",
            "ticks": ""
           },
           "bgcolor": "white",
           "radialaxis": {
            "gridcolor": "#EBF0F8",
            "linecolor": "#EBF0F8",
            "ticks": ""
           }
          },
          "scene": {
           "xaxis": {
            "backgroundcolor": "white",
            "gridcolor": "#DFE8F3",
            "gridwidth": 2,
            "linecolor": "#EBF0F8",
            "showbackground": true,
            "ticks": "",
            "zerolinecolor": "#EBF0F8"
           },
           "yaxis": {
            "backgroundcolor": "white",
            "gridcolor": "#DFE8F3",
            "gridwidth": 2,
            "linecolor": "#EBF0F8",
            "showbackground": true,
            "ticks": "",
            "zerolinecolor": "#EBF0F8"
           },
           "zaxis": {
            "backgroundcolor": "white",
            "gridcolor": "#DFE8F3",
            "gridwidth": 2,
            "linecolor": "#EBF0F8",
            "showbackground": true,
            "ticks": "",
            "zerolinecolor": "#EBF0F8"
           }
          },
          "shapedefaults": {
           "line": {
            "color": "#2a3f5f"
           }
          },
          "ternary": {
           "aaxis": {
            "gridcolor": "#DFE8F3",
            "linecolor": "#A2B1C6",
            "ticks": ""
           },
           "baxis": {
            "gridcolor": "#DFE8F3",
            "linecolor": "#A2B1C6",
            "ticks": ""
           },
           "bgcolor": "white",
           "caxis": {
            "gridcolor": "#DFE8F3",
            "linecolor": "#A2B1C6",
            "ticks": ""
           }
          },
          "title": {
           "x": 0.05
          },
          "xaxis": {
           "automargin": true,
           "gridcolor": "#EBF0F8",
           "linecolor": "#EBF0F8",
           "ticks": "",
           "title": {
            "standoff": 15
           },
           "zerolinecolor": "#EBF0F8",
           "zerolinewidth": 2
          },
          "yaxis": {
           "automargin": true,
           "gridcolor": "#EBF0F8",
           "linecolor": "#EBF0F8",
           "ticks": "",
           "title": {
            "standoff": 15
           },
           "zerolinecolor": "#EBF0F8",
           "zerolinewidth": 2
          }
         }
        },
        "title": {
         "text": "Energy Consumption Over Time"
        },
        "xaxis": {
         "tickangle": 45,
         "title": {
          "text": "Time Interval (Start)"
         }
        },
        "yaxis": {
         "title": {
          "text": "Consumption"
         }
        }
       }
      }
     },
     "metadata": {},
     "output_type": "display_data"
    }
   ],
   "source": [
    "# display chart\n",
    "fig = get_plot(df_both, 'both')\n",
    "fig.show()"
   ]
  }
 ],
 "metadata": {
  "kernelspec": {
   "display_name": "Python 3",
   "language": "python",
   "name": "python3"
  },
  "language_info": {
   "codemirror_mode": {
    "name": "ipython",
    "version": 3
   },
   "file_extension": ".py",
   "mimetype": "text/x-python",
   "name": "python",
   "nbconvert_exporter": "python",
   "pygments_lexer": "ipython3",
   "version": "3.12.5"
  }
 },
 "nbformat": 4,
 "nbformat_minor": 2
}

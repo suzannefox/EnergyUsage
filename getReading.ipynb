{
 "cells": [
  {
   "cell_type": "markdown",
   "metadata": {},
   "source": [
    "# Setup - libraries and functions"
   ]
  },
  {
   "cell_type": "code",
   "execution_count": 2,
   "metadata": {},
   "outputs": [],
   "source": [
    "import requests\n",
    "import os\n",
    "import json\n",
    "import pandas as pd\n",
    "import plotly.graph_objects as go\n",
    "from datetime import datetime\n",
    "from dotenv import load_dotenv\n",
    "from git import Repo\n"
   ]
  },
  {
   "cell_type": "code",
   "execution_count": 3,
   "metadata": {},
   "outputs": [
    {
     "name": "stdout",
     "output_type": "stream",
     "text": [
      " ... Current dir is ., Raw data saved to ./data-raw\n"
     ]
    }
   ],
   "source": [
    "# Get the API key\n",
    "load_dotenv()\n",
    "api_key = os.getenv('API_KEY')\n",
    "\n",
    "dir_current = os.curdir\n",
    "dir_data_raw = f'{dir_current}/data-raw'\n",
    "dir_cumulative = f'{dir_current}/data-cumulative'\n",
    "dir_repo = f'{dir_current}/.git'\n",
    "repo = Repo(dir_repo)\n",
    "\n",
    "print(f' ... Current dir is {dir_current}, Raw data saved to {dir_data_raw}')"
   ]
  },
  {
   "cell_type": "code",
   "execution_count": 4,
   "metadata": {},
   "outputs": [],
   "source": [
    "def report_timespan(df):\n",
    "    df['interval_start'] = pd.to_datetime(df['interval_start'])\n",
    "\n",
    "    date_start = df['interval_start'].min().strftime('%a %Y-%m-%d %H:%M')\n",
    "    date_final = df['interval_start'].max().strftime('%a %Y-%m-%d %H:%M')\n",
    "\n",
    "    print(f' ... From {date_start} to {date_final}')"
   ]
  },
  {
   "cell_type": "code",
   "execution_count": 5,
   "metadata": {},
   "outputs": [],
   "source": [
    "def get_raw_usage_data(utility, sort = True, save = True, verbose = True):\n",
    "\n",
    "    if not utility in ['electricity', 'gas']:\n",
    "        raise ValueError('utility must be either \"electricity\" or \"gas\"')\n",
    "    \n",
    "    electric_url = \"https://api.octopus.energy/v1/electricity-meter-points/1200039599083/meters/24J0348055/consumption/\"\n",
    "    gas_url = \"https://api.octopus.energy/v1/gas-meter-points/620841506/meters/E6S17881452061/consumption/\"\n",
    "    \n",
    "    if utility == 'electricity':\n",
    "        url = electric_url\n",
    "    elif utility == 'gas':\n",
    "        url = gas_url\n",
    "    \n",
    "    response = requests.get(url, auth=(api_key, \"\")) \n",
    "    data = response.json()['results']\n",
    "    df = pd.DataFrame(data)\n",
    "    \n",
    "    if save:\n",
    "        print(f\"Status Code ({utility}): {response.status_code}\")\n",
    "        file_raw_data = f'{dir_data_raw}/{datetime.now().strftime('%Y-%m-%d')}_rawdata_{utility}.csv'\n",
    "        df.to_csv(file_raw_data, index = False)\n",
    "        print(f' ... Saving as {file_raw_data}')\n",
    "        print(f' ... Records {df.shape[0]}')\n",
    "        print(f' ... Variables {df.shape[1]} : {df.columns}')\n",
    "        if verbose: report_timespan(df)\n",
    "    else:\n",
    "        if verbose: report_timespan(df)\n",
    "\n",
    "    df.columns = [f'{utility}_consumption', 'interval_start', 'interval_end']\n",
    "    if sort:\n",
    "        df = df.sort_values(by='interval_start', ascending=True)\n",
    "\n",
    "    return df"
   ]
  },
  {
   "cell_type": "code",
   "execution_count": 6,
   "metadata": {},
   "outputs": [],
   "source": [
    "def get_utility_data(directory, utility = 'gas'):\n",
    "\n",
    "    \"\"\"Returns a list of CSV files in the given directory.\"\"\"\n",
    "    raw_files = [file for file in os.listdir(directory) if file.endswith(\".csv\") and 'rawdata' in file and utility in file]\n",
    "\n",
    "    dfs = [pd.read_csv(f'{directory}/{file}') for file in raw_files]  # Read each CSV file into a DataFrame\n",
    "    df_combined = pd.concat(dfs, ignore_index=True)  # Concatenate all DataFrames\n",
    "    df_unique = df_combined.drop_duplicates(subset=['interval_start', 'interval_end']).copy()\n",
    "    df_unique.columns = [f'{utility}_consumption','interval_start', 'interval_end']\n",
    "\n",
    "    df_unique['weekday'] = df_unique['interval_start'].apply(lambda x: datetime.strptime(x, '%Y-%m-%dT%H:%M:%SZ').strftime('%a'))\n",
    "    df_unique['day'] = df_unique['interval_start'].apply(lambda x: datetime.strptime(x, '%Y-%m-%dT%H:%M:%SZ').strftime('%Y-%m-%d'))\n",
    "    df_unique['dom'] = df_unique['interval_start'].apply(lambda x: datetime.strptime(x, '%Y-%m-%dT%H:%M:%SZ').strftime('%m-%d'))\n",
    "    df_unique['time'] = df_unique['interval_start'].apply(lambda x: datetime.strptime(x, '%Y-%m-%dT%H:%M:%SZ').strftime('%H:%M'))\n",
    "    df_unique['x_label'] = df_unique.apply(lambda row: f\"{row['weekday']} {row['dom']} {row['time']}\", axis=1)\n",
    "    df_unique = df_unique.sort_values(by=['day', 'time'], ascending=True)\n",
    "\n",
    "    print(f' ... Cumulative data for {utility}, {df_unique.shape[0]} records')\n",
    "    report_timespan(df_unique)\n",
    "    return(df_unique)\n"
   ]
  },
  {
   "cell_type": "code",
   "execution_count": 7,
   "metadata": {},
   "outputs": [],
   "source": [
    "def get_plot(df, utility = 'both', value = 'cost'):\n",
    "\n",
    "    # Create the plot\n",
    "    fig = go.Figure()\n",
    "\n",
    "    if value == 'cost':\n",
    "        df['gas_plot'] = df['gas_cost']\n",
    "        df['electricity_plot'] = df['electricity_cost']\n",
    "        y_title = \"Cost (£)\"\n",
    "    elif value == 'consumption':\n",
    "        df['gas_plot'] = df['gas_consumption']\n",
    "        df['electricity_plot'] = df['electricity_consumption']  \n",
    "        y_title = \"Consumption (kWh)\"\n",
    "\n",
    "    plot_title = f\"Energy {y_title} Over Time\"\n",
    "\n",
    "    # Plot electricity consumption\n",
    "    if utility == 'electricity' or utility == 'both':\n",
    "        fig.add_trace(go.Scatter(\n",
    "            x=df['x_label'], \n",
    "            y=df['electricity_plot'], \n",
    "            mode='lines+markers', \n",
    "            name='Electricity', \n",
    "            line=dict(color='blue')\n",
    "        ))\n",
    "\n",
    "    # Plot gas consumption\n",
    "    if utility == 'gas' or utility == 'both':\n",
    "        fig.add_trace(go.Scatter(\n",
    "            x=df['x_label'], \n",
    "            y=df['gas_plot'], \n",
    "            mode='lines+markers', \n",
    "            name='Gas', \n",
    "            line=dict(color='red')\n",
    "        ))\n",
    "\n",
    "    # Update layout\n",
    "    fig.update_layout(\n",
    "        title = plot_title,\n",
    "        xaxis_title = \"Time Interval (Start)\",\n",
    "        yaxis_title = y_title,\n",
    "        xaxis=dict(tickangle=45),\n",
    "        template=\"plotly_white\"\n",
    "    )\n",
    "\n",
    "    # Show the plot\n",
    "    return(fig)\n",
    "    #fig.show()"
   ]
  },
  {
   "cell_type": "markdown",
   "metadata": {},
   "source": [
    "# Get new data"
   ]
  },
  {
   "cell_type": "code",
   "execution_count": 11,
   "metadata": {},
   "outputs": [
    {
     "name": "stdout",
     "output_type": "stream",
     "text": [
      "Status Code (electricity): 200\n",
      " ... Saving as ./data-raw/2025-02-26_rawdata_electricity.csv\n",
      " ... Records 100\n",
      " ... Variables 3 : Index(['consumption', 'interval_start', 'interval_end'], dtype='object')\n",
      " ... From Sat 2025-02-22 22:00 to Mon 2025-02-24 23:30\n",
      "Status Code (gas): 200\n",
      " ... Saving as ./data-raw/2025-02-26_rawdata_gas.csv\n",
      " ... Records 100\n",
      " ... Variables 3 : Index(['consumption', 'interval_start', 'interval_end'], dtype='object')\n",
      " ... From Sat 2025-02-22 22:00 to Mon 2025-02-24 23:30\n"
     ]
    }
   ],
   "source": [
    "# get data from octopus as a dataframe\n",
    "df_electricity = get_raw_usage_data('electricity')\n",
    "df_gas = get_raw_usage_data('gas')"
   ]
  },
  {
   "cell_type": "code",
   "execution_count": 12,
   "metadata": {},
   "outputs": [
    {
     "name": "stdout",
     "output_type": "stream",
     "text": [
      " ... Cumulative data for gas, 1492 records\n",
      " ... From Fri 2025-01-24 22:00 to Mon 2025-02-24 23:30\n",
      " ... Cumulative data for electricity, 1448 records\n",
      " ... From Fri 2025-01-24 22:00 to Mon 2025-02-24 23:30\n",
      " ... MERGED dataset, saved to ./data-cumulative/cumulative.csv\n",
      " ... From Fri 2025-01-24 22:00 to Mon 2025-02-24 23:30\n"
     ]
    }
   ],
   "source": [
    "# create a df with both readings in where dates exist for both\n",
    "df_gas = get_utility_data(dir_data_raw, utility = 'gas')\n",
    "df_electricity = get_utility_data(dir_data_raw, utility = 'electricity')\n",
    "\n",
    "df_both = pd.merge(df_gas, \n",
    "                   df_electricity[['electricity_consumption','interval_start']], \n",
    "                   on='interval_start', how='outer')\n",
    "df_both = df_both.sort_values(by='interval_start', ascending=True)\n",
    "\n",
    "# save\n",
    "file_cumulative = f'{dir_cumulative}/cumulative.csv'\n",
    "df_both.to_csv(file_cumulative, index=False)\n",
    "print(f' ... MERGED dataset, saved to {file_cumulative}')\n",
    "report_timespan(df_both)"
   ]
  },
  {
   "cell_type": "markdown",
   "metadata": {},
   "source": [
    "# Push to github"
   ]
  },
  {
   "cell_type": "code",
   "execution_count": 10,
   "metadata": {},
   "outputs": [
    {
     "name": "stdout",
     "output_type": "stream",
     "text": [
      "Commit via GitPython - Sunday 2025-02-23 10:50\n"
     ]
    },
    {
     "data": {
      "text/plain": [
       "[<git.remote.PushInfo at 0x14f79171300>]"
      ]
     },
     "execution_count": 10,
     "metadata": {},
     "output_type": "execute_result"
    }
   ],
   "source": [
    "# Stage, commit, and push changes\n",
    "repo.git.add(\".\")\n",
    "git_message = f'Commit via GitPython - {datetime.now().strftime('%A %Y-%m-%d %H:%M')}'\n",
    "print(git_message)\n",
    "repo.index.commit(git_message)\n",
    "origin = repo.remote(name='origin')\n",
    "origin.push()"
   ]
  },
  {
   "cell_type": "markdown",
   "metadata": {},
   "source": [
    "# Run charts"
   ]
  },
  {
   "cell_type": "code",
   "execution_count": 10,
   "metadata": {},
   "outputs": [
    {
     "name": "stdout",
     "output_type": "stream",
     "text": [
      "['2025-02-22', '2025-02-21', '2025-02-20', '2025-02-19']\n"
     ]
    },
    {
     "data": {
      "application/vnd.plotly.v1+json": {
       "config": {
        "plotlyServerURL": "https://plot.ly"
       },
       "data": [
        {
         "line": {
          "color": "blue"
         },
         "mode": "lines+markers",
         "name": "Electricity",
         "type": "scatter",
         "x": [
          "Wed 02-19 00:00",
          "Wed 02-19 00:30",
          "Wed 02-19 01:00",
          "Wed 02-19 01:30",
          "Wed 02-19 02:00",
          "Wed 02-19 02:30",
          "Wed 02-19 03:00",
          "Wed 02-19 03:30",
          "Wed 02-19 04:00",
          "Wed 02-19 04:30",
          "Wed 02-19 05:00",
          "Wed 02-19 05:30",
          "Wed 02-19 06:00",
          "Wed 02-19 06:30",
          "Wed 02-19 07:00",
          "Wed 02-19 07:30",
          "Wed 02-19 08:00",
          "Wed 02-19 08:30",
          "Wed 02-19 09:00",
          "Wed 02-19 09:30",
          "Wed 02-19 10:00",
          "Wed 02-19 10:30",
          "Wed 02-19 11:00",
          "Wed 02-19 11:30",
          "Wed 02-19 12:00",
          "Wed 02-19 12:30",
          "Wed 02-19 13:00",
          "Wed 02-19 13:30",
          "Wed 02-19 14:00",
          "Wed 02-19 14:30",
          "Wed 02-19 15:00",
          "Wed 02-19 15:30",
          "Wed 02-19 16:00",
          "Wed 02-19 16:30",
          "Wed 02-19 17:00",
          "Wed 02-19 17:30",
          "Wed 02-19 18:00",
          "Wed 02-19 18:30",
          "Wed 02-19 19:00",
          "Wed 02-19 19:30",
          "Wed 02-19 20:00",
          "Wed 02-19 20:30",
          "Wed 02-19 21:00",
          "Wed 02-19 21:30",
          "Wed 02-19 22:00",
          "Wed 02-19 22:30",
          "Wed 02-19 23:00",
          "Wed 02-19 23:30",
          "Thu 02-20 00:00",
          "Thu 02-20 00:30",
          "Thu 02-20 01:00",
          "Thu 02-20 01:30",
          "Thu 02-20 02:00",
          "Thu 02-20 02:30",
          "Thu 02-20 03:00",
          "Thu 02-20 03:30",
          "Thu 02-20 04:00",
          "Thu 02-20 04:30",
          "Thu 02-20 05:00",
          "Thu 02-20 05:30",
          "Thu 02-20 06:00",
          "Thu 02-20 06:30",
          "Thu 02-20 07:00",
          "Thu 02-20 07:30",
          "Thu 02-20 08:00",
          "Thu 02-20 08:30",
          "Thu 02-20 09:00",
          "Thu 02-20 09:30",
          "Thu 02-20 10:00",
          "Thu 02-20 10:30",
          "Thu 02-20 11:00",
          "Thu 02-20 11:30",
          "Thu 02-20 12:00",
          "Thu 02-20 12:30",
          "Thu 02-20 13:00",
          "Thu 02-20 13:30",
          "Thu 02-20 14:00",
          "Thu 02-20 14:30",
          "Thu 02-20 15:00",
          "Thu 02-20 15:30",
          "Thu 02-20 16:00",
          "Thu 02-20 16:30",
          "Thu 02-20 17:00",
          "Thu 02-20 17:30",
          "Thu 02-20 18:00",
          "Thu 02-20 18:30",
          "Thu 02-20 19:00",
          "Thu 02-20 19:30",
          "Thu 02-20 20:00",
          "Thu 02-20 20:30",
          "Thu 02-20 21:00",
          "Thu 02-20 21:30",
          "Thu 02-20 22:00",
          "Thu 02-20 22:30",
          "Thu 02-20 23:00",
          "Thu 02-20 23:30",
          "Fri 02-21 00:00",
          "Fri 02-21 00:30",
          "Fri 02-21 01:00",
          "Fri 02-21 01:30",
          "Fri 02-21 02:00",
          "Fri 02-21 02:30",
          "Fri 02-21 03:00",
          "Fri 02-21 03:30",
          "Fri 02-21 04:00",
          "Fri 02-21 04:30",
          "Fri 02-21 05:00",
          "Fri 02-21 05:30",
          "Fri 02-21 06:00",
          "Fri 02-21 06:30",
          "Fri 02-21 07:00",
          "Fri 02-21 07:30",
          "Fri 02-21 08:00",
          "Fri 02-21 08:30",
          "Fri 02-21 09:00",
          "Fri 02-21 09:30",
          "Fri 02-21 10:00",
          "Fri 02-21 10:30",
          "Fri 02-21 11:00",
          "Fri 02-21 11:30",
          "Fri 02-21 12:00",
          "Fri 02-21 12:30",
          "Fri 02-21 13:00",
          "Fri 02-21 13:30",
          "Fri 02-21 14:00",
          "Fri 02-21 14:30",
          "Fri 02-21 15:00",
          "Fri 02-21 15:30",
          "Fri 02-21 16:00",
          "Fri 02-21 16:30",
          "Fri 02-21 17:00",
          "Fri 02-21 17:30",
          "Fri 02-21 18:00",
          "Fri 02-21 18:30",
          "Fri 02-21 19:00",
          "Fri 02-21 19:30",
          "Fri 02-21 20:00",
          "Fri 02-21 20:30",
          "Fri 02-21 21:00",
          "Fri 02-21 21:30",
          "Fri 02-21 22:00",
          "Fri 02-21 22:30",
          "Fri 02-21 23:00",
          "Fri 02-21 23:30",
          "Sat 02-22 00:00",
          "Sat 02-22 00:30",
          "Sat 02-22 01:00",
          "Sat 02-22 01:30",
          "Sat 02-22 02:00",
          "Sat 02-22 02:30",
          "Sat 02-22 03:00",
          "Sat 02-22 03:30",
          "Sat 02-22 04:00",
          "Sat 02-22 04:30",
          "Sat 02-22 05:00",
          "Sat 02-22 05:30",
          "Sat 02-22 06:00",
          "Sat 02-22 06:30",
          "Sat 02-22 07:00",
          "Sat 02-22 07:30",
          "Sat 02-22 08:00",
          "Sat 02-22 08:30",
          "Sat 02-22 09:00",
          "Sat 02-22 09:30",
          "Sat 02-22 10:00",
          "Sat 02-22 10:30",
          "Sat 02-22 11:00",
          "Sat 02-22 11:30",
          "Sat 02-22 12:00",
          "Sat 02-22 12:30",
          "Sat 02-22 13:00",
          "Sat 02-22 13:30",
          "Sat 02-22 14:00",
          "Sat 02-22 14:30",
          "Sat 02-22 15:00",
          "Sat 02-22 15:30",
          "Sat 02-22 16:00",
          "Sat 02-22 16:30",
          "Sat 02-22 17:00",
          "Sat 02-22 17:30",
          "Sat 02-22 18:00",
          "Sat 02-22 18:30",
          "Sat 02-22 19:00",
          "Sat 02-22 19:30",
          "Sat 02-22 20:00",
          "Sat 02-22 20:30",
          "Sat 02-22 21:00",
          "Sat 02-22 21:30",
          "Sat 02-22 22:00",
          "Sat 02-22 22:30",
          "Sat 02-22 23:00",
          "Sat 02-22 23:30"
         ],
         "y": [
          0.0213692,
          0.0198056,
          0.022411599999999997,
          0.019545,
          0.0242358,
          0.019023799999999997,
          0.022151,
          0.0250176,
          0.018502599999999998,
          0.0229328,
          0.024757,
          0.0244964,
          0.0398718,
          0.028666,
          0.0244964,
          0.052641200000000006,
          0.07427099999999999,
          0.0878222,
          0.2030074,
          0.1639174,
          0.0549866,
          0.1292576,
          0.1227426,
          0.0669742,
          0.0307508,
          0.0307508,
          0.0231934,
          0.018502599999999998,
          0.0242358,
          0.0231934,
          0.0257994,
          0.030490200000000002,
          0.0919918,
          0.06905900000000001,
          0.037005199999999995,
          0.0489928,
          0.034920400000000004,
          0.034920400000000004,
          0.0317932,
          0.0289266,
          0.035441600000000004,
          0.0291872,
          0.034920400000000004,
          0.032575,
          0.031011399999999998,
          0.0341386,
          0.0252782,
          0.022411599999999997,
          0.0203268,
          0.0226722,
          0.019545,
          0.0211086,
          0.0231934,
          0.019023799999999997,
          0.0200662,
          0.0218904,
          0.019023799999999997,
          0.022411599999999997,
          0.019545,
          0.018763199999999997,
          0.022151,
          0.049514,
          0.0216298,
          0.0179814,
          0.036744599999999995,
          0.0333568,
          0.0203268,
          0.0164178,
          0.0216298,
          0.019023799999999997,
          0.020848000000000002,
          0.0218904,
          0.050817,
          0.0216298,
          0.0252782,
          0.0396112,
          0.0255388,
          0.0229328,
          0.022151,
          0.024757,
          0.0200662,
          0.0250176,
          0.0231934,
          0.0565502,
          0.071665,
          0.037265799999999995,
          0.0333568,
          0.0307508,
          0.0315326,
          0.028666,
          0.030490200000000002,
          0.024757,
          0.030229600000000002,
          0.0265812,
          0.0497746,
          0.0203268,
          0.017199600000000002,
          0.018763199999999997,
          0.014333,
          0.0179814,
          0.019545,
          0.0135512,
          0.0297084,
          0.018502599999999998,
          0.0158966,
          0.0166784,
          0.0161572,
          0.017720800000000002,
          0.0166784,
          0.0153754,
          0.019545,
          0.050817,
          0.0271024,
          0.0213692,
          0.0776588,
          0.0211086,
          0.020848000000000002,
          0.0213692,
          0.0203268,
          0.034920400000000004,
          0.0200662,
          0.0250176,
          0.0211086,
          0.048732199999999996,
          0.185026,
          0.0271024,
          0.0211086,
          0.017460200000000002,
          0.022151,
          0.017199600000000002,
          0.0179814,
          0.013811799999999999,
          0.028666,
          0.0401324,
          0.0771376,
          0.0489928,
          0.0307508,
          0.0281448,
          0.0515988,
          0.026320600000000003,
          0.0414354,
          0.016939,
          0.020848000000000002,
          0.015636,
          0.019545,
          0.0192844,
          0.0315326,
          0.0341386,
          0.022411599999999997,
          0.018763199999999997,
          0.0140724,
          0.017460200000000002,
          0.0164178,
          0.0140724,
          0.0192844,
          0.0158966,
          0.0158966,
          0.017199600000000002,
          0.0158966,
          0.05212,
          0.031011399999999998,
          0.0328356,
          0.017720800000000002,
          0.0192844,
          0.0145936,
          0.0200662,
          0.0164178,
          0.020848000000000002,
          0.019545,
          0.0192844,
          0.019023799999999997,
          0.017720800000000002,
          0.0179814,
          0.017199600000000002,
          0.018763199999999997,
          0.0203268,
          0.019023799999999997,
          0.0231934,
          0.0268418,
          0.037005199999999995,
          0.016939,
          0.0461262,
          0.0474292,
          0.027363,
          0.02606,
          0.044302,
          0.14932379999999998,
          0.0242358,
          0.0205874,
          0.0844344,
          0.044823199999999994,
          0.0140724
         ]
        },
        {
         "line": {
          "color": "red"
         },
         "mode": "lines+markers",
         "name": "Gas",
         "type": "scatter",
         "x": [
          "Wed 02-19 00:00",
          "Wed 02-19 00:30",
          "Wed 02-19 01:00",
          "Wed 02-19 01:30",
          "Wed 02-19 02:00",
          "Wed 02-19 02:30",
          "Wed 02-19 03:00",
          "Wed 02-19 03:30",
          "Wed 02-19 04:00",
          "Wed 02-19 04:30",
          "Wed 02-19 05:00",
          "Wed 02-19 05:30",
          "Wed 02-19 06:00",
          "Wed 02-19 06:30",
          "Wed 02-19 07:00",
          "Wed 02-19 07:30",
          "Wed 02-19 08:00",
          "Wed 02-19 08:30",
          "Wed 02-19 09:00",
          "Wed 02-19 09:30",
          "Wed 02-19 10:00",
          "Wed 02-19 10:30",
          "Wed 02-19 11:00",
          "Wed 02-19 11:30",
          "Wed 02-19 12:00",
          "Wed 02-19 12:30",
          "Wed 02-19 13:00",
          "Wed 02-19 13:30",
          "Wed 02-19 14:00",
          "Wed 02-19 14:30",
          "Wed 02-19 15:00",
          "Wed 02-19 15:30",
          "Wed 02-19 16:00",
          "Wed 02-19 16:30",
          "Wed 02-19 17:00",
          "Wed 02-19 17:30",
          "Wed 02-19 18:00",
          "Wed 02-19 18:30",
          "Wed 02-19 19:00",
          "Wed 02-19 19:30",
          "Wed 02-19 20:00",
          "Wed 02-19 20:30",
          "Wed 02-19 21:00",
          "Wed 02-19 21:30",
          "Wed 02-19 22:00",
          "Wed 02-19 22:30",
          "Wed 02-19 23:00",
          "Wed 02-19 23:30",
          "Thu 02-20 00:00",
          "Thu 02-20 00:30",
          "Thu 02-20 01:00",
          "Thu 02-20 01:30",
          "Thu 02-20 02:00",
          "Thu 02-20 02:30",
          "Thu 02-20 03:00",
          "Thu 02-20 03:30",
          "Thu 02-20 04:00",
          "Thu 02-20 04:30",
          "Thu 02-20 05:00",
          "Thu 02-20 05:30",
          "Thu 02-20 06:00",
          "Thu 02-20 06:30",
          "Thu 02-20 07:00",
          "Thu 02-20 07:30",
          "Thu 02-20 08:00",
          "Thu 02-20 08:30",
          "Thu 02-20 09:00",
          "Thu 02-20 09:30",
          "Thu 02-20 10:00",
          "Thu 02-20 10:30",
          "Thu 02-20 11:00",
          "Thu 02-20 11:30",
          "Thu 02-20 12:00",
          "Thu 02-20 12:30",
          "Thu 02-20 13:00",
          "Thu 02-20 13:30",
          "Thu 02-20 14:00",
          "Thu 02-20 14:30",
          "Thu 02-20 15:00",
          "Thu 02-20 15:30",
          "Thu 02-20 16:00",
          "Thu 02-20 16:30",
          "Thu 02-20 17:00",
          "Thu 02-20 17:30",
          "Thu 02-20 18:00",
          "Thu 02-20 18:30",
          "Thu 02-20 19:00",
          "Thu 02-20 19:30",
          "Thu 02-20 20:00",
          "Thu 02-20 20:30",
          "Thu 02-20 21:00",
          "Thu 02-20 21:30",
          "Thu 02-20 22:00",
          "Thu 02-20 22:30",
          "Thu 02-20 23:00",
          "Thu 02-20 23:30",
          "Fri 02-21 00:00",
          "Fri 02-21 00:30",
          "Fri 02-21 01:00",
          "Fri 02-21 01:30",
          "Fri 02-21 02:00",
          "Fri 02-21 02:30",
          "Fri 02-21 03:00",
          "Fri 02-21 03:30",
          "Fri 02-21 04:00",
          "Fri 02-21 04:30",
          "Fri 02-21 05:00",
          "Fri 02-21 05:30",
          "Fri 02-21 06:00",
          "Fri 02-21 06:30",
          "Fri 02-21 07:00",
          "Fri 02-21 07:30",
          "Fri 02-21 08:00",
          "Fri 02-21 08:30",
          "Fri 02-21 09:00",
          "Fri 02-21 09:30",
          "Fri 02-21 10:00",
          "Fri 02-21 10:30",
          "Fri 02-21 11:00",
          "Fri 02-21 11:30",
          "Fri 02-21 12:00",
          "Fri 02-21 12:30",
          "Fri 02-21 13:00",
          "Fri 02-21 13:30",
          "Fri 02-21 14:00",
          "Fri 02-21 14:30",
          "Fri 02-21 15:00",
          "Fri 02-21 15:30",
          "Fri 02-21 16:00",
          "Fri 02-21 16:30",
          "Fri 02-21 17:00",
          "Fri 02-21 17:30",
          "Fri 02-21 18:00",
          "Fri 02-21 18:30",
          "Fri 02-21 19:00",
          "Fri 02-21 19:30",
          "Fri 02-21 20:00",
          "Fri 02-21 20:30",
          "Fri 02-21 21:00",
          "Fri 02-21 21:30",
          "Fri 02-21 22:00",
          "Fri 02-21 22:30",
          "Fri 02-21 23:00",
          "Fri 02-21 23:30",
          "Sat 02-22 00:00",
          "Sat 02-22 00:30",
          "Sat 02-22 01:00",
          "Sat 02-22 01:30",
          "Sat 02-22 02:00",
          "Sat 02-22 02:30",
          "Sat 02-22 03:00",
          "Sat 02-22 03:30",
          "Sat 02-22 04:00",
          "Sat 02-22 04:30",
          "Sat 02-22 05:00",
          "Sat 02-22 05:30",
          "Sat 02-22 06:00",
          "Sat 02-22 06:30",
          "Sat 02-22 07:00",
          "Sat 02-22 07:30",
          "Sat 02-22 08:00",
          "Sat 02-22 08:30",
          "Sat 02-22 09:00",
          "Sat 02-22 09:30",
          "Sat 02-22 10:00",
          "Sat 02-22 10:30",
          "Sat 02-22 11:00",
          "Sat 02-22 11:30",
          "Sat 02-22 12:00",
          "Sat 02-22 12:30",
          "Sat 02-22 13:00",
          "Sat 02-22 13:30",
          "Sat 02-22 14:00",
          "Sat 02-22 14:30",
          "Sat 02-22 15:00",
          "Sat 02-22 15:30",
          "Sat 02-22 16:00",
          "Sat 02-22 16:30",
          "Sat 02-22 17:00",
          "Sat 02-22 17:30",
          "Sat 02-22 18:00",
          "Sat 02-22 18:30",
          "Sat 02-22 19:00",
          "Sat 02-22 19:30",
          "Sat 02-22 20:00",
          "Sat 02-22 20:30",
          "Sat 02-22 21:00",
          "Sat 02-22 21:30",
          "Sat 02-22 22:00",
          "Sat 02-22 22:30",
          "Sat 02-22 23:00",
          "Sat 02-22 23:30"
         ],
         "y": [
          0.16739330400000002,
          0.04292136,
          0.09514234800000002,
          0.154516896,
          0.16596259200000002,
          0,
          0.13949442,
          0.14879404799999998,
          0.047213496,
          0.126618012,
          0.18599256000000003,
          0.15809367600000002,
          0,
          0.15952438800000002,
          0.18956934000000003,
          0.173831508,
          0.19457683200000003,
          0,
          0.18241578000000003,
          0,
          0.18956934000000003,
          0,
          0.130910148,
          0.087988788,
          0.08011987200000001,
          0.19529218800000003,
          0,
          0.0357678,
          0.08941950000000001,
          0.036483156,
          0.147363336,
          0,
          0,
          0,
          0,
          0.015022476000000002,
          0.17168544,
          0,
          0.16810866,
          0,
          0.13877906400000004,
          0.01073034,
          0.015737832,
          0.130910148,
          0,
          0,
          0.14664798,
          0,
          0.137348352,
          0,
          0,
          0.129479436,
          0.029329596000000003,
          0.10086519599999999,
          0,
          0.058659192000000006,
          0.15737832000000002,
          0,
          0.13949442,
          0,
          0.09800377200000002,
          0.0035767800000000003,
          0.22962927600000002,
          0,
          0.169539372,
          0,
          0,
          0,
          0,
          0,
          0,
          0.15737832000000002,
          0.005722848,
          0,
          0,
          0.0064382039999999995,
          0,
          0,
          0,
          0,
          0,
          0,
          0,
          0.047213496,
          0.11374160400000001,
          0,
          0.04864420800000001,
          0,
          0,
          0,
          0,
          0,
          0,
          0,
          0.022176036,
          0,
          0,
          0,
          0,
          0,
          0.11874909600000003,
          0,
          0,
          0,
          0.13520228400000003,
          0,
          0,
          0.15952438800000002,
          0,
          0,
          0,
          0,
          0.13877906400000004,
          0.02146068,
          0.001430712,
          0,
          0,
          0,
          0.008584272,
          0.009299627999999999,
          0,
          0,
          0,
          0,
          0.029329596000000003,
          0,
          0.002146068,
          0,
          0,
          0,
          0,
          0,
          0,
          0.041490648000000005,
          0,
          0,
          0,
          0,
          0,
          0,
          0,
          0,
          0,
          0,
          0,
          0,
          0,
          0,
          0,
          0,
          0,
          0,
          0,
          0,
          0,
          0.15380154000000001,
          0,
          0,
          0.16167045600000002,
          0.036483156,
          0,
          0.002861424,
          0.136632996,
          0.017168544,
          0,
          0,
          0,
          0.10730340000000001,
          0.09085021200000001,
          0.14879404799999998,
          0,
          0,
          0,
          0,
          0,
          0,
          0,
          0,
          0.005722848,
          0,
          0,
          0.007153560000000001,
          0,
          0,
          0,
          0,
          0,
          0,
          0,
          0,
          0,
          0
         ]
        }
       ],
       "layout": {
        "template": {
         "data": {
          "bar": [
           {
            "error_x": {
             "color": "#2a3f5f"
            },
            "error_y": {
             "color": "#2a3f5f"
            },
            "marker": {
             "line": {
              "color": "white",
              "width": 0.5
             },
             "pattern": {
              "fillmode": "overlay",
              "size": 10,
              "solidity": 0.2
             }
            },
            "type": "bar"
           }
          ],
          "barpolar": [
           {
            "marker": {
             "line": {
              "color": "white",
              "width": 0.5
             },
             "pattern": {
              "fillmode": "overlay",
              "size": 10,
              "solidity": 0.2
             }
            },
            "type": "barpolar"
           }
          ],
          "carpet": [
           {
            "aaxis": {
             "endlinecolor": "#2a3f5f",
             "gridcolor": "#C8D4E3",
             "linecolor": "#C8D4E3",
             "minorgridcolor": "#C8D4E3",
             "startlinecolor": "#2a3f5f"
            },
            "baxis": {
             "endlinecolor": "#2a3f5f",
             "gridcolor": "#C8D4E3",
             "linecolor": "#C8D4E3",
             "minorgridcolor": "#C8D4E3",
             "startlinecolor": "#2a3f5f"
            },
            "type": "carpet"
           }
          ],
          "choropleth": [
           {
            "colorbar": {
             "outlinewidth": 0,
             "ticks": ""
            },
            "type": "choropleth"
           }
          ],
          "contour": [
           {
            "colorbar": {
             "outlinewidth": 0,
             "ticks": ""
            },
            "colorscale": [
             [
              0,
              "#0d0887"
             ],
             [
              0.1111111111111111,
              "#46039f"
             ],
             [
              0.2222222222222222,
              "#7201a8"
             ],
             [
              0.3333333333333333,
              "#9c179e"
             ],
             [
              0.4444444444444444,
              "#bd3786"
             ],
             [
              0.5555555555555556,
              "#d8576b"
             ],
             [
              0.6666666666666666,
              "#ed7953"
             ],
             [
              0.7777777777777778,
              "#fb9f3a"
             ],
             [
              0.8888888888888888,
              "#fdca26"
             ],
             [
              1,
              "#f0f921"
             ]
            ],
            "type": "contour"
           }
          ],
          "contourcarpet": [
           {
            "colorbar": {
             "outlinewidth": 0,
             "ticks": ""
            },
            "type": "contourcarpet"
           }
          ],
          "heatmap": [
           {
            "colorbar": {
             "outlinewidth": 0,
             "ticks": ""
            },
            "colorscale": [
             [
              0,
              "#0d0887"
             ],
             [
              0.1111111111111111,
              "#46039f"
             ],
             [
              0.2222222222222222,
              "#7201a8"
             ],
             [
              0.3333333333333333,
              "#9c179e"
             ],
             [
              0.4444444444444444,
              "#bd3786"
             ],
             [
              0.5555555555555556,
              "#d8576b"
             ],
             [
              0.6666666666666666,
              "#ed7953"
             ],
             [
              0.7777777777777778,
              "#fb9f3a"
             ],
             [
              0.8888888888888888,
              "#fdca26"
             ],
             [
              1,
              "#f0f921"
             ]
            ],
            "type": "heatmap"
           }
          ],
          "heatmapgl": [
           {
            "colorbar": {
             "outlinewidth": 0,
             "ticks": ""
            },
            "colorscale": [
             [
              0,
              "#0d0887"
             ],
             [
              0.1111111111111111,
              "#46039f"
             ],
             [
              0.2222222222222222,
              "#7201a8"
             ],
             [
              0.3333333333333333,
              "#9c179e"
             ],
             [
              0.4444444444444444,
              "#bd3786"
             ],
             [
              0.5555555555555556,
              "#d8576b"
             ],
             [
              0.6666666666666666,
              "#ed7953"
             ],
             [
              0.7777777777777778,
              "#fb9f3a"
             ],
             [
              0.8888888888888888,
              "#fdca26"
             ],
             [
              1,
              "#f0f921"
             ]
            ],
            "type": "heatmapgl"
           }
          ],
          "histogram": [
           {
            "marker": {
             "pattern": {
              "fillmode": "overlay",
              "size": 10,
              "solidity": 0.2
             }
            },
            "type": "histogram"
           }
          ],
          "histogram2d": [
           {
            "colorbar": {
             "outlinewidth": 0,
             "ticks": ""
            },
            "colorscale": [
             [
              0,
              "#0d0887"
             ],
             [
              0.1111111111111111,
              "#46039f"
             ],
             [
              0.2222222222222222,
              "#7201a8"
             ],
             [
              0.3333333333333333,
              "#9c179e"
             ],
             [
              0.4444444444444444,
              "#bd3786"
             ],
             [
              0.5555555555555556,
              "#d8576b"
             ],
             [
              0.6666666666666666,
              "#ed7953"
             ],
             [
              0.7777777777777778,
              "#fb9f3a"
             ],
             [
              0.8888888888888888,
              "#fdca26"
             ],
             [
              1,
              "#f0f921"
             ]
            ],
            "type": "histogram2d"
           }
          ],
          "histogram2dcontour": [
           {
            "colorbar": {
             "outlinewidth": 0,
             "ticks": ""
            },
            "colorscale": [
             [
              0,
              "#0d0887"
             ],
             [
              0.1111111111111111,
              "#46039f"
             ],
             [
              0.2222222222222222,
              "#7201a8"
             ],
             [
              0.3333333333333333,
              "#9c179e"
             ],
             [
              0.4444444444444444,
              "#bd3786"
             ],
             [
              0.5555555555555556,
              "#d8576b"
             ],
             [
              0.6666666666666666,
              "#ed7953"
             ],
             [
              0.7777777777777778,
              "#fb9f3a"
             ],
             [
              0.8888888888888888,
              "#fdca26"
             ],
             [
              1,
              "#f0f921"
             ]
            ],
            "type": "histogram2dcontour"
           }
          ],
          "mesh3d": [
           {
            "colorbar": {
             "outlinewidth": 0,
             "ticks": ""
            },
            "type": "mesh3d"
           }
          ],
          "parcoords": [
           {
            "line": {
             "colorbar": {
              "outlinewidth": 0,
              "ticks": ""
             }
            },
            "type": "parcoords"
           }
          ],
          "pie": [
           {
            "automargin": true,
            "type": "pie"
           }
          ],
          "scatter": [
           {
            "fillpattern": {
             "fillmode": "overlay",
             "size": 10,
             "solidity": 0.2
            },
            "type": "scatter"
           }
          ],
          "scatter3d": [
           {
            "line": {
             "colorbar": {
              "outlinewidth": 0,
              "ticks": ""
             }
            },
            "marker": {
             "colorbar": {
              "outlinewidth": 0,
              "ticks": ""
             }
            },
            "type": "scatter3d"
           }
          ],
          "scattercarpet": [
           {
            "marker": {
             "colorbar": {
              "outlinewidth": 0,
              "ticks": ""
             }
            },
            "type": "scattercarpet"
           }
          ],
          "scattergeo": [
           {
            "marker": {
             "colorbar": {
              "outlinewidth": 0,
              "ticks": ""
             }
            },
            "type": "scattergeo"
           }
          ],
          "scattergl": [
           {
            "marker": {
             "colorbar": {
              "outlinewidth": 0,
              "ticks": ""
             }
            },
            "type": "scattergl"
           }
          ],
          "scattermapbox": [
           {
            "marker": {
             "colorbar": {
              "outlinewidth": 0,
              "ticks": ""
             }
            },
            "type": "scattermapbox"
           }
          ],
          "scatterpolar": [
           {
            "marker": {
             "colorbar": {
              "outlinewidth": 0,
              "ticks": ""
             }
            },
            "type": "scatterpolar"
           }
          ],
          "scatterpolargl": [
           {
            "marker": {
             "colorbar": {
              "outlinewidth": 0,
              "ticks": ""
             }
            },
            "type": "scatterpolargl"
           }
          ],
          "scatterternary": [
           {
            "marker": {
             "colorbar": {
              "outlinewidth": 0,
              "ticks": ""
             }
            },
            "type": "scatterternary"
           }
          ],
          "surface": [
           {
            "colorbar": {
             "outlinewidth": 0,
             "ticks": ""
            },
            "colorscale": [
             [
              0,
              "#0d0887"
             ],
             [
              0.1111111111111111,
              "#46039f"
             ],
             [
              0.2222222222222222,
              "#7201a8"
             ],
             [
              0.3333333333333333,
              "#9c179e"
             ],
             [
              0.4444444444444444,
              "#bd3786"
             ],
             [
              0.5555555555555556,
              "#d8576b"
             ],
             [
              0.6666666666666666,
              "#ed7953"
             ],
             [
              0.7777777777777778,
              "#fb9f3a"
             ],
             [
              0.8888888888888888,
              "#fdca26"
             ],
             [
              1,
              "#f0f921"
             ]
            ],
            "type": "surface"
           }
          ],
          "table": [
           {
            "cells": {
             "fill": {
              "color": "#EBF0F8"
             },
             "line": {
              "color": "white"
             }
            },
            "header": {
             "fill": {
              "color": "#C8D4E3"
             },
             "line": {
              "color": "white"
             }
            },
            "type": "table"
           }
          ]
         },
         "layout": {
          "annotationdefaults": {
           "arrowcolor": "#2a3f5f",
           "arrowhead": 0,
           "arrowwidth": 1
          },
          "autotypenumbers": "strict",
          "coloraxis": {
           "colorbar": {
            "outlinewidth": 0,
            "ticks": ""
           }
          },
          "colorscale": {
           "diverging": [
            [
             0,
             "#8e0152"
            ],
            [
             0.1,
             "#c51b7d"
            ],
            [
             0.2,
             "#de77ae"
            ],
            [
             0.3,
             "#f1b6da"
            ],
            [
             0.4,
             "#fde0ef"
            ],
            [
             0.5,
             "#f7f7f7"
            ],
            [
             0.6,
             "#e6f5d0"
            ],
            [
             0.7,
             "#b8e186"
            ],
            [
             0.8,
             "#7fbc41"
            ],
            [
             0.9,
             "#4d9221"
            ],
            [
             1,
             "#276419"
            ]
           ],
           "sequential": [
            [
             0,
             "#0d0887"
            ],
            [
             0.1111111111111111,
             "#46039f"
            ],
            [
             0.2222222222222222,
             "#7201a8"
            ],
            [
             0.3333333333333333,
             "#9c179e"
            ],
            [
             0.4444444444444444,
             "#bd3786"
            ],
            [
             0.5555555555555556,
             "#d8576b"
            ],
            [
             0.6666666666666666,
             "#ed7953"
            ],
            [
             0.7777777777777778,
             "#fb9f3a"
            ],
            [
             0.8888888888888888,
             "#fdca26"
            ],
            [
             1,
             "#f0f921"
            ]
           ],
           "sequentialminus": [
            [
             0,
             "#0d0887"
            ],
            [
             0.1111111111111111,
             "#46039f"
            ],
            [
             0.2222222222222222,
             "#7201a8"
            ],
            [
             0.3333333333333333,
             "#9c179e"
            ],
            [
             0.4444444444444444,
             "#bd3786"
            ],
            [
             0.5555555555555556,
             "#d8576b"
            ],
            [
             0.6666666666666666,
             "#ed7953"
            ],
            [
             0.7777777777777778,
             "#fb9f3a"
            ],
            [
             0.8888888888888888,
             "#fdca26"
            ],
            [
             1,
             "#f0f921"
            ]
           ]
          },
          "colorway": [
           "#636efa",
           "#EF553B",
           "#00cc96",
           "#ab63fa",
           "#FFA15A",
           "#19d3f3",
           "#FF6692",
           "#B6E880",
           "#FF97FF",
           "#FECB52"
          ],
          "font": {
           "color": "#2a3f5f"
          },
          "geo": {
           "bgcolor": "white",
           "lakecolor": "white",
           "landcolor": "white",
           "showlakes": true,
           "showland": true,
           "subunitcolor": "#C8D4E3"
          },
          "hoverlabel": {
           "align": "left"
          },
          "hovermode": "closest",
          "mapbox": {
           "style": "light"
          },
          "paper_bgcolor": "white",
          "plot_bgcolor": "white",
          "polar": {
           "angularaxis": {
            "gridcolor": "#EBF0F8",
            "linecolor": "#EBF0F8",
            "ticks": ""
           },
           "bgcolor": "white",
           "radialaxis": {
            "gridcolor": "#EBF0F8",
            "linecolor": "#EBF0F8",
            "ticks": ""
           }
          },
          "scene": {
           "xaxis": {
            "backgroundcolor": "white",
            "gridcolor": "#DFE8F3",
            "gridwidth": 2,
            "linecolor": "#EBF0F8",
            "showbackground": true,
            "ticks": "",
            "zerolinecolor": "#EBF0F8"
           },
           "yaxis": {
            "backgroundcolor": "white",
            "gridcolor": "#DFE8F3",
            "gridwidth": 2,
            "linecolor": "#EBF0F8",
            "showbackground": true,
            "ticks": "",
            "zerolinecolor": "#EBF0F8"
           },
           "zaxis": {
            "backgroundcolor": "white",
            "gridcolor": "#DFE8F3",
            "gridwidth": 2,
            "linecolor": "#EBF0F8",
            "showbackground": true,
            "ticks": "",
            "zerolinecolor": "#EBF0F8"
           }
          },
          "shapedefaults": {
           "line": {
            "color": "#2a3f5f"
           }
          },
          "ternary": {
           "aaxis": {
            "gridcolor": "#DFE8F3",
            "linecolor": "#A2B1C6",
            "ticks": ""
           },
           "baxis": {
            "gridcolor": "#DFE8F3",
            "linecolor": "#A2B1C6",
            "ticks": ""
           },
           "bgcolor": "white",
           "caxis": {
            "gridcolor": "#DFE8F3",
            "linecolor": "#A2B1C6",
            "ticks": ""
           }
          },
          "title": {
           "x": 0.05
          },
          "xaxis": {
           "automargin": true,
           "gridcolor": "#EBF0F8",
           "linecolor": "#EBF0F8",
           "ticks": "",
           "title": {
            "standoff": 15
           },
           "zerolinecolor": "#EBF0F8",
           "zerolinewidth": 2
          },
          "yaxis": {
           "automargin": true,
           "gridcolor": "#EBF0F8",
           "linecolor": "#EBF0F8",
           "ticks": "",
           "title": {
            "standoff": 15
           },
           "zerolinecolor": "#EBF0F8",
           "zerolinewidth": 2
          }
         }
        },
        "title": {
         "text": "Energy Cost (£) Over Time"
        },
        "xaxis": {
         "tickangle": 45,
         "title": {
          "text": "Time Interval (Start)"
         }
        },
        "yaxis": {
         "title": {
          "text": "Cost (£)"
         }
        }
       }
      }
     },
     "metadata": {},
     "output_type": "display_data"
    }
   ],
   "source": [
    "no_of_days = 4\n",
    "\n",
    "df_summary = df_both.groupby([\"day\", \"weekday\"]).agg(\n",
    "    count=(\"gas_consumption\", \"count\"),  # Counting records in each group\n",
    "    mean_gas=(\"gas_consumption\", \"mean\"),\n",
    "    total_gas=(\"gas_consumption\", \"sum\"),\n",
    "    mean_electricity=(\"electricity_consumption\", \"mean\"),\n",
    "    total_electricity=(\"electricity_consumption\", \"sum\")\n",
    ").reset_index().sort_values(by=\"day\", ascending=False)\n",
    "\n",
    "list_days = df_summary[0:no_of_days]['day'].to_list()\n",
    "print(list_days)\n",
    "\n",
    "# display chart\n",
    "df_week = df_both[df_both['day'].isin(list_days)].copy()\n",
    "# convert to costs\n",
    "df_week['gas_cost'] = df_week['gas_consumption'] * 11.16 * 0.0641\n",
    "df_week['electricity_cost'] = df_week['electricity_consumption'] * .2606\n",
    "\n",
    "fig = get_plot(df_week, 'both', 'cost')\n",
    "fig.show()"
   ]
  },
  {
   "cell_type": "code",
   "execution_count": 13,
   "metadata": {},
   "outputs": [
    {
     "data": {
      "application/vnd.microsoft.datawrangler.viewer.v0+json": {
       "columns": [
        {
         "name": "index",
         "rawType": "int64",
         "type": "integer"
        },
        {
         "name": "day",
         "rawType": "object",
         "type": "string"
        },
        {
         "name": "weekday",
         "rawType": "object",
         "type": "string"
        },
        {
         "name": "count",
         "rawType": "int64",
         "type": "integer"
        },
        {
         "name": "mean_gas",
         "rawType": "float64",
         "type": "float"
        },
        {
         "name": "total_gas",
         "rawType": "float64",
         "type": "float"
        },
        {
         "name": "cost_gas",
         "rawType": "float64",
         "type": "float"
        },
        {
         "name": "mean_electricity",
         "rawType": "float64",
         "type": "float"
        },
        {
         "name": "total_electricity",
         "rawType": "float64",
         "type": "float"
        },
        {
         "name": "cost_electricity",
         "rawType": "float64",
         "type": "float"
        }
       ],
       "conversionMethod": "pd.DataFrame",
       "ref": "a15cd14a-1be3-44e7-8460-f806a2c3aa58",
       "rows": [
        [
         "3",
         "2025-02-21",
         "Fri",
         "48",
         "0.019395833333333334",
         "0.931",
         "0.6659964360000001",
         "0.11404166666666667",
         "5.474",
         "1.4265244000000001"
        ],
        [
         "2",
         "2025-02-20",
         "Thu",
         "48",
         "0.0481875",
         "2.313",
         "1.654618428",
         "0.1056875",
         "5.073",
         "1.3220238"
        ],
        [
         "1",
         "2025-02-19",
         "Wed",
         "48",
         "0.1200625",
         "5.763",
         "4.122596628",
         "0.17127083333333334",
         "8.221",
         "2.1423926"
        ],
        [
         "0",
         "2025-02-18",
         "Tue",
         "48",
         "0.14235416666666667",
         "6.833",
         "4.888027548",
         "0.09835416666666667",
         "4.721",
         "1.2302926"
        ]
       ],
       "shape": {
        "columns": 9,
        "rows": 4
       }
      },
      "text/html": [
       "<div>\n",
       "<style scoped>\n",
       "    .dataframe tbody tr th:only-of-type {\n",
       "        vertical-align: middle;\n",
       "    }\n",
       "\n",
       "    .dataframe tbody tr th {\n",
       "        vertical-align: top;\n",
       "    }\n",
       "\n",
       "    .dataframe thead th {\n",
       "        text-align: right;\n",
       "    }\n",
       "</style>\n",
       "<table border=\"1\" class=\"dataframe\">\n",
       "  <thead>\n",
       "    <tr style=\"text-align: right;\">\n",
       "      <th></th>\n",
       "      <th>day</th>\n",
       "      <th>weekday</th>\n",
       "      <th>count</th>\n",
       "      <th>mean_gas</th>\n",
       "      <th>total_gas</th>\n",
       "      <th>cost_gas</th>\n",
       "      <th>mean_electricity</th>\n",
       "      <th>total_electricity</th>\n",
       "      <th>cost_electricity</th>\n",
       "    </tr>\n",
       "  </thead>\n",
       "  <tbody>\n",
       "    <tr>\n",
       "      <th>3</th>\n",
       "      <td>2025-02-21</td>\n",
       "      <td>Fri</td>\n",
       "      <td>48</td>\n",
       "      <td>0.019396</td>\n",
       "      <td>0.931</td>\n",
       "      <td>0.665996</td>\n",
       "      <td>0.114042</td>\n",
       "      <td>5.474</td>\n",
       "      <td>1.426524</td>\n",
       "    </tr>\n",
       "    <tr>\n",
       "      <th>2</th>\n",
       "      <td>2025-02-20</td>\n",
       "      <td>Thu</td>\n",
       "      <td>48</td>\n",
       "      <td>0.048188</td>\n",
       "      <td>2.313</td>\n",
       "      <td>1.654618</td>\n",
       "      <td>0.105688</td>\n",
       "      <td>5.073</td>\n",
       "      <td>1.322024</td>\n",
       "    </tr>\n",
       "    <tr>\n",
       "      <th>1</th>\n",
       "      <td>2025-02-19</td>\n",
       "      <td>Wed</td>\n",
       "      <td>48</td>\n",
       "      <td>0.120063</td>\n",
       "      <td>5.763</td>\n",
       "      <td>4.122597</td>\n",
       "      <td>0.171271</td>\n",
       "      <td>8.221</td>\n",
       "      <td>2.142393</td>\n",
       "    </tr>\n",
       "    <tr>\n",
       "      <th>0</th>\n",
       "      <td>2025-02-18</td>\n",
       "      <td>Tue</td>\n",
       "      <td>48</td>\n",
       "      <td>0.142354</td>\n",
       "      <td>6.833</td>\n",
       "      <td>4.888028</td>\n",
       "      <td>0.098354</td>\n",
       "      <td>4.721</td>\n",
       "      <td>1.230293</td>\n",
       "    </tr>\n",
       "  </tbody>\n",
       "</table>\n",
       "</div>"
      ],
      "text/plain": [
       "          day weekday  count  mean_gas  total_gas  cost_gas  mean_electricity  \\\n",
       "3  2025-02-21     Fri     48  0.019396      0.931  0.665996          0.114042   \n",
       "2  2025-02-20     Thu     48  0.048188      2.313  1.654618          0.105688   \n",
       "1  2025-02-19     Wed     48  0.120063      5.763  4.122597          0.171271   \n",
       "0  2025-02-18     Tue     48  0.142354      6.833  4.888028          0.098354   \n",
       "\n",
       "   total_electricity  cost_electricity  \n",
       "3              5.474          1.426524  \n",
       "2              5.073          1.322024  \n",
       "1              8.221          2.142393  \n",
       "0              4.721          1.230293  "
      ]
     },
     "execution_count": 13,
     "metadata": {},
     "output_type": "execute_result"
    }
   ],
   "source": [
    "df_week.groupby([\"day\", \"weekday\"]).agg(\n",
    "    count=(\"gas_consumption\", \"count\"),  # Counting records in each group\n",
    "    mean_gas=(\"gas_consumption\", \"mean\"),\n",
    "    total_gas=(\"gas_consumption\", \"sum\"),\n",
    "    cost_gas=(\"gas_cost\", \"sum\"),\n",
    "    mean_electricity=(\"electricity_consumption\", \"mean\"),\n",
    "    total_electricity=(\"electricity_consumption\", \"sum\"),\n",
    "    cost_electricity=(\"electricity_cost\", \"sum\")\n",
    ").reset_index().sort_values(by=\"day\", ascending=False)\n",
    "\n"
   ]
  },
  {
   "cell_type": "markdown",
   "metadata": {},
   "source": [
    "# Testing"
   ]
  }
 ],
 "metadata": {
  "kernelspec": {
   "display_name": "Python 3",
   "language": "python",
   "name": "python3"
  },
  "language_info": {
   "codemirror_mode": {
    "name": "ipython",
    "version": 3
   },
   "file_extension": ".py",
   "mimetype": "text/x-python",
   "name": "python",
   "nbconvert_exporter": "python",
   "pygments_lexer": "ipython3",
   "version": "3.12.5"
  }
 },
 "nbformat": 4,
 "nbformat_minor": 2
}

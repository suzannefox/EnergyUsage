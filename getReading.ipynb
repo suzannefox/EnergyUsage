{
 "cells": [
  {
   "cell_type": "markdown",
   "metadata": {},
   "source": [
    "# Setup - libraries and functions"
   ]
  },
  {
   "cell_type": "code",
   "execution_count": 3,
   "metadata": {},
   "outputs": [],
   "source": [
    "import requests\n",
    "import os\n",
    "import json\n",
    "import pandas as pd\n",
    "import plotly.graph_objects as go\n",
    "from datetime import datetime\n",
    "from dotenv import load_dotenv\n",
    "from git import Repo\n"
   ]
  },
  {
   "cell_type": "code",
   "execution_count": 4,
   "metadata": {},
   "outputs": [
    {
     "name": "stdout",
     "output_type": "stream",
     "text": [
      " ... Current dir is ., Raw data saved to ./data-raw\n"
     ]
    }
   ],
   "source": [
    "# Get the API key\n",
    "load_dotenv()\n",
    "api_key = os.getenv('API_KEY')\n",
    "\n",
    "dir_current = os.curdir\n",
    "dir_data_raw = f'{dir_current}/data-raw'\n",
    "dir_cumulative = f'{dir_current}/data-cumulative'\n",
    "dir_repo = f'{dir_current}/.git'\n",
    "repo = Repo(dir_repo)\n",
    "\n",
    "print(f' ... Current dir is {dir_current}, Raw data saved to {dir_data_raw}')"
   ]
  },
  {
   "cell_type": "code",
   "execution_count": 5,
   "metadata": {},
   "outputs": [],
   "source": [
    "def report_timespan(df):\n",
    "    df['interval_start'] = pd.to_datetime(df['interval_start'])\n",
    "\n",
    "    date_start = df['interval_start'].min().strftime('%a %Y-%m-%d %H:%M')\n",
    "    date_final = df['interval_start'].max().strftime('%a %Y-%m-%d %H:%M')\n",
    "\n",
    "    print(f' ... From {date_start} to {date_final}')"
   ]
  },
  {
   "cell_type": "code",
   "execution_count": 6,
   "metadata": {},
   "outputs": [],
   "source": [
    "def get_raw_usage_data(utility, sort = True, save = True, verbose = True):\n",
    "\n",
    "    if not utility in ['electricity', 'gas']:\n",
    "        raise ValueError('utility must be either \"electricity\" or \"gas\"')\n",
    "    \n",
    "    electric_url = \"https://api.octopus.energy/v1/electricity-meter-points/1200039599083/meters/24J0348055/consumption/\"\n",
    "    gas_url = \"https://api.octopus.energy/v1/gas-meter-points/620841506/meters/E6S17881452061/consumption/\"\n",
    "    \n",
    "    if utility == 'electricity':\n",
    "        url = electric_url\n",
    "    elif utility == 'gas':\n",
    "        url = gas_url\n",
    "    \n",
    "    response = requests.get(url, auth=(api_key, \"\")) \n",
    "    data = response.json()['results']\n",
    "    df = pd.DataFrame(data)\n",
    "    \n",
    "    if save:\n",
    "        print(f\"Status Code ({utility}): {response.status_code}\")\n",
    "        file_raw_data = f'{dir_data_raw}/{datetime.now().strftime('%Y-%m-%d')}_rawdata_{utility}.csv'\n",
    "        df.to_csv(file_raw_data, index = False)\n",
    "        print(f' ... Saving as {file_raw_data}')\n",
    "        print(f' ... Records {df.shape[0]}')\n",
    "        print(f' ... Variables {df.shape[1]} : {df.columns}')\n",
    "        if verbose: report_timespan(df)\n",
    "    else:\n",
    "        if verbose: report_timespan(df)\n",
    "\n",
    "    df.columns = [f'{utility}_consumption', 'interval_start', 'interval_end']\n",
    "    if sort:\n",
    "        df = df.sort_values(by='interval_start', ascending=True)\n",
    "\n",
    "    return df"
   ]
  },
  {
   "cell_type": "code",
   "execution_count": 7,
   "metadata": {},
   "outputs": [],
   "source": [
    "def get_utility_data(directory, utility = 'gas'):\n",
    "\n",
    "    \"\"\"Returns a list of CSV files in the given directory.\"\"\"\n",
    "    raw_files = [file for file in os.listdir(directory) if file.endswith(\".csv\") and 'rawdata' in file and utility in file]\n",
    "\n",
    "    dfs = [pd.read_csv(f'{directory}/{file}') for file in raw_files]  # Read each CSV file into a DataFrame\n",
    "    df_combined = pd.concat(dfs, ignore_index=True)  # Concatenate all DataFrames\n",
    "    df_unique = df_combined.drop_duplicates(subset=['interval_start', 'interval_end']).copy()\n",
    "    df_unique.columns = [f'{utility}_consumption','interval_start', 'interval_end']\n",
    "\n",
    "    df_unique['weekday'] = df_unique['interval_start'].apply(lambda x: datetime.strptime(x, '%Y-%m-%dT%H:%M:%SZ').strftime('%a'))\n",
    "    df_unique['day'] = df_unique['interval_start'].apply(lambda x: datetime.strptime(x, '%Y-%m-%dT%H:%M:%SZ').strftime('%Y-%m-%d'))\n",
    "    df_unique['dom'] = df_unique['interval_start'].apply(lambda x: datetime.strptime(x, '%Y-%m-%dT%H:%M:%SZ').strftime('%m-%d'))\n",
    "    df_unique['time'] = df_unique['interval_start'].apply(lambda x: datetime.strptime(x, '%Y-%m-%dT%H:%M:%SZ').strftime('%H:%M'))\n",
    "    df_unique['x_label'] = df_unique.apply(lambda row: f\"{row['weekday']} {row['dom']} {row['time']}\", axis=1)\n",
    "    df_unique = df_unique.sort_values(by=['day', 'time'], ascending=True)\n",
    "\n",
    "    print(f' ... Cumulative data for {utility}, {df_unique.shape[0]} records')\n",
    "    report_timespan(df_unique)\n",
    "    return(df_unique)\n"
   ]
  },
  {
   "cell_type": "code",
   "execution_count": 8,
   "metadata": {},
   "outputs": [],
   "source": [
    "def get_plot(df, utility = 'both'):\n",
    "\n",
    "    # Create the plot\n",
    "    fig = go.Figure()\n",
    "\n",
    "    # Plot electricity consumption\n",
    "    if utility == 'electricity' or utility == 'both':\n",
    "        fig.add_trace(go.Scatter(\n",
    "            x=df['x_label'], \n",
    "            y=df['electricity_consumption'], \n",
    "            mode='lines+markers', \n",
    "            name='Electricity', \n",
    "            line=dict(color='blue')\n",
    "        ))\n",
    "\n",
    "    # Plot gas consumption\n",
    "    if utility == 'gas' or utility == 'both':\n",
    "        fig.add_trace(go.Scatter(\n",
    "            x=df['x_label'], \n",
    "            y=df['gas_consumption'], \n",
    "            mode='lines+markers', \n",
    "            name='Gas', \n",
    "            line=dict(color='red')\n",
    "        ))\n",
    "\n",
    "    # Update layout\n",
    "    fig.update_layout(\n",
    "        title=\"Energy Consumption Over Time\",\n",
    "        xaxis_title=\"Time Interval (Start)\",\n",
    "        yaxis_title=\"Consumption\",\n",
    "        xaxis=dict(tickangle=45),\n",
    "        template=\"plotly_white\"\n",
    "    )\n",
    "\n",
    "    # Show the plot\n",
    "    return(fig)\n",
    "    #fig.show()"
   ]
  },
  {
   "cell_type": "markdown",
   "metadata": {},
   "source": [
    "# Get new data"
   ]
  },
  {
   "cell_type": "code",
   "execution_count": 13,
   "metadata": {},
   "outputs": [
    {
     "name": "stdout",
     "output_type": "stream",
     "text": [
      "Status Code (electricity): 200\n",
      " ... Saving as ./data-raw/2025-02-15_rawdata_electricity.csv\n",
      " ... Records 100\n",
      " ... Variables 3 : Index(['consumption', 'interval_start', 'interval_end'], dtype='object')\n",
      " ... From Tue 2025-02-11 22:00 to Thu 2025-02-13 23:30\n",
      "Status Code (gas): 200\n",
      " ... Saving as ./data-raw/2025-02-15_rawdata_gas.csv\n",
      " ... Records 100\n",
      " ... Variables 3 : Index(['consumption', 'interval_start', 'interval_end'], dtype='object')\n",
      " ... From Tue 2025-02-11 22:00 to Thu 2025-02-13 23:30\n"
     ]
    }
   ],
   "source": [
    "# get data from octopus as a dataframe\n",
    "df_electricity = get_raw_usage_data('electricity')\n",
    "df_gas = get_raw_usage_data('gas')"
   ]
  },
  {
   "cell_type": "code",
   "execution_count": 14,
   "metadata": {},
   "outputs": [
    {
     "name": "stdout",
     "output_type": "stream",
     "text": [
      " ... Cumulative data for gas, 964 records\n",
      " ... From Fri 2025-01-24 22:00 to Thu 2025-02-13 23:30\n",
      " ... Cumulative data for electricity, 920 records\n",
      " ... From Fri 2025-01-24 22:00 to Thu 2025-02-13 23:30\n",
      " ... MERGED dataset, saved to ./data-cumulative/cumulative.csv\n",
      " ... From Fri 2025-01-24 22:00 to Thu 2025-02-13 23:30\n"
     ]
    }
   ],
   "source": [
    "# create a df with both readings in where dates exist for both\n",
    "df_gas = get_utility_data(dir_data_raw, utility = 'gas')\n",
    "df_electricity = get_utility_data(dir_data_raw, utility = 'electricity')\n",
    "\n",
    "df_both = pd.merge(df_gas, \n",
    "                   df_electricity[['electricity_consumption','interval_start']], \n",
    "                   on='interval_start', how='outer')\n",
    "df_both = df_both.sort_values(by='interval_start', ascending=True)\n",
    "\n",
    "# save\n",
    "file_cumulative = f'{dir_cumulative}/cumulative.csv'\n",
    "df_both.to_csv(file_cumulative, index=False)\n",
    "print(f' ... MERGED dataset, saved to {file_cumulative}')\n",
    "report_timespan(df_both)"
   ]
  },
  {
   "cell_type": "markdown",
   "metadata": {},
   "source": [
    "# Push to github"
   ]
  },
  {
   "cell_type": "code",
   "execution_count": 11,
   "metadata": {},
   "outputs": [
    {
     "name": "stdout",
     "output_type": "stream",
     "text": [
      "Commit via GitPython - Thursday 2025-02-13 12:03\n"
     ]
    },
    {
     "data": {
      "text/plain": [
       "[<git.remote.PushInfo at 0x174e34d00e0>]"
      ]
     },
     "execution_count": 11,
     "metadata": {},
     "output_type": "execute_result"
    }
   ],
   "source": [
    "# Stage, commit, and push changes\n",
    "repo.git.add(\".\")\n",
    "git_message = f'Commit via GitPython - {datetime.now().strftime('%A %Y-%m-%d %H:%M')}'\n",
    "print(git_message)\n",
    "repo.index.commit(git_message)\n",
    "origin = repo.remote(name='origin')\n",
    "origin.push()"
   ]
  },
  {
   "cell_type": "markdown",
   "metadata": {},
   "source": [
    "# Run charts"
   ]
  },
  {
   "cell_type": "code",
   "execution_count": 12,
   "metadata": {},
   "outputs": [
    {
     "data": {
      "application/vnd.plotly.v1+json": {
       "config": {
        "plotlyServerURL": "https://plot.ly"
       },
       "data": [
        {
         "line": {
          "color": "blue"
         },
         "mode": "lines+markers",
         "name": "Electricity",
         "type": "scatter",
         "x": [
          "Sun 02-09 00:00",
          "Sun 02-09 00:30",
          "Sun 02-09 01:00",
          "Sun 02-09 01:30",
          "Sun 02-09 02:00",
          "Sun 02-09 02:30",
          "Sun 02-09 03:00",
          "Sun 02-09 03:30",
          "Sun 02-09 04:00",
          "Sun 02-09 04:30",
          "Sun 02-09 05:00",
          "Sun 02-09 05:30",
          "Sun 02-09 06:00",
          "Sun 02-09 06:30",
          "Sun 02-09 07:00",
          "Sun 02-09 07:30",
          "Sun 02-09 08:00",
          "Sun 02-09 08:30",
          "Sun 02-09 09:00",
          "Sun 02-09 09:30",
          "Sun 02-09 10:00",
          "Sun 02-09 10:30",
          "Sun 02-09 11:00",
          "Sun 02-09 11:30",
          "Sun 02-09 12:00",
          "Sun 02-09 12:30",
          "Sun 02-09 13:00",
          "Sun 02-09 13:30",
          "Sun 02-09 14:00",
          "Sun 02-09 14:30",
          "Sun 02-09 15:00",
          "Sun 02-09 15:30",
          "Sun 02-09 16:00",
          "Sun 02-09 16:30",
          "Sun 02-09 17:00",
          "Sun 02-09 17:30",
          "Sun 02-09 18:00",
          "Sun 02-09 18:30",
          "Sun 02-09 19:00",
          "Sun 02-09 19:30",
          "Sun 02-09 20:00",
          "Sun 02-09 20:30",
          "Sun 02-09 21:00",
          "Sun 02-09 21:30",
          "Sun 02-09 22:00",
          "Sun 02-09 22:30",
          "Sun 02-09 23:00",
          "Sun 02-09 23:30",
          "Mon 02-10 00:00",
          "Mon 02-10 00:30",
          "Mon 02-10 01:00",
          "Mon 02-10 01:30",
          "Mon 02-10 02:00",
          "Mon 02-10 02:30",
          "Mon 02-10 03:00",
          "Mon 02-10 03:30",
          "Mon 02-10 04:00",
          "Mon 02-10 04:30",
          "Mon 02-10 05:00",
          "Mon 02-10 05:30",
          "Mon 02-10 06:00",
          "Mon 02-10 06:30",
          "Mon 02-10 07:00",
          "Mon 02-10 07:30",
          "Mon 02-10 08:00",
          "Mon 02-10 08:30",
          "Mon 02-10 09:00",
          "Mon 02-10 09:30",
          "Mon 02-10 10:00",
          "Mon 02-10 10:30",
          "Mon 02-10 11:00",
          "Mon 02-10 11:30",
          "Mon 02-10 12:00",
          "Mon 02-10 12:30",
          "Mon 02-10 13:00",
          "Mon 02-10 13:30",
          "Mon 02-10 14:00",
          "Mon 02-10 14:30",
          "Mon 02-10 15:00",
          "Mon 02-10 15:30",
          "Mon 02-10 16:00",
          "Mon 02-10 16:30",
          "Mon 02-10 17:00",
          "Mon 02-10 17:30",
          "Mon 02-10 18:00",
          "Mon 02-10 18:30",
          "Mon 02-10 19:00",
          "Mon 02-10 19:30",
          "Mon 02-10 20:00",
          "Mon 02-10 20:30",
          "Mon 02-10 21:00",
          "Mon 02-10 21:30",
          "Mon 02-10 22:00",
          "Mon 02-10 22:30",
          "Mon 02-10 23:00",
          "Mon 02-10 23:30",
          "Tue 02-11 00:00",
          "Tue 02-11 00:30",
          "Tue 02-11 01:00",
          "Tue 02-11 01:30",
          "Tue 02-11 02:00",
          "Tue 02-11 02:30",
          "Tue 02-11 03:00",
          "Tue 02-11 03:30",
          "Tue 02-11 04:00",
          "Tue 02-11 04:30",
          "Tue 02-11 05:00",
          "Tue 02-11 05:30",
          "Tue 02-11 06:00",
          "Tue 02-11 06:30",
          "Tue 02-11 07:00",
          "Tue 02-11 07:30",
          "Tue 02-11 08:00",
          "Tue 02-11 08:30",
          "Tue 02-11 09:00",
          "Tue 02-11 09:30",
          "Tue 02-11 10:00",
          "Tue 02-11 10:30",
          "Tue 02-11 11:00",
          "Tue 02-11 11:30",
          "Tue 02-11 12:00",
          "Tue 02-11 12:30",
          "Tue 02-11 13:00",
          "Tue 02-11 13:30",
          "Tue 02-11 14:00",
          "Tue 02-11 14:30",
          "Tue 02-11 15:00",
          "Tue 02-11 15:30",
          "Tue 02-11 16:00",
          "Tue 02-11 16:30",
          "Tue 02-11 17:00",
          "Tue 02-11 17:30",
          "Tue 02-11 18:00",
          "Tue 02-11 18:30",
          "Tue 02-11 19:00",
          "Tue 02-11 19:30",
          "Tue 02-11 20:00",
          "Tue 02-11 20:30",
          "Tue 02-11 21:00",
          "Tue 02-11 21:30",
          "Tue 02-11 22:00",
          "Tue 02-11 22:30",
          "Tue 02-11 23:00",
          "Tue 02-11 23:30"
         ],
         "y": [
          null,
          null,
          null,
          null,
          null,
          null,
          null,
          null,
          null,
          null,
          null,
          null,
          null,
          null,
          null,
          null,
          null,
          null,
          null,
          null,
          null,
          null,
          null,
          null,
          null,
          null,
          null,
          null,
          null,
          null,
          null,
          null,
          null,
          null,
          null,
          null,
          null,
          null,
          null,
          null,
          null,
          null,
          null,
          null,
          0.239,
          0.1,
          0.084,
          0.098,
          0.101,
          0.084,
          0.103,
          0.087,
          0.087,
          0.097,
          0.09,
          0.06,
          0.079,
          0.054,
          0.065,
          0.075,
          0.053,
          0.071,
          0.063,
          0.079,
          0.209,
          0.088,
          0.083,
          0.152,
          0.077,
          0.082,
          0.082,
          0.285,
          0.857,
          0.129,
          0.081,
          0.491,
          0.482,
          0.093,
          0.084,
          0.083,
          0.093,
          0.641,
          0.608,
          0.199,
          0.188,
          0.187,
          0.265,
          0.145,
          0.131,
          0.147,
          0.136,
          0.09,
          0.057,
          0.071,
          0.058,
          0.064,
          0.066,
          0.056,
          0.072,
          0.061,
          0.056,
          0.072,
          0.053,
          0.056,
          0.067,
          0.051,
          0.061,
          0.066,
          0.072,
          0.163,
          0.082,
          0.143,
          0.103,
          0.09,
          0.086,
          0.076,
          0.151,
          0.076,
          0.096,
          0.101,
          0.142,
          0.107,
          0.089,
          0.091,
          0.102,
          0.066,
          0.096,
          0.081,
          0.082,
          0.086,
          0.07,
          0.15,
          0.105,
          0.118,
          0.102,
          0.139,
          0.631,
          0.106,
          0.099,
          0.083,
          0.066,
          0.075,
          0.072,
          0.062
         ]
        },
        {
         "line": {
          "color": "red"
         },
         "mode": "lines+markers",
         "name": "Gas",
         "type": "scatter",
         "x": [
          "Sun 02-09 00:00",
          "Sun 02-09 00:30",
          "Sun 02-09 01:00",
          "Sun 02-09 01:30",
          "Sun 02-09 02:00",
          "Sun 02-09 02:30",
          "Sun 02-09 03:00",
          "Sun 02-09 03:30",
          "Sun 02-09 04:00",
          "Sun 02-09 04:30",
          "Sun 02-09 05:00",
          "Sun 02-09 05:30",
          "Sun 02-09 06:00",
          "Sun 02-09 06:30",
          "Sun 02-09 07:00",
          "Sun 02-09 07:30",
          "Sun 02-09 08:00",
          "Sun 02-09 08:30",
          "Sun 02-09 09:00",
          "Sun 02-09 09:30",
          "Sun 02-09 10:00",
          "Sun 02-09 10:30",
          "Sun 02-09 11:00",
          "Sun 02-09 11:30",
          "Sun 02-09 12:00",
          "Sun 02-09 12:30",
          "Sun 02-09 13:00",
          "Sun 02-09 13:30",
          "Sun 02-09 14:00",
          "Sun 02-09 14:30",
          "Sun 02-09 15:00",
          "Sun 02-09 15:30",
          "Sun 02-09 16:00",
          "Sun 02-09 16:30",
          "Sun 02-09 17:00",
          "Sun 02-09 17:30",
          "Sun 02-09 18:00",
          "Sun 02-09 18:30",
          "Sun 02-09 19:00",
          "Sun 02-09 19:30",
          "Sun 02-09 20:00",
          "Sun 02-09 20:30",
          "Sun 02-09 21:00",
          "Sun 02-09 21:30",
          "Sun 02-09 22:00",
          "Sun 02-09 22:30",
          "Sun 02-09 23:00",
          "Sun 02-09 23:30",
          "Mon 02-10 00:00",
          "Mon 02-10 00:30",
          "Mon 02-10 01:00",
          "Mon 02-10 01:30",
          "Mon 02-10 02:00",
          "Mon 02-10 02:30",
          "Mon 02-10 03:00",
          "Mon 02-10 03:30",
          "Mon 02-10 04:00",
          "Mon 02-10 04:30",
          "Mon 02-10 05:00",
          "Mon 02-10 05:30",
          "Mon 02-10 06:00",
          "Mon 02-10 06:30",
          "Mon 02-10 07:00",
          "Mon 02-10 07:30",
          "Mon 02-10 08:00",
          "Mon 02-10 08:30",
          "Mon 02-10 09:00",
          "Mon 02-10 09:30",
          "Mon 02-10 10:00",
          "Mon 02-10 10:30",
          "Mon 02-10 11:00",
          "Mon 02-10 11:30",
          "Mon 02-10 12:00",
          "Mon 02-10 12:30",
          "Mon 02-10 13:00",
          "Mon 02-10 13:30",
          "Mon 02-10 14:00",
          "Mon 02-10 14:30",
          "Mon 02-10 15:00",
          "Mon 02-10 15:30",
          "Mon 02-10 16:00",
          "Mon 02-10 16:30",
          "Mon 02-10 17:00",
          "Mon 02-10 17:30",
          "Mon 02-10 18:00",
          "Mon 02-10 18:30",
          "Mon 02-10 19:00",
          "Mon 02-10 19:30",
          "Mon 02-10 20:00",
          "Mon 02-10 20:30",
          "Mon 02-10 21:00",
          "Mon 02-10 21:30",
          "Mon 02-10 22:00",
          "Mon 02-10 22:30",
          "Mon 02-10 23:00",
          "Mon 02-10 23:30",
          "Tue 02-11 00:00",
          "Tue 02-11 00:30",
          "Tue 02-11 01:00",
          "Tue 02-11 01:30",
          "Tue 02-11 02:00",
          "Tue 02-11 02:30",
          "Tue 02-11 03:00",
          "Tue 02-11 03:30",
          "Tue 02-11 04:00",
          "Tue 02-11 04:30",
          "Tue 02-11 05:00",
          "Tue 02-11 05:30",
          "Tue 02-11 06:00",
          "Tue 02-11 06:30",
          "Tue 02-11 07:00",
          "Tue 02-11 07:30",
          "Tue 02-11 08:00",
          "Tue 02-11 08:30",
          "Tue 02-11 09:00",
          "Tue 02-11 09:30",
          "Tue 02-11 10:00",
          "Tue 02-11 10:30",
          "Tue 02-11 11:00",
          "Tue 02-11 11:30",
          "Tue 02-11 12:00",
          "Tue 02-11 12:30",
          "Tue 02-11 13:00",
          "Tue 02-11 13:30",
          "Tue 02-11 14:00",
          "Tue 02-11 14:30",
          "Tue 02-11 15:00",
          "Tue 02-11 15:30",
          "Tue 02-11 16:00",
          "Tue 02-11 16:30",
          "Tue 02-11 17:00",
          "Tue 02-11 17:30",
          "Tue 02-11 18:00",
          "Tue 02-11 18:30",
          "Tue 02-11 19:00",
          "Tue 02-11 19:30",
          "Tue 02-11 20:00",
          "Tue 02-11 20:30",
          "Tue 02-11 21:00",
          "Tue 02-11 21:30",
          "Tue 02-11 22:00",
          "Tue 02-11 22:30",
          "Tue 02-11 23:00",
          "Tue 02-11 23:30"
         ],
         "y": [
          0.226,
          0.259,
          0.003,
          0.205,
          0.206,
          0,
          0.204,
          0.212,
          0.157,
          0.064,
          0.187,
          0.032,
          0.184,
          0.246,
          0.085,
          0.136,
          0.135,
          0.17,
          0.052,
          0.238,
          0.024,
          0,
          0.195,
          0,
          0.184,
          0,
          0,
          0.208,
          0,
          0,
          0,
          0.003,
          0.055,
          0,
          0.228,
          0,
          0,
          0,
          0,
          0.114,
          0.111,
          0.003,
          0.003,
          0,
          0.191,
          0,
          0,
          0.174,
          0.193,
          0,
          0.196,
          0,
          0.178,
          0,
          0.188,
          0,
          0.195,
          0.067,
          0.171,
          0.229,
          0,
          0.233,
          0,
          0.229,
          0.229,
          0,
          0.248,
          0.049,
          0.211,
          0,
          0,
          0.213,
          0.006,
          0.231,
          0,
          0.166,
          0.057,
          0,
          0.208,
          0,
          0.268,
          0.777,
          0.515,
          0.458,
          0.444,
          0.446,
          0.494,
          0.425,
          0.361,
          0.445,
          0.448,
          0.153,
          0,
          0,
          0,
          0,
          0,
          0,
          0,
          0,
          0,
          0,
          0,
          0,
          0,
          0,
          0,
          0,
          0,
          0,
          0,
          0.022,
          0.009,
          0,
          0.229,
          0,
          0.225,
          0,
          0.249,
          0.424,
          0.653,
          0.343,
          0.45,
          0.535,
          0.455,
          0,
          0.342,
          0.356,
          0.313,
          0.244,
          0.059,
          0.281,
          0,
          0.225,
          0,
          0.252,
          0.002,
          0,
          0.212,
          0,
          0.225,
          0,
          0.135,
          0
         ]
        }
       ],
       "layout": {
        "template": {
         "data": {
          "bar": [
           {
            "error_x": {
             "color": "#2a3f5f"
            },
            "error_y": {
             "color": "#2a3f5f"
            },
            "marker": {
             "line": {
              "color": "white",
              "width": 0.5
             },
             "pattern": {
              "fillmode": "overlay",
              "size": 10,
              "solidity": 0.2
             }
            },
            "type": "bar"
           }
          ],
          "barpolar": [
           {
            "marker": {
             "line": {
              "color": "white",
              "width": 0.5
             },
             "pattern": {
              "fillmode": "overlay",
              "size": 10,
              "solidity": 0.2
             }
            },
            "type": "barpolar"
           }
          ],
          "carpet": [
           {
            "aaxis": {
             "endlinecolor": "#2a3f5f",
             "gridcolor": "#C8D4E3",
             "linecolor": "#C8D4E3",
             "minorgridcolor": "#C8D4E3",
             "startlinecolor": "#2a3f5f"
            },
            "baxis": {
             "endlinecolor": "#2a3f5f",
             "gridcolor": "#C8D4E3",
             "linecolor": "#C8D4E3",
             "minorgridcolor": "#C8D4E3",
             "startlinecolor": "#2a3f5f"
            },
            "type": "carpet"
           }
          ],
          "choropleth": [
           {
            "colorbar": {
             "outlinewidth": 0,
             "ticks": ""
            },
            "type": "choropleth"
           }
          ],
          "contour": [
           {
            "colorbar": {
             "outlinewidth": 0,
             "ticks": ""
            },
            "colorscale": [
             [
              0,
              "#0d0887"
             ],
             [
              0.1111111111111111,
              "#46039f"
             ],
             [
              0.2222222222222222,
              "#7201a8"
             ],
             [
              0.3333333333333333,
              "#9c179e"
             ],
             [
              0.4444444444444444,
              "#bd3786"
             ],
             [
              0.5555555555555556,
              "#d8576b"
             ],
             [
              0.6666666666666666,
              "#ed7953"
             ],
             [
              0.7777777777777778,
              "#fb9f3a"
             ],
             [
              0.8888888888888888,
              "#fdca26"
             ],
             [
              1,
              "#f0f921"
             ]
            ],
            "type": "contour"
           }
          ],
          "contourcarpet": [
           {
            "colorbar": {
             "outlinewidth": 0,
             "ticks": ""
            },
            "type": "contourcarpet"
           }
          ],
          "heatmap": [
           {
            "colorbar": {
             "outlinewidth": 0,
             "ticks": ""
            },
            "colorscale": [
             [
              0,
              "#0d0887"
             ],
             [
              0.1111111111111111,
              "#46039f"
             ],
             [
              0.2222222222222222,
              "#7201a8"
             ],
             [
              0.3333333333333333,
              "#9c179e"
             ],
             [
              0.4444444444444444,
              "#bd3786"
             ],
             [
              0.5555555555555556,
              "#d8576b"
             ],
             [
              0.6666666666666666,
              "#ed7953"
             ],
             [
              0.7777777777777778,
              "#fb9f3a"
             ],
             [
              0.8888888888888888,
              "#fdca26"
             ],
             [
              1,
              "#f0f921"
             ]
            ],
            "type": "heatmap"
           }
          ],
          "heatmapgl": [
           {
            "colorbar": {
             "outlinewidth": 0,
             "ticks": ""
            },
            "colorscale": [
             [
              0,
              "#0d0887"
             ],
             [
              0.1111111111111111,
              "#46039f"
             ],
             [
              0.2222222222222222,
              "#7201a8"
             ],
             [
              0.3333333333333333,
              "#9c179e"
             ],
             [
              0.4444444444444444,
              "#bd3786"
             ],
             [
              0.5555555555555556,
              "#d8576b"
             ],
             [
              0.6666666666666666,
              "#ed7953"
             ],
             [
              0.7777777777777778,
              "#fb9f3a"
             ],
             [
              0.8888888888888888,
              "#fdca26"
             ],
             [
              1,
              "#f0f921"
             ]
            ],
            "type": "heatmapgl"
           }
          ],
          "histogram": [
           {
            "marker": {
             "pattern": {
              "fillmode": "overlay",
              "size": 10,
              "solidity": 0.2
             }
            },
            "type": "histogram"
           }
          ],
          "histogram2d": [
           {
            "colorbar": {
             "outlinewidth": 0,
             "ticks": ""
            },
            "colorscale": [
             [
              0,
              "#0d0887"
             ],
             [
              0.1111111111111111,
              "#46039f"
             ],
             [
              0.2222222222222222,
              "#7201a8"
             ],
             [
              0.3333333333333333,
              "#9c179e"
             ],
             [
              0.4444444444444444,
              "#bd3786"
             ],
             [
              0.5555555555555556,
              "#d8576b"
             ],
             [
              0.6666666666666666,
              "#ed7953"
             ],
             [
              0.7777777777777778,
              "#fb9f3a"
             ],
             [
              0.8888888888888888,
              "#fdca26"
             ],
             [
              1,
              "#f0f921"
             ]
            ],
            "type": "histogram2d"
           }
          ],
          "histogram2dcontour": [
           {
            "colorbar": {
             "outlinewidth": 0,
             "ticks": ""
            },
            "colorscale": [
             [
              0,
              "#0d0887"
             ],
             [
              0.1111111111111111,
              "#46039f"
             ],
             [
              0.2222222222222222,
              "#7201a8"
             ],
             [
              0.3333333333333333,
              "#9c179e"
             ],
             [
              0.4444444444444444,
              "#bd3786"
             ],
             [
              0.5555555555555556,
              "#d8576b"
             ],
             [
              0.6666666666666666,
              "#ed7953"
             ],
             [
              0.7777777777777778,
              "#fb9f3a"
             ],
             [
              0.8888888888888888,
              "#fdca26"
             ],
             [
              1,
              "#f0f921"
             ]
            ],
            "type": "histogram2dcontour"
           }
          ],
          "mesh3d": [
           {
            "colorbar": {
             "outlinewidth": 0,
             "ticks": ""
            },
            "type": "mesh3d"
           }
          ],
          "parcoords": [
           {
            "line": {
             "colorbar": {
              "outlinewidth": 0,
              "ticks": ""
             }
            },
            "type": "parcoords"
           }
          ],
          "pie": [
           {
            "automargin": true,
            "type": "pie"
           }
          ],
          "scatter": [
           {
            "fillpattern": {
             "fillmode": "overlay",
             "size": 10,
             "solidity": 0.2
            },
            "type": "scatter"
           }
          ],
          "scatter3d": [
           {
            "line": {
             "colorbar": {
              "outlinewidth": 0,
              "ticks": ""
             }
            },
            "marker": {
             "colorbar": {
              "outlinewidth": 0,
              "ticks": ""
             }
            },
            "type": "scatter3d"
           }
          ],
          "scattercarpet": [
           {
            "marker": {
             "colorbar": {
              "outlinewidth": 0,
              "ticks": ""
             }
            },
            "type": "scattercarpet"
           }
          ],
          "scattergeo": [
           {
            "marker": {
             "colorbar": {
              "outlinewidth": 0,
              "ticks": ""
             }
            },
            "type": "scattergeo"
           }
          ],
          "scattergl": [
           {
            "marker": {
             "colorbar": {
              "outlinewidth": 0,
              "ticks": ""
             }
            },
            "type": "scattergl"
           }
          ],
          "scattermapbox": [
           {
            "marker": {
             "colorbar": {
              "outlinewidth": 0,
              "ticks": ""
             }
            },
            "type": "scattermapbox"
           }
          ],
          "scatterpolar": [
           {
            "marker": {
             "colorbar": {
              "outlinewidth": 0,
              "ticks": ""
             }
            },
            "type": "scatterpolar"
           }
          ],
          "scatterpolargl": [
           {
            "marker": {
             "colorbar": {
              "outlinewidth": 0,
              "ticks": ""
             }
            },
            "type": "scatterpolargl"
           }
          ],
          "scatterternary": [
           {
            "marker": {
             "colorbar": {
              "outlinewidth": 0,
              "ticks": ""
             }
            },
            "type": "scatterternary"
           }
          ],
          "surface": [
           {
            "colorbar": {
             "outlinewidth": 0,
             "ticks": ""
            },
            "colorscale": [
             [
              0,
              "#0d0887"
             ],
             [
              0.1111111111111111,
              "#46039f"
             ],
             [
              0.2222222222222222,
              "#7201a8"
             ],
             [
              0.3333333333333333,
              "#9c179e"
             ],
             [
              0.4444444444444444,
              "#bd3786"
             ],
             [
              0.5555555555555556,
              "#d8576b"
             ],
             [
              0.6666666666666666,
              "#ed7953"
             ],
             [
              0.7777777777777778,
              "#fb9f3a"
             ],
             [
              0.8888888888888888,
              "#fdca26"
             ],
             [
              1,
              "#f0f921"
             ]
            ],
            "type": "surface"
           }
          ],
          "table": [
           {
            "cells": {
             "fill": {
              "color": "#EBF0F8"
             },
             "line": {
              "color": "white"
             }
            },
            "header": {
             "fill": {
              "color": "#C8D4E3"
             },
             "line": {
              "color": "white"
             }
            },
            "type": "table"
           }
          ]
         },
         "layout": {
          "annotationdefaults": {
           "arrowcolor": "#2a3f5f",
           "arrowhead": 0,
           "arrowwidth": 1
          },
          "autotypenumbers": "strict",
          "coloraxis": {
           "colorbar": {
            "outlinewidth": 0,
            "ticks": ""
           }
          },
          "colorscale": {
           "diverging": [
            [
             0,
             "#8e0152"
            ],
            [
             0.1,
             "#c51b7d"
            ],
            [
             0.2,
             "#de77ae"
            ],
            [
             0.3,
             "#f1b6da"
            ],
            [
             0.4,
             "#fde0ef"
            ],
            [
             0.5,
             "#f7f7f7"
            ],
            [
             0.6,
             "#e6f5d0"
            ],
            [
             0.7,
             "#b8e186"
            ],
            [
             0.8,
             "#7fbc41"
            ],
            [
             0.9,
             "#4d9221"
            ],
            [
             1,
             "#276419"
            ]
           ],
           "sequential": [
            [
             0,
             "#0d0887"
            ],
            [
             0.1111111111111111,
             "#46039f"
            ],
            [
             0.2222222222222222,
             "#7201a8"
            ],
            [
             0.3333333333333333,
             "#9c179e"
            ],
            [
             0.4444444444444444,
             "#bd3786"
            ],
            [
             0.5555555555555556,
             "#d8576b"
            ],
            [
             0.6666666666666666,
             "#ed7953"
            ],
            [
             0.7777777777777778,
             "#fb9f3a"
            ],
            [
             0.8888888888888888,
             "#fdca26"
            ],
            [
             1,
             "#f0f921"
            ]
           ],
           "sequentialminus": [
            [
             0,
             "#0d0887"
            ],
            [
             0.1111111111111111,
             "#46039f"
            ],
            [
             0.2222222222222222,
             "#7201a8"
            ],
            [
             0.3333333333333333,
             "#9c179e"
            ],
            [
             0.4444444444444444,
             "#bd3786"
            ],
            [
             0.5555555555555556,
             "#d8576b"
            ],
            [
             0.6666666666666666,
             "#ed7953"
            ],
            [
             0.7777777777777778,
             "#fb9f3a"
            ],
            [
             0.8888888888888888,
             "#fdca26"
            ],
            [
             1,
             "#f0f921"
            ]
           ]
          },
          "colorway": [
           "#636efa",
           "#EF553B",
           "#00cc96",
           "#ab63fa",
           "#FFA15A",
           "#19d3f3",
           "#FF6692",
           "#B6E880",
           "#FF97FF",
           "#FECB52"
          ],
          "font": {
           "color": "#2a3f5f"
          },
          "geo": {
           "bgcolor": "white",
           "lakecolor": "white",
           "landcolor": "white",
           "showlakes": true,
           "showland": true,
           "subunitcolor": "#C8D4E3"
          },
          "hoverlabel": {
           "align": "left"
          },
          "hovermode": "closest",
          "mapbox": {
           "style": "light"
          },
          "paper_bgcolor": "white",
          "plot_bgcolor": "white",
          "polar": {
           "angularaxis": {
            "gridcolor": "#EBF0F8",
            "linecolor": "#EBF0F8",
            "ticks": ""
           },
           "bgcolor": "white",
           "radialaxis": {
            "gridcolor": "#EBF0F8",
            "linecolor": "#EBF0F8",
            "ticks": ""
           }
          },
          "scene": {
           "xaxis": {
            "backgroundcolor": "white",
            "gridcolor": "#DFE8F3",
            "gridwidth": 2,
            "linecolor": "#EBF0F8",
            "showbackground": true,
            "ticks": "",
            "zerolinecolor": "#EBF0F8"
           },
           "yaxis": {
            "backgroundcolor": "white",
            "gridcolor": "#DFE8F3",
            "gridwidth": 2,
            "linecolor": "#EBF0F8",
            "showbackground": true,
            "ticks": "",
            "zerolinecolor": "#EBF0F8"
           },
           "zaxis": {
            "backgroundcolor": "white",
            "gridcolor": "#DFE8F3",
            "gridwidth": 2,
            "linecolor": "#EBF0F8",
            "showbackground": true,
            "ticks": "",
            "zerolinecolor": "#EBF0F8"
           }
          },
          "shapedefaults": {
           "line": {
            "color": "#2a3f5f"
           }
          },
          "ternary": {
           "aaxis": {
            "gridcolor": "#DFE8F3",
            "linecolor": "#A2B1C6",
            "ticks": ""
           },
           "baxis": {
            "gridcolor": "#DFE8F3",
            "linecolor": "#A2B1C6",
            "ticks": ""
           },
           "bgcolor": "white",
           "caxis": {
            "gridcolor": "#DFE8F3",
            "linecolor": "#A2B1C6",
            "ticks": ""
           }
          },
          "title": {
           "x": 0.05
          },
          "xaxis": {
           "automargin": true,
           "gridcolor": "#EBF0F8",
           "linecolor": "#EBF0F8",
           "ticks": "",
           "title": {
            "standoff": 15
           },
           "zerolinecolor": "#EBF0F8",
           "zerolinewidth": 2
          },
          "yaxis": {
           "automargin": true,
           "gridcolor": "#EBF0F8",
           "linecolor": "#EBF0F8",
           "ticks": "",
           "title": {
            "standoff": 15
           },
           "zerolinecolor": "#EBF0F8",
           "zerolinewidth": 2
          }
         }
        },
        "title": {
         "text": "Energy Consumption Over Time"
        },
        "xaxis": {
         "tickangle": 45,
         "title": {
          "text": "Time Interval (Start)"
         }
        },
        "yaxis": {
         "title": {
          "text": "Consumption"
         }
        }
       }
      }
     },
     "metadata": {},
     "output_type": "display_data"
    }
   ],
   "source": [
    "# display chart\n",
    "days = 3\n",
    "df_week = df_both[-(days*48):]\n",
    "fig = get_plot(df_week, 'both')\n",
    "fig.show()\n",
    "\n",
    "# tuesday - laundry"
   ]
  },
  {
   "cell_type": "markdown",
   "metadata": {},
   "source": [
    "# Testing"
   ]
  },
  {
   "cell_type": "code",
   "execution_count": 62,
   "metadata": {},
   "outputs": [
    {
     "name": "stdout",
     "output_type": "stream",
     "text": [
      "2025-02-04_rawdata_gas.csv\n",
      "2025-02-03_rawdata_gas.csv\n",
      "2025-02-02_rawdata_gas.csv\n",
      "2025-02-01_rawdata_gas.csv\n",
      "2025-01-31_rawdata_gas.csv\n",
      "2025-01-30_rawdata_gas.csv\n",
      "2025-01-29_rawdata_gas.csv\n",
      "2025-01-28_rawdata_gas.csv\n"
     ]
    }
   ],
   "source": [
    "raw_files = [file for file in os.listdir(dir_data_raw) if file.endswith(\".csv\") and 'rawdata' in file and 'gas' in file]\n",
    "raw_files = sorted(raw_files, reverse = True)\n",
    "\n",
    "for x in raw_files:\n",
    "    print(x)"
   ]
  }
 ],
 "metadata": {
  "kernelspec": {
   "display_name": "Python 3",
   "language": "python",
   "name": "python3"
  },
  "language_info": {
   "codemirror_mode": {
    "name": "ipython",
    "version": 3
   },
   "file_extension": ".py",
   "mimetype": "text/x-python",
   "name": "python",
   "nbconvert_exporter": "python",
   "pygments_lexer": "ipython3",
   "version": "3.12.5"
  }
 },
 "nbformat": 4,
 "nbformat_minor": 2
}

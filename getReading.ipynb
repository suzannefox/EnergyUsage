{
 "cells": [
  {
   "cell_type": "markdown",
   "metadata": {},
   "source": [
    "# Setup - libraries and functions"
   ]
  },
  {
   "cell_type": "code",
   "execution_count": 3,
   "metadata": {},
   "outputs": [],
   "source": [
    "import requests\n",
    "import os\n",
    "import json\n",
    "import pandas as pd\n",
    "import plotly.graph_objects as go\n",
    "from datetime import datetime\n",
    "from dotenv import load_dotenv\n",
    "from git import Repo\n"
   ]
  },
  {
   "cell_type": "code",
   "execution_count": 4,
   "metadata": {},
   "outputs": [
    {
     "name": "stdout",
     "output_type": "stream",
     "text": [
      " ... Current dir is ., Raw data saved to ./data-raw\n"
     ]
    }
   ],
   "source": [
    "# Get the API key\n",
    "load_dotenv()\n",
    "api_key = os.getenv('API_KEY')\n",
    "\n",
    "dir_current = os.curdir\n",
    "dir_data_raw = f'{dir_current}/data-raw'\n",
    "dir_cumulative = f'{dir_current}/data-cumulative'\n",
    "dir_repo = f'{dir_current}/.git'\n",
    "repo = Repo(dir_repo)\n",
    "\n",
    "print(f' ... Current dir is {dir_current}, Raw data saved to {dir_data_raw}')"
   ]
  },
  {
   "cell_type": "code",
   "execution_count": 5,
   "metadata": {},
   "outputs": [],
   "source": [
    "def report_timespan(df):\n",
    "    df['interval_start'] = pd.to_datetime(df['interval_start'])\n",
    "\n",
    "    date_start = df['interval_start'].min().strftime('%a %Y-%m-%d %H:%M')\n",
    "    date_final = df['interval_start'].max().strftime('%a %Y-%m-%d %H:%M')\n",
    "\n",
    "    print(f' ... From {date_start} to {date_final}')"
   ]
  },
  {
   "cell_type": "code",
   "execution_count": 6,
   "metadata": {},
   "outputs": [],
   "source": [
    "def get_raw_usage_data(utility, sort = True, save = True, verbose = True):\n",
    "\n",
    "    if not utility in ['electricity', 'gas']:\n",
    "        raise ValueError('utility must be either \"electricity\" or \"gas\"')\n",
    "    \n",
    "    electric_url = \"https://api.octopus.energy/v1/electricity-meter-points/1200039599083/meters/24J0348055/consumption/\"\n",
    "    gas_url = \"https://api.octopus.energy/v1/gas-meter-points/620841506/meters/E6S17881452061/consumption/\"\n",
    "    \n",
    "    if utility == 'electricity':\n",
    "        url = electric_url\n",
    "    elif utility == 'gas':\n",
    "        url = gas_url\n",
    "    \n",
    "    response = requests.get(url, auth=(api_key, \"\")) \n",
    "    data = response.json()['results']\n",
    "    df = pd.DataFrame(data)\n",
    "    \n",
    "    if save:\n",
    "        print(f\"Status Code ({utility}): {response.status_code}\")\n",
    "        file_raw_data = f'{dir_data_raw}/{datetime.now().strftime('%Y-%m-%d')}_rawdata_{utility}.csv'\n",
    "        df.to_csv(file_raw_data, index = False)\n",
    "        print(f' ... Saving as {file_raw_data}')\n",
    "        print(f' ... Records {df.shape[0]}')\n",
    "        print(f' ... Variables {df.shape[1]} : {df.columns}')\n",
    "        if verbose: report_timespan(df)\n",
    "    else:\n",
    "        if verbose: report_timespan(df)\n",
    "\n",
    "    df.columns = [f'{utility}_consumption', 'interval_start', 'interval_end']\n",
    "    if sort:\n",
    "        df = df.sort_values(by='interval_start', ascending=True)\n",
    "\n",
    "    return df"
   ]
  },
  {
   "cell_type": "code",
   "execution_count": 7,
   "metadata": {},
   "outputs": [],
   "source": [
    "def get_utility_data(directory, utility = 'gas'):\n",
    "\n",
    "    \"\"\"Returns a list of CSV files in the given directory.\"\"\"\n",
    "    raw_files = [file for file in os.listdir(directory) if file.endswith(\".csv\") and 'rawdata' in file and utility in file]\n",
    "\n",
    "    dfs = [pd.read_csv(f'{directory}/{file}') for file in raw_files]  # Read each CSV file into a DataFrame\n",
    "    df_combined = pd.concat(dfs, ignore_index=True)  # Concatenate all DataFrames\n",
    "    df_unique = df_combined.drop_duplicates(subset=['interval_start', 'interval_end']).copy()\n",
    "    df_unique.columns = [f'{utility}_consumption','interval_start', 'interval_end']\n",
    "\n",
    "    df_unique['weekday'] = df_unique['interval_start'].apply(lambda x: datetime.strptime(x, '%Y-%m-%dT%H:%M:%SZ').strftime('%a'))\n",
    "    df_unique['day'] = df_unique['interval_start'].apply(lambda x: datetime.strptime(x, '%Y-%m-%dT%H:%M:%SZ').strftime('%Y-%m-%d'))\n",
    "    df_unique['dom'] = df_unique['interval_start'].apply(lambda x: datetime.strptime(x, '%Y-%m-%dT%H:%M:%SZ').strftime('%m-%d'))\n",
    "    df_unique['time'] = df_unique['interval_start'].apply(lambda x: datetime.strptime(x, '%Y-%m-%dT%H:%M:%SZ').strftime('%H:%M'))\n",
    "    df_unique['x_label'] = df_unique.apply(lambda row: f\"{row['weekday']} {row['dom']} {row['time']}\", axis=1)\n",
    "    df_unique = df_unique.sort_values(by=['day', 'time'], ascending=True)\n",
    "\n",
    "    print(f' ... Cumulative data for {utility}, {df_unique.shape[0]} records')\n",
    "    report_timespan(df_unique)\n",
    "    return(df_unique)\n"
   ]
  },
  {
   "cell_type": "code",
   "execution_count": 70,
   "metadata": {},
   "outputs": [],
   "source": [
    "def get_plot(df, utility = 'both', value = 'cost'):\n",
    "\n",
    "    # Create the plot\n",
    "    fig = go.Figure()\n",
    "\n",
    "    if value == 'cost':\n",
    "        df['gas_plot'] = df['gas_cost']\n",
    "        df['electricity_plot'] = df['electricity_cost']\n",
    "        y_title = \"Cost (£)\"\n",
    "    elif value == 'consumption':\n",
    "        df['gas_plot'] = df['gas_consumption']\n",
    "        df['electricity_plot'] = df['electricity_consumption']  \n",
    "        y_title = \"Consumption (kWh)\"\n",
    "\n",
    "    plot_title = f\"Energy {y_title} Over Time\"\n",
    "\n",
    "    # Plot electricity consumption\n",
    "    if utility == 'electricity' or utility == 'both':\n",
    "        fig.add_trace(go.Scatter(\n",
    "            x=df['x_label'], \n",
    "            y=df['electricity_plot'], \n",
    "            mode='lines+markers', \n",
    "            name='Electricity', \n",
    "            line=dict(color='blue')\n",
    "        ))\n",
    "\n",
    "    # Plot gas consumption\n",
    "    if utility == 'gas' or utility == 'both':\n",
    "        fig.add_trace(go.Scatter(\n",
    "            x=df['x_label'], \n",
    "            y=df['gas_plot'], \n",
    "            mode='lines+markers', \n",
    "            name='Gas', \n",
    "            line=dict(color='red')\n",
    "        ))\n",
    "\n",
    "    # Update layout\n",
    "    fig.update_layout(\n",
    "        title = plot_title,\n",
    "        xaxis_title = \"Time Interval (Start)\",\n",
    "        yaxis_title = y_title,\n",
    "        xaxis=dict(tickangle=45),\n",
    "        template=\"plotly_white\"\n",
    "    )\n",
    "\n",
    "    # Show the plot\n",
    "    return(fig)\n",
    "    #fig.show()"
   ]
  },
  {
   "cell_type": "markdown",
   "metadata": {},
   "source": [
    "# Get new data"
   ]
  },
  {
   "cell_type": "code",
   "execution_count": 44,
   "metadata": {},
   "outputs": [
    {
     "name": "stdout",
     "output_type": "stream",
     "text": [
      "Status Code (electricity): 200\n",
      " ... Saving as ./data-raw/2025-02-16_rawdata_electricity.csv\n",
      " ... Records 100\n",
      " ... Variables 3 : Index(['consumption', 'interval_start', 'interval_end'], dtype='object')\n",
      " ... From Thu 2025-02-13 22:00 to Sat 2025-02-15 23:30\n",
      "Status Code (gas): 200\n",
      " ... Saving as ./data-raw/2025-02-16_rawdata_gas.csv\n",
      " ... Records 100\n",
      " ... Variables 3 : Index(['consumption', 'interval_start', 'interval_end'], dtype='object')\n",
      " ... From Wed 2025-02-12 22:00 to Fri 2025-02-14 23:30\n"
     ]
    }
   ],
   "source": [
    "# get data from octopus as a dataframe\n",
    "df_electricity = get_raw_usage_data('electricity')\n",
    "df_gas = get_raw_usage_data('gas')"
   ]
  },
  {
   "cell_type": "code",
   "execution_count": 18,
   "metadata": {},
   "outputs": [
    {
     "name": "stdout",
     "output_type": "stream",
     "text": [
      " ... Cumulative data for gas, 1012 records\n",
      " ... From Fri 2025-01-24 22:00 to Fri 2025-02-14 23:30\n",
      " ... Cumulative data for electricity, 968 records\n",
      " ... From Fri 2025-01-24 22:00 to Fri 2025-02-14 23:30\n",
      " ... MERGED dataset, saved to ./data-cumulative/cumulative.csv\n",
      " ... From Fri 2025-01-24 22:00 to Fri 2025-02-14 23:30\n"
     ]
    }
   ],
   "source": [
    "# create a df with both readings in where dates exist for both\n",
    "df_gas = get_utility_data(dir_data_raw, utility = 'gas')\n",
    "df_electricity = get_utility_data(dir_data_raw, utility = 'electricity')\n",
    "\n",
    "df_both = pd.merge(df_gas, \n",
    "                   df_electricity[['electricity_consumption','interval_start']], \n",
    "                   on='interval_start', how='outer')\n",
    "df_both = df_both.sort_values(by='interval_start', ascending=True)\n",
    "\n",
    "# save\n",
    "file_cumulative = f'{dir_cumulative}/cumulative.csv'\n",
    "df_both.to_csv(file_cumulative, index=False)\n",
    "print(f' ... MERGED dataset, saved to {file_cumulative}')\n",
    "report_timespan(df_both)"
   ]
  },
  {
   "cell_type": "markdown",
   "metadata": {},
   "source": [
    "# Push to github"
   ]
  },
  {
   "cell_type": "code",
   "execution_count": 19,
   "metadata": {},
   "outputs": [
    {
     "name": "stdout",
     "output_type": "stream",
     "text": [
      "Commit via GitPython - Sunday 2025-02-16 12:12\n"
     ]
    },
    {
     "data": {
      "text/plain": [
       "[<git.remote.PushInfo at 0x174e343f100>]"
      ]
     },
     "execution_count": 19,
     "metadata": {},
     "output_type": "execute_result"
    }
   ],
   "source": [
    "# Stage, commit, and push changes\n",
    "repo.git.add(\".\")\n",
    "git_message = f'Commit via GitPython - {datetime.now().strftime('%A %Y-%m-%d %H:%M')}'\n",
    "print(git_message)\n",
    "repo.index.commit(git_message)\n",
    "origin = repo.remote(name='origin')\n",
    "origin.push()"
   ]
  },
  {
   "cell_type": "markdown",
   "metadata": {},
   "source": [
    "# Run charts"
   ]
  },
  {
   "cell_type": "code",
   "execution_count": 74,
   "metadata": {},
   "outputs": [
    {
     "name": "stdout",
     "output_type": "stream",
     "text": [
      "['2025-02-14', '2025-02-13', '2025-02-12', '2025-02-11']\n"
     ]
    },
    {
     "data": {
      "application/vnd.plotly.v1+json": {
       "config": {
        "plotlyServerURL": "https://plot.ly"
       },
       "data": [
        {
         "line": {
          "color": "blue"
         },
         "mode": "lines+markers",
         "name": "Electricity",
         "type": "scatter",
         "x": [
          "Tue 02-11 00:00",
          "Tue 02-11 00:30",
          "Tue 02-11 01:00",
          "Tue 02-11 01:30",
          "Tue 02-11 02:00",
          "Tue 02-11 02:30",
          "Tue 02-11 03:00",
          "Tue 02-11 03:30",
          "Tue 02-11 04:00",
          "Tue 02-11 04:30",
          "Tue 02-11 05:00",
          "Tue 02-11 05:30",
          "Tue 02-11 06:00",
          "Tue 02-11 06:30",
          "Tue 02-11 07:00",
          "Tue 02-11 07:30",
          "Tue 02-11 08:00",
          "Tue 02-11 08:30",
          "Tue 02-11 09:00",
          "Tue 02-11 09:30",
          "Tue 02-11 10:00",
          "Tue 02-11 10:30",
          "Tue 02-11 11:00",
          "Tue 02-11 11:30",
          "Tue 02-11 12:00",
          "Tue 02-11 12:30",
          "Tue 02-11 13:00",
          "Tue 02-11 13:30",
          "Tue 02-11 14:00",
          "Tue 02-11 14:30",
          "Tue 02-11 15:00",
          "Tue 02-11 15:30",
          "Tue 02-11 16:00",
          "Tue 02-11 16:30",
          "Tue 02-11 17:00",
          "Tue 02-11 17:30",
          "Tue 02-11 18:00",
          "Tue 02-11 18:30",
          "Tue 02-11 19:00",
          "Tue 02-11 19:30",
          "Tue 02-11 20:00",
          "Tue 02-11 20:30",
          "Tue 02-11 21:00",
          "Tue 02-11 21:30",
          "Tue 02-11 22:00",
          "Tue 02-11 22:30",
          "Tue 02-11 23:00",
          "Tue 02-11 23:30",
          "Wed 02-12 00:00",
          "Wed 02-12 00:30",
          "Wed 02-12 01:00",
          "Wed 02-12 01:30",
          "Wed 02-12 02:00",
          "Wed 02-12 02:30",
          "Wed 02-12 03:00",
          "Wed 02-12 03:30",
          "Wed 02-12 04:00",
          "Wed 02-12 04:30",
          "Wed 02-12 05:00",
          "Wed 02-12 05:30",
          "Wed 02-12 06:00",
          "Wed 02-12 06:30",
          "Wed 02-12 07:00",
          "Wed 02-12 07:30",
          "Wed 02-12 08:00",
          "Wed 02-12 08:30",
          "Wed 02-12 09:00",
          "Wed 02-12 09:30",
          "Wed 02-12 10:00",
          "Wed 02-12 10:30",
          "Wed 02-12 11:00",
          "Wed 02-12 11:30",
          "Wed 02-12 12:00",
          "Wed 02-12 12:30",
          "Wed 02-12 13:00",
          "Wed 02-12 13:30",
          "Wed 02-12 14:00",
          "Wed 02-12 14:30",
          "Wed 02-12 15:00",
          "Wed 02-12 15:30",
          "Wed 02-12 16:00",
          "Wed 02-12 16:30",
          "Wed 02-12 17:00",
          "Wed 02-12 17:30",
          "Wed 02-12 18:00",
          "Wed 02-12 18:30",
          "Wed 02-12 19:00",
          "Wed 02-12 19:30",
          "Wed 02-12 20:00",
          "Wed 02-12 20:30",
          "Wed 02-12 21:00",
          "Wed 02-12 21:30",
          "Wed 02-12 22:00",
          "Wed 02-12 22:30",
          "Wed 02-12 23:00",
          "Wed 02-12 23:30",
          "Thu 02-13 00:00",
          "Thu 02-13 00:30",
          "Thu 02-13 01:00",
          "Thu 02-13 01:30",
          "Thu 02-13 02:00",
          "Thu 02-13 02:30",
          "Thu 02-13 03:00",
          "Thu 02-13 03:30",
          "Thu 02-13 04:00",
          "Thu 02-13 04:30",
          "Thu 02-13 05:00",
          "Thu 02-13 05:30",
          "Thu 02-13 06:00",
          "Thu 02-13 06:30",
          "Thu 02-13 07:00",
          "Thu 02-13 07:30",
          "Thu 02-13 08:00",
          "Thu 02-13 08:30",
          "Thu 02-13 09:00",
          "Thu 02-13 09:30",
          "Thu 02-13 10:00",
          "Thu 02-13 10:30",
          "Thu 02-13 11:00",
          "Thu 02-13 11:30",
          "Thu 02-13 12:00",
          "Thu 02-13 12:30",
          "Thu 02-13 13:00",
          "Thu 02-13 13:30",
          "Thu 02-13 14:00",
          "Thu 02-13 14:30",
          "Thu 02-13 15:00",
          "Thu 02-13 15:30",
          "Thu 02-13 16:00",
          "Thu 02-13 16:30",
          "Thu 02-13 17:00",
          "Thu 02-13 17:30",
          "Thu 02-13 18:00",
          "Thu 02-13 18:30",
          "Thu 02-13 19:00",
          "Thu 02-13 19:30",
          "Thu 02-13 20:00",
          "Thu 02-13 20:30",
          "Thu 02-13 21:00",
          "Thu 02-13 21:30",
          "Thu 02-13 22:00",
          "Thu 02-13 22:30",
          "Thu 02-13 23:00",
          "Thu 02-13 23:30",
          "Fri 02-14 00:00",
          "Fri 02-14 00:30",
          "Fri 02-14 01:00",
          "Fri 02-14 01:30",
          "Fri 02-14 02:00",
          "Fri 02-14 02:30",
          "Fri 02-14 03:00",
          "Fri 02-14 03:30",
          "Fri 02-14 04:00",
          "Fri 02-14 04:30",
          "Fri 02-14 05:00",
          "Fri 02-14 05:30",
          "Fri 02-14 06:00",
          "Fri 02-14 06:30",
          "Fri 02-14 07:00",
          "Fri 02-14 07:30",
          "Fri 02-14 08:00",
          "Fri 02-14 08:30",
          "Fri 02-14 09:00",
          "Fri 02-14 09:30",
          "Fri 02-14 10:00",
          "Fri 02-14 10:30",
          "Fri 02-14 11:00",
          "Fri 02-14 11:30",
          "Fri 02-14 12:00",
          "Fri 02-14 12:30",
          "Fri 02-14 13:00",
          "Fri 02-14 13:30",
          "Fri 02-14 14:00",
          "Fri 02-14 14:30",
          "Fri 02-14 15:00",
          "Fri 02-14 15:30",
          "Fri 02-14 16:00",
          "Fri 02-14 16:30",
          "Fri 02-14 17:00",
          "Fri 02-14 17:30",
          "Fri 02-14 18:00",
          "Fri 02-14 18:30",
          "Fri 02-14 19:00",
          "Fri 02-14 19:30",
          "Fri 02-14 20:00",
          "Fri 02-14 20:30",
          "Fri 02-14 21:00",
          "Fri 02-14 21:30",
          "Fri 02-14 22:00",
          "Fri 02-14 22:30",
          "Fri 02-14 23:00",
          "Fri 02-14 23:30"
         ],
         "y": [
          0.017199600000000002,
          0.0145936,
          0.018763199999999997,
          0.0158966,
          0.0145936,
          0.018763199999999997,
          0.013811799999999999,
          0.0145936,
          0.017460200000000002,
          0.0132906,
          0.0158966,
          0.017199600000000002,
          0.018763199999999997,
          0.0424778,
          0.0213692,
          0.037265799999999995,
          0.0268418,
          0.023454,
          0.022411599999999997,
          0.0198056,
          0.0393506,
          0.0198056,
          0.0250176,
          0.026320600000000003,
          0.037005199999999995,
          0.027884199999999998,
          0.0231934,
          0.0237146,
          0.0265812,
          0.017199600000000002,
          0.0250176,
          0.0211086,
          0.0213692,
          0.022411599999999997,
          0.018242,
          0.03909,
          0.027363,
          0.0307508,
          0.0265812,
          0.0362234,
          0.1644386,
          0.027623599999999998,
          0.0257994,
          0.0216298,
          0.017199600000000002,
          0.019545,
          0.018763199999999997,
          0.0161572,
          0.022151,
          0.015636,
          0.0161572,
          0.0216298,
          0.0166784,
          0.018763199999999997,
          0.018502599999999998,
          0.013811799999999999,
          0.019545,
          0.017199600000000002,
          0.014333,
          0.0203268,
          0.0161572,
          0.0161572,
          0.018763199999999997,
          0.0489928,
          0.022411599999999997,
          0.027363,
          0.0237146,
          0.0268418,
          0.0291872,
          0.031011399999999998,
          0.023454,
          0.0680166,
          0.0330962,
          0.024757,
          0.0179814,
          0.023454,
          0.0179814,
          0.019545,
          0.0213692,
          0.0198056,
          0.0200662,
          0.0252782,
          0.037526399999999994,
          0.0320538,
          0.0281448,
          0.032575,
          0.035181000000000004,
          0.1983166,
          0.0891252,
          0.03909,
          0.0153754,
          0.0211086,
          0.018242,
          0.0153754,
          0.0198056,
          0.0179814,
          0.014333,
          0.0216298,
          0.013811799999999999,
          0.0179814,
          0.0203268,
          0.013811799999999999,
          0.019023799999999997,
          0.018502599999999998,
          0.014333,
          0.020848000000000002,
          0.018763199999999997,
          0.015636,
          0.0226722,
          0.017720800000000002,
          0.0166784,
          0.057332,
          0.1701718,
          0.027363,
          0.044302,
          0.0959008,
          0.0549866,
          0.0198056,
          0.037005199999999995,
          0.022411599999999997,
          0.049514,
          0.038047599999999994,
          0.026320600000000003,
          0.0216298,
          0.032575,
          0.0510776,
          0.0216298,
          0.0257994,
          0.020848000000000002,
          0.0213692,
          0.0284054,
          0.0341386,
          0.12430619999999999,
          0.038047599999999994,
          0.036744599999999995,
          0.036744599999999995,
          0.030490200000000002,
          0.0257994,
          0.0542048,
          0.0284054,
          0.0213692,
          0.016939,
          0.014333,
          0.019545,
          0.015636,
          0.0164178,
          0.018502599999999998,
          0.013811799999999999,
          0.017460200000000002,
          0.017720800000000002,
          0.0140724,
          0.017720800000000002,
          0.017460200000000002,
          0.013811799999999999,
          0.017199600000000002,
          0.017720800000000002,
          0.0140724,
          0.019023799999999997,
          0.017720800000000002,
          0.050817,
          0.0250176,
          0.0231934,
          0.0211086,
          0.0437808,
          0.0289266,
          0.0226722,
          0.0268418,
          0.0252782,
          0.0237146,
          0.0229328,
          0.0198056,
          0.022411599999999997,
          0.017460200000000002,
          0.035441600000000004,
          0.0218904,
          0.018502599999999998,
          0.022411599999999997,
          0.0211086,
          0.0192844,
          0.034659800000000004,
          0.11127619999999999,
          0.031011399999999998,
          0.024757,
          0.0244964,
          0.024757,
          0.0226722,
          0.0268418,
          0.022151,
          0.0257994,
          0.0323144,
          0.013811799999999999,
          0.019023799999999997
         ]
        },
        {
         "line": {
          "color": "red"
         },
         "mode": "lines+markers",
         "name": "Gas",
         "type": "scatter",
         "x": [
          "Tue 02-11 00:00",
          "Tue 02-11 00:30",
          "Tue 02-11 01:00",
          "Tue 02-11 01:30",
          "Tue 02-11 02:00",
          "Tue 02-11 02:30",
          "Tue 02-11 03:00",
          "Tue 02-11 03:30",
          "Tue 02-11 04:00",
          "Tue 02-11 04:30",
          "Tue 02-11 05:00",
          "Tue 02-11 05:30",
          "Tue 02-11 06:00",
          "Tue 02-11 06:30",
          "Tue 02-11 07:00",
          "Tue 02-11 07:30",
          "Tue 02-11 08:00",
          "Tue 02-11 08:30",
          "Tue 02-11 09:00",
          "Tue 02-11 09:30",
          "Tue 02-11 10:00",
          "Tue 02-11 10:30",
          "Tue 02-11 11:00",
          "Tue 02-11 11:30",
          "Tue 02-11 12:00",
          "Tue 02-11 12:30",
          "Tue 02-11 13:00",
          "Tue 02-11 13:30",
          "Tue 02-11 14:00",
          "Tue 02-11 14:30",
          "Tue 02-11 15:00",
          "Tue 02-11 15:30",
          "Tue 02-11 16:00",
          "Tue 02-11 16:30",
          "Tue 02-11 17:00",
          "Tue 02-11 17:30",
          "Tue 02-11 18:00",
          "Tue 02-11 18:30",
          "Tue 02-11 19:00",
          "Tue 02-11 19:30",
          "Tue 02-11 20:00",
          "Tue 02-11 20:30",
          "Tue 02-11 21:00",
          "Tue 02-11 21:30",
          "Tue 02-11 22:00",
          "Tue 02-11 22:30",
          "Tue 02-11 23:00",
          "Tue 02-11 23:30",
          "Wed 02-12 00:00",
          "Wed 02-12 00:30",
          "Wed 02-12 01:00",
          "Wed 02-12 01:30",
          "Wed 02-12 02:00",
          "Wed 02-12 02:30",
          "Wed 02-12 03:00",
          "Wed 02-12 03:30",
          "Wed 02-12 04:00",
          "Wed 02-12 04:30",
          "Wed 02-12 05:00",
          "Wed 02-12 05:30",
          "Wed 02-12 06:00",
          "Wed 02-12 06:30",
          "Wed 02-12 07:00",
          "Wed 02-12 07:30",
          "Wed 02-12 08:00",
          "Wed 02-12 08:30",
          "Wed 02-12 09:00",
          "Wed 02-12 09:30",
          "Wed 02-12 10:00",
          "Wed 02-12 10:30",
          "Wed 02-12 11:00",
          "Wed 02-12 11:30",
          "Wed 02-12 12:00",
          "Wed 02-12 12:30",
          "Wed 02-12 13:00",
          "Wed 02-12 13:30",
          "Wed 02-12 14:00",
          "Wed 02-12 14:30",
          "Wed 02-12 15:00",
          "Wed 02-12 15:30",
          "Wed 02-12 16:00",
          "Wed 02-12 16:30",
          "Wed 02-12 17:00",
          "Wed 02-12 17:30",
          "Wed 02-12 18:00",
          "Wed 02-12 18:30",
          "Wed 02-12 19:00",
          "Wed 02-12 19:30",
          "Wed 02-12 20:00",
          "Wed 02-12 20:30",
          "Wed 02-12 21:00",
          "Wed 02-12 21:30",
          "Wed 02-12 22:00",
          "Wed 02-12 22:30",
          "Wed 02-12 23:00",
          "Wed 02-12 23:30",
          "Thu 02-13 00:00",
          "Thu 02-13 00:30",
          "Thu 02-13 01:00",
          "Thu 02-13 01:30",
          "Thu 02-13 02:00",
          "Thu 02-13 02:30",
          "Thu 02-13 03:00",
          "Thu 02-13 03:30",
          "Thu 02-13 04:00",
          "Thu 02-13 04:30",
          "Thu 02-13 05:00",
          "Thu 02-13 05:30",
          "Thu 02-13 06:00",
          "Thu 02-13 06:30",
          "Thu 02-13 07:00",
          "Thu 02-13 07:30",
          "Thu 02-13 08:00",
          "Thu 02-13 08:30",
          "Thu 02-13 09:00",
          "Thu 02-13 09:30",
          "Thu 02-13 10:00",
          "Thu 02-13 10:30",
          "Thu 02-13 11:00",
          "Thu 02-13 11:30",
          "Thu 02-13 12:00",
          "Thu 02-13 12:30",
          "Thu 02-13 13:00",
          "Thu 02-13 13:30",
          "Thu 02-13 14:00",
          "Thu 02-13 14:30",
          "Thu 02-13 15:00",
          "Thu 02-13 15:30",
          "Thu 02-13 16:00",
          "Thu 02-13 16:30",
          "Thu 02-13 17:00",
          "Thu 02-13 17:30",
          "Thu 02-13 18:00",
          "Thu 02-13 18:30",
          "Thu 02-13 19:00",
          "Thu 02-13 19:30",
          "Thu 02-13 20:00",
          "Thu 02-13 20:30",
          "Thu 02-13 21:00",
          "Thu 02-13 21:30",
          "Thu 02-13 22:00",
          "Thu 02-13 22:30",
          "Thu 02-13 23:00",
          "Thu 02-13 23:30",
          "Fri 02-14 00:00",
          "Fri 02-14 00:30",
          "Fri 02-14 01:00",
          "Fri 02-14 01:30",
          "Fri 02-14 02:00",
          "Fri 02-14 02:30",
          "Fri 02-14 03:00",
          "Fri 02-14 03:30",
          "Fri 02-14 04:00",
          "Fri 02-14 04:30",
          "Fri 02-14 05:00",
          "Fri 02-14 05:30",
          "Fri 02-14 06:00",
          "Fri 02-14 06:30",
          "Fri 02-14 07:00",
          "Fri 02-14 07:30",
          "Fri 02-14 08:00",
          "Fri 02-14 08:30",
          "Fri 02-14 09:00",
          "Fri 02-14 09:30",
          "Fri 02-14 10:00",
          "Fri 02-14 10:30",
          "Fri 02-14 11:00",
          "Fri 02-14 11:30",
          "Fri 02-14 12:00",
          "Fri 02-14 12:30",
          "Fri 02-14 13:00",
          "Fri 02-14 13:30",
          "Fri 02-14 14:00",
          "Fri 02-14 14:30",
          "Fri 02-14 15:00",
          "Fri 02-14 15:30",
          "Fri 02-14 16:00",
          "Fri 02-14 16:30",
          "Fri 02-14 17:00",
          "Fri 02-14 17:30",
          "Fri 02-14 18:00",
          "Fri 02-14 18:30",
          "Fri 02-14 19:00",
          "Fri 02-14 19:30",
          "Fri 02-14 20:00",
          "Fri 02-14 20:30",
          "Fri 02-14 21:00",
          "Fri 02-14 21:30",
          "Fri 02-14 22:00",
          "Fri 02-14 22:30",
          "Fri 02-14 23:00",
          "Fri 02-14 23:30"
         ],
         "y": [
          0,
          0,
          0,
          0,
          0,
          0,
          0,
          0,
          0,
          0,
          0,
          0,
          0,
          0,
          0,
          0.015737832,
          0.0064382039999999995,
          0,
          0.16381652400000005,
          0,
          0.16095510000000002,
          0,
          0.17812364400000003,
          0.303310944,
          0.46712746800000005,
          0.24536710800000003,
          0.32191020000000004,
          0.38271546,
          0.32548698000000004,
          0,
          0.24465175200000006,
          0.254666736,
          0.22390642800000002,
          0.17454686400000002,
          0.042206004000000005,
          0.20101503600000004,
          0,
          0.16095510000000002,
          0,
          0.18026971200000003,
          0.001430712,
          0,
          0.151655472,
          0,
          0.16095510000000002,
          0,
          0.09657306000000002,
          0,
          0.172400796,
          0.154516896,
          0,
          0.145217268,
          0.15952438800000002,
          0.004292136,
          0.145217268,
          0.020029968000000002,
          0.148078692,
          0.15523225200000002,
          0.062235972,
          0.11803374000000001,
          0.18384649200000003,
          0.13591764,
          0.034337088,
          0.19171540800000003,
          0,
          0.15880903200000002,
          0.22176036000000002,
          0.08083522800000001,
          0.17526222,
          0,
          0.062235972,
          0.123041232,
          0.0064382039999999995,
          0.16381652400000005,
          0.02146068,
          0.12232587600000003,
          0.036483156,
          0.15523225200000002,
          0,
          0.19314612000000003,
          0,
          0.18241578000000003,
          0,
          0.137348352,
          0,
          0.180985068,
          0,
          0.141640488,
          0,
          0.17812364400000003,
          0,
          0.17526222,
          0,
          0.09228092400000001,
          0.051505631999999996,
          0.1430712,
          0,
          0.152370828,
          0,
          0.140209776,
          0.169539372,
          0,
          0.16882401600000002,
          0.138063708,
          0,
          0.15094011599999999,
          0.17669293200000002,
          0.020029968000000002,
          0.15308618400000001,
          0.19171540800000003,
          0.091565568,
          0.073681668,
          0.183131136,
          0,
          0.15880903200000002,
          0,
          0.16167045600000002,
          0,
          0.16238581200000002,
          0,
          0.50790276,
          0.19386147600000003,
          0.36340084800000005,
          0.27255063600000007,
          0.284711688,
          0.27541206,
          0.256812804,
          0.24679782,
          0.15952438800000002,
          0.09228092400000001,
          0.18813862800000003,
          0.22462178400000002,
          0.23320605600000002,
          0.17669293200000002,
          0.040059936000000004,
          0.19314612000000003,
          0.13520228400000003,
          0,
          0.18599256000000003,
          0.102295908,
          0,
          0,
          0,
          0,
          0,
          0,
          0,
          0,
          0,
          0,
          0,
          0,
          0,
          0,
          0,
          0,
          0,
          0.16238581200000002,
          0,
          0.175977576,
          0.188853984,
          0.0178839,
          0.177408288,
          0.547962696,
          0.268973856,
          0.24465175200000006,
          0.303310944,
          0.23392141200000005,
          0.2503746,
          0.10658804399999999,
          0.175977576,
          0,
          0,
          0,
          0,
          0,
          0,
          0.16453188000000002,
          0,
          0.30974914800000003,
          0.007868916,
          0.15809367600000002,
          0,
          0,
          0,
          0,
          0,
          0,
          0.05007492000000001,
          0.005722848,
          0,
          0
         ]
        }
       ],
       "layout": {
        "template": {
         "data": {
          "bar": [
           {
            "error_x": {
             "color": "#2a3f5f"
            },
            "error_y": {
             "color": "#2a3f5f"
            },
            "marker": {
             "line": {
              "color": "white",
              "width": 0.5
             },
             "pattern": {
              "fillmode": "overlay",
              "size": 10,
              "solidity": 0.2
             }
            },
            "type": "bar"
           }
          ],
          "barpolar": [
           {
            "marker": {
             "line": {
              "color": "white",
              "width": 0.5
             },
             "pattern": {
              "fillmode": "overlay",
              "size": 10,
              "solidity": 0.2
             }
            },
            "type": "barpolar"
           }
          ],
          "carpet": [
           {
            "aaxis": {
             "endlinecolor": "#2a3f5f",
             "gridcolor": "#C8D4E3",
             "linecolor": "#C8D4E3",
             "minorgridcolor": "#C8D4E3",
             "startlinecolor": "#2a3f5f"
            },
            "baxis": {
             "endlinecolor": "#2a3f5f",
             "gridcolor": "#C8D4E3",
             "linecolor": "#C8D4E3",
             "minorgridcolor": "#C8D4E3",
             "startlinecolor": "#2a3f5f"
            },
            "type": "carpet"
           }
          ],
          "choropleth": [
           {
            "colorbar": {
             "outlinewidth": 0,
             "ticks": ""
            },
            "type": "choropleth"
           }
          ],
          "contour": [
           {
            "colorbar": {
             "outlinewidth": 0,
             "ticks": ""
            },
            "colorscale": [
             [
              0,
              "#0d0887"
             ],
             [
              0.1111111111111111,
              "#46039f"
             ],
             [
              0.2222222222222222,
              "#7201a8"
             ],
             [
              0.3333333333333333,
              "#9c179e"
             ],
             [
              0.4444444444444444,
              "#bd3786"
             ],
             [
              0.5555555555555556,
              "#d8576b"
             ],
             [
              0.6666666666666666,
              "#ed7953"
             ],
             [
              0.7777777777777778,
              "#fb9f3a"
             ],
             [
              0.8888888888888888,
              "#fdca26"
             ],
             [
              1,
              "#f0f921"
             ]
            ],
            "type": "contour"
           }
          ],
          "contourcarpet": [
           {
            "colorbar": {
             "outlinewidth": 0,
             "ticks": ""
            },
            "type": "contourcarpet"
           }
          ],
          "heatmap": [
           {
            "colorbar": {
             "outlinewidth": 0,
             "ticks": ""
            },
            "colorscale": [
             [
              0,
              "#0d0887"
             ],
             [
              0.1111111111111111,
              "#46039f"
             ],
             [
              0.2222222222222222,
              "#7201a8"
             ],
             [
              0.3333333333333333,
              "#9c179e"
             ],
             [
              0.4444444444444444,
              "#bd3786"
             ],
             [
              0.5555555555555556,
              "#d8576b"
             ],
             [
              0.6666666666666666,
              "#ed7953"
             ],
             [
              0.7777777777777778,
              "#fb9f3a"
             ],
             [
              0.8888888888888888,
              "#fdca26"
             ],
             [
              1,
              "#f0f921"
             ]
            ],
            "type": "heatmap"
           }
          ],
          "heatmapgl": [
           {
            "colorbar": {
             "outlinewidth": 0,
             "ticks": ""
            },
            "colorscale": [
             [
              0,
              "#0d0887"
             ],
             [
              0.1111111111111111,
              "#46039f"
             ],
             [
              0.2222222222222222,
              "#7201a8"
             ],
             [
              0.3333333333333333,
              "#9c179e"
             ],
             [
              0.4444444444444444,
              "#bd3786"
             ],
             [
              0.5555555555555556,
              "#d8576b"
             ],
             [
              0.6666666666666666,
              "#ed7953"
             ],
             [
              0.7777777777777778,
              "#fb9f3a"
             ],
             [
              0.8888888888888888,
              "#fdca26"
             ],
             [
              1,
              "#f0f921"
             ]
            ],
            "type": "heatmapgl"
           }
          ],
          "histogram": [
           {
            "marker": {
             "pattern": {
              "fillmode": "overlay",
              "size": 10,
              "solidity": 0.2
             }
            },
            "type": "histogram"
           }
          ],
          "histogram2d": [
           {
            "colorbar": {
             "outlinewidth": 0,
             "ticks": ""
            },
            "colorscale": [
             [
              0,
              "#0d0887"
             ],
             [
              0.1111111111111111,
              "#46039f"
             ],
             [
              0.2222222222222222,
              "#7201a8"
             ],
             [
              0.3333333333333333,
              "#9c179e"
             ],
             [
              0.4444444444444444,
              "#bd3786"
             ],
             [
              0.5555555555555556,
              "#d8576b"
             ],
             [
              0.6666666666666666,
              "#ed7953"
             ],
             [
              0.7777777777777778,
              "#fb9f3a"
             ],
             [
              0.8888888888888888,
              "#fdca26"
             ],
             [
              1,
              "#f0f921"
             ]
            ],
            "type": "histogram2d"
           }
          ],
          "histogram2dcontour": [
           {
            "colorbar": {
             "outlinewidth": 0,
             "ticks": ""
            },
            "colorscale": [
             [
              0,
              "#0d0887"
             ],
             [
              0.1111111111111111,
              "#46039f"
             ],
             [
              0.2222222222222222,
              "#7201a8"
             ],
             [
              0.3333333333333333,
              "#9c179e"
             ],
             [
              0.4444444444444444,
              "#bd3786"
             ],
             [
              0.5555555555555556,
              "#d8576b"
             ],
             [
              0.6666666666666666,
              "#ed7953"
             ],
             [
              0.7777777777777778,
              "#fb9f3a"
             ],
             [
              0.8888888888888888,
              "#fdca26"
             ],
             [
              1,
              "#f0f921"
             ]
            ],
            "type": "histogram2dcontour"
           }
          ],
          "mesh3d": [
           {
            "colorbar": {
             "outlinewidth": 0,
             "ticks": ""
            },
            "type": "mesh3d"
           }
          ],
          "parcoords": [
           {
            "line": {
             "colorbar": {
              "outlinewidth": 0,
              "ticks": ""
             }
            },
            "type": "parcoords"
           }
          ],
          "pie": [
           {
            "automargin": true,
            "type": "pie"
           }
          ],
          "scatter": [
           {
            "fillpattern": {
             "fillmode": "overlay",
             "size": 10,
             "solidity": 0.2
            },
            "type": "scatter"
           }
          ],
          "scatter3d": [
           {
            "line": {
             "colorbar": {
              "outlinewidth": 0,
              "ticks": ""
             }
            },
            "marker": {
             "colorbar": {
              "outlinewidth": 0,
              "ticks": ""
             }
            },
            "type": "scatter3d"
           }
          ],
          "scattercarpet": [
           {
            "marker": {
             "colorbar": {
              "outlinewidth": 0,
              "ticks": ""
             }
            },
            "type": "scattercarpet"
           }
          ],
          "scattergeo": [
           {
            "marker": {
             "colorbar": {
              "outlinewidth": 0,
              "ticks": ""
             }
            },
            "type": "scattergeo"
           }
          ],
          "scattergl": [
           {
            "marker": {
             "colorbar": {
              "outlinewidth": 0,
              "ticks": ""
             }
            },
            "type": "scattergl"
           }
          ],
          "scattermapbox": [
           {
            "marker": {
             "colorbar": {
              "outlinewidth": 0,
              "ticks": ""
             }
            },
            "type": "scattermapbox"
           }
          ],
          "scatterpolar": [
           {
            "marker": {
             "colorbar": {
              "outlinewidth": 0,
              "ticks": ""
             }
            },
            "type": "scatterpolar"
           }
          ],
          "scatterpolargl": [
           {
            "marker": {
             "colorbar": {
              "outlinewidth": 0,
              "ticks": ""
             }
            },
            "type": "scatterpolargl"
           }
          ],
          "scatterternary": [
           {
            "marker": {
             "colorbar": {
              "outlinewidth": 0,
              "ticks": ""
             }
            },
            "type": "scatterternary"
           }
          ],
          "surface": [
           {
            "colorbar": {
             "outlinewidth": 0,
             "ticks": ""
            },
            "colorscale": [
             [
              0,
              "#0d0887"
             ],
             [
              0.1111111111111111,
              "#46039f"
             ],
             [
              0.2222222222222222,
              "#7201a8"
             ],
             [
              0.3333333333333333,
              "#9c179e"
             ],
             [
              0.4444444444444444,
              "#bd3786"
             ],
             [
              0.5555555555555556,
              "#d8576b"
             ],
             [
              0.6666666666666666,
              "#ed7953"
             ],
             [
              0.7777777777777778,
              "#fb9f3a"
             ],
             [
              0.8888888888888888,
              "#fdca26"
             ],
             [
              1,
              "#f0f921"
             ]
            ],
            "type": "surface"
           }
          ],
          "table": [
           {
            "cells": {
             "fill": {
              "color": "#EBF0F8"
             },
             "line": {
              "color": "white"
             }
            },
            "header": {
             "fill": {
              "color": "#C8D4E3"
             },
             "line": {
              "color": "white"
             }
            },
            "type": "table"
           }
          ]
         },
         "layout": {
          "annotationdefaults": {
           "arrowcolor": "#2a3f5f",
           "arrowhead": 0,
           "arrowwidth": 1
          },
          "autotypenumbers": "strict",
          "coloraxis": {
           "colorbar": {
            "outlinewidth": 0,
            "ticks": ""
           }
          },
          "colorscale": {
           "diverging": [
            [
             0,
             "#8e0152"
            ],
            [
             0.1,
             "#c51b7d"
            ],
            [
             0.2,
             "#de77ae"
            ],
            [
             0.3,
             "#f1b6da"
            ],
            [
             0.4,
             "#fde0ef"
            ],
            [
             0.5,
             "#f7f7f7"
            ],
            [
             0.6,
             "#e6f5d0"
            ],
            [
             0.7,
             "#b8e186"
            ],
            [
             0.8,
             "#7fbc41"
            ],
            [
             0.9,
             "#4d9221"
            ],
            [
             1,
             "#276419"
            ]
           ],
           "sequential": [
            [
             0,
             "#0d0887"
            ],
            [
             0.1111111111111111,
             "#46039f"
            ],
            [
             0.2222222222222222,
             "#7201a8"
            ],
            [
             0.3333333333333333,
             "#9c179e"
            ],
            [
             0.4444444444444444,
             "#bd3786"
            ],
            [
             0.5555555555555556,
             "#d8576b"
            ],
            [
             0.6666666666666666,
             "#ed7953"
            ],
            [
             0.7777777777777778,
             "#fb9f3a"
            ],
            [
             0.8888888888888888,
             "#fdca26"
            ],
            [
             1,
             "#f0f921"
            ]
           ],
           "sequentialminus": [
            [
             0,
             "#0d0887"
            ],
            [
             0.1111111111111111,
             "#46039f"
            ],
            [
             0.2222222222222222,
             "#7201a8"
            ],
            [
             0.3333333333333333,
             "#9c179e"
            ],
            [
             0.4444444444444444,
             "#bd3786"
            ],
            [
             0.5555555555555556,
             "#d8576b"
            ],
            [
             0.6666666666666666,
             "#ed7953"
            ],
            [
             0.7777777777777778,
             "#fb9f3a"
            ],
            [
             0.8888888888888888,
             "#fdca26"
            ],
            [
             1,
             "#f0f921"
            ]
           ]
          },
          "colorway": [
           "#636efa",
           "#EF553B",
           "#00cc96",
           "#ab63fa",
           "#FFA15A",
           "#19d3f3",
           "#FF6692",
           "#B6E880",
           "#FF97FF",
           "#FECB52"
          ],
          "font": {
           "color": "#2a3f5f"
          },
          "geo": {
           "bgcolor": "white",
           "lakecolor": "white",
           "landcolor": "white",
           "showlakes": true,
           "showland": true,
           "subunitcolor": "#C8D4E3"
          },
          "hoverlabel": {
           "align": "left"
          },
          "hovermode": "closest",
          "mapbox": {
           "style": "light"
          },
          "paper_bgcolor": "white",
          "plot_bgcolor": "white",
          "polar": {
           "angularaxis": {
            "gridcolor": "#EBF0F8",
            "linecolor": "#EBF0F8",
            "ticks": ""
           },
           "bgcolor": "white",
           "radialaxis": {
            "gridcolor": "#EBF0F8",
            "linecolor": "#EBF0F8",
            "ticks": ""
           }
          },
          "scene": {
           "xaxis": {
            "backgroundcolor": "white",
            "gridcolor": "#DFE8F3",
            "gridwidth": 2,
            "linecolor": "#EBF0F8",
            "showbackground": true,
            "ticks": "",
            "zerolinecolor": "#EBF0F8"
           },
           "yaxis": {
            "backgroundcolor": "white",
            "gridcolor": "#DFE8F3",
            "gridwidth": 2,
            "linecolor": "#EBF0F8",
            "showbackground": true,
            "ticks": "",
            "zerolinecolor": "#EBF0F8"
           },
           "zaxis": {
            "backgroundcolor": "white",
            "gridcolor": "#DFE8F3",
            "gridwidth": 2,
            "linecolor": "#EBF0F8",
            "showbackground": true,
            "ticks": "",
            "zerolinecolor": "#EBF0F8"
           }
          },
          "shapedefaults": {
           "line": {
            "color": "#2a3f5f"
           }
          },
          "ternary": {
           "aaxis": {
            "gridcolor": "#DFE8F3",
            "linecolor": "#A2B1C6",
            "ticks": ""
           },
           "baxis": {
            "gridcolor": "#DFE8F3",
            "linecolor": "#A2B1C6",
            "ticks": ""
           },
           "bgcolor": "white",
           "caxis": {
            "gridcolor": "#DFE8F3",
            "linecolor": "#A2B1C6",
            "ticks": ""
           }
          },
          "title": {
           "x": 0.05
          },
          "xaxis": {
           "automargin": true,
           "gridcolor": "#EBF0F8",
           "linecolor": "#EBF0F8",
           "ticks": "",
           "title": {
            "standoff": 15
           },
           "zerolinecolor": "#EBF0F8",
           "zerolinewidth": 2
          },
          "yaxis": {
           "automargin": true,
           "gridcolor": "#EBF0F8",
           "linecolor": "#EBF0F8",
           "ticks": "",
           "title": {
            "standoff": 15
           },
           "zerolinecolor": "#EBF0F8",
           "zerolinewidth": 2
          }
         }
        },
        "title": {
         "text": "Energy Cost (£) Over Time"
        },
        "xaxis": {
         "tickangle": 45,
         "title": {
          "text": "Time Interval (Start)"
         }
        },
        "yaxis": {
         "title": {
          "text": "Cost (£)"
         }
        }
       }
      }
     },
     "metadata": {},
     "output_type": "display_data"
    }
   ],
   "source": [
    "no_of_days = 4\n",
    "\n",
    "df_summary = df_both.groupby([\"day\", \"weekday\"]).agg(\n",
    "    count=(\"gas_consumption\", \"count\"),  # Counting records in each group\n",
    "    mean_gas=(\"gas_consumption\", \"mean\"),\n",
    "    total_gas=(\"gas_consumption\", \"sum\"),\n",
    "    mean_electricity=(\"electricity_consumption\", \"mean\"),\n",
    "    total_electricity=(\"electricity_consumption\", \"sum\")\n",
    ").reset_index().sort_values(by=\"day\", ascending=False)\n",
    "\n",
    "list_days = df_summary[0:no_of_days]['day'].to_list()\n",
    "print(list_days)\n",
    "\n",
    "# display chart\n",
    "df_week = df_both[df_both['day'].isin(list_days)].copy()\n",
    "# convert to costs\n",
    "df_week['gas_cost'] = df_week['gas_consumption'] * 11.16 * 0.0641\n",
    "df_week['electricity_cost'] = df_week['electricity_consumption'] * .2606\n",
    "\n",
    "fig = get_plot(df_week, 'both', 'cost')\n",
    "fig.show()"
   ]
  },
  {
   "cell_type": "code",
   "execution_count": 75,
   "metadata": {},
   "outputs": [
    {
     "data": {
      "text/html": [
       "<div>\n",
       "<style scoped>\n",
       "    .dataframe tbody tr th:only-of-type {\n",
       "        vertical-align: middle;\n",
       "    }\n",
       "\n",
       "    .dataframe tbody tr th {\n",
       "        vertical-align: top;\n",
       "    }\n",
       "\n",
       "    .dataframe thead th {\n",
       "        text-align: right;\n",
       "    }\n",
       "</style>\n",
       "<table border=\"1\" class=\"dataframe\">\n",
       "  <thead>\n",
       "    <tr style=\"text-align: right;\">\n",
       "      <th></th>\n",
       "      <th>day</th>\n",
       "      <th>weekday</th>\n",
       "      <th>count</th>\n",
       "      <th>mean_gas</th>\n",
       "      <th>total_gas</th>\n",
       "      <th>cost_gas</th>\n",
       "      <th>mean_electricity</th>\n",
       "      <th>total_electricity</th>\n",
       "      <th>cost_electricity</th>\n",
       "    </tr>\n",
       "  </thead>\n",
       "  <tbody>\n",
       "    <tr>\n",
       "      <th>3</th>\n",
       "      <td>2025-02-14</td>\n",
       "      <td>Fri</td>\n",
       "      <td>48</td>\n",
       "      <td>0.103396</td>\n",
       "      <td>4.963</td>\n",
       "      <td>3.550312</td>\n",
       "      <td>0.093896</td>\n",
       "      <td>4.507</td>\n",
       "      <td>1.174524</td>\n",
       "    </tr>\n",
       "    <tr>\n",
       "      <th>2</th>\n",
       "      <td>2025-02-13</td>\n",
       "      <td>Thu</td>\n",
       "      <td>48</td>\n",
       "      <td>0.187125</td>\n",
       "      <td>8.982</td>\n",
       "      <td>6.425328</td>\n",
       "      <td>0.129000</td>\n",
       "      <td>6.192</td>\n",
       "      <td>1.613635</td>\n",
       "    </tr>\n",
       "    <tr>\n",
       "      <th>1</th>\n",
       "      <td>2025-02-12</td>\n",
       "      <td>Wed</td>\n",
       "      <td>48</td>\n",
       "      <td>0.134958</td>\n",
       "      <td>6.478</td>\n",
       "      <td>4.634076</td>\n",
       "      <td>0.111125</td>\n",
       "      <td>5.334</td>\n",
       "      <td>1.390040</td>\n",
       "    </tr>\n",
       "    <tr>\n",
       "      <th>0</th>\n",
       "      <td>2025-02-11</td>\n",
       "      <td>Tue</td>\n",
       "      <td>48</td>\n",
       "      <td>0.130000</td>\n",
       "      <td>6.240</td>\n",
       "      <td>4.463821</td>\n",
       "      <td>0.099917</td>\n",
       "      <td>4.796</td>\n",
       "      <td>1.249838</td>\n",
       "    </tr>\n",
       "  </tbody>\n",
       "</table>\n",
       "</div>"
      ],
      "text/plain": [
       "          day weekday  count  mean_gas  total_gas  cost_gas  mean_electricity  \\\n",
       "3  2025-02-14     Fri     48  0.103396      4.963  3.550312          0.093896   \n",
       "2  2025-02-13     Thu     48  0.187125      8.982  6.425328          0.129000   \n",
       "1  2025-02-12     Wed     48  0.134958      6.478  4.634076          0.111125   \n",
       "0  2025-02-11     Tue     48  0.130000      6.240  4.463821          0.099917   \n",
       "\n",
       "   total_electricity  cost_electricity  \n",
       "3              4.507          1.174524  \n",
       "2              6.192          1.613635  \n",
       "1              5.334          1.390040  \n",
       "0              4.796          1.249838  "
      ]
     },
     "execution_count": 75,
     "metadata": {},
     "output_type": "execute_result"
    }
   ],
   "source": [
    "df_week.groupby([\"day\", \"weekday\"]).agg(\n",
    "    count=(\"gas_consumption\", \"count\"),  # Counting records in each group\n",
    "    mean_gas=(\"gas_consumption\", \"mean\"),\n",
    "    total_gas=(\"gas_consumption\", \"sum\"),\n",
    "    cost_gas=(\"gas_cost\", \"sum\"),\n",
    "    mean_electricity=(\"electricity_consumption\", \"mean\"),\n",
    "    total_electricity=(\"electricity_consumption\", \"sum\"),\n",
    "    cost_electricity=(\"electricity_cost\", \"sum\")\n",
    ").reset_index().sort_values(by=\"day\", ascending=False)\n",
    "\n"
   ]
  },
  {
   "cell_type": "markdown",
   "metadata": {},
   "source": [
    "# Testing"
   ]
  }
 ],
 "metadata": {
  "kernelspec": {
   "display_name": "Python 3",
   "language": "python",
   "name": "python3"
  },
  "language_info": {
   "codemirror_mode": {
    "name": "ipython",
    "version": 3
   },
   "file_extension": ".py",
   "mimetype": "text/x-python",
   "name": "python",
   "nbconvert_exporter": "python",
   "pygments_lexer": "ipython3",
   "version": "3.12.5"
  }
 },
 "nbformat": 4,
 "nbformat_minor": 2
}
